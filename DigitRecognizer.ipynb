{
  "cells": [
    {
      "cell_type": "markdown",
      "metadata": {
        "id": "Sx-gw-eZX406"
      },
      "source": [
        "# Creating Digit recognizer\n",
        "\n",
        "The scope of work for this research is using different techniques to reach place 100 or better in leaderboard in Kaggle competition https://www.kaggle.com/c/digit-recognizer/leaderboard . The score needed to do that is around 0.99650 accuracy. \n",
        "\n",
        "Iterations summary\n",
        "1.   Iteration\n",
        "\n",
        " > I started by following this guide https://www.tensorflow.org/tutorials/quickstart/beginner as it wasn't sophisticated enough, but yet giving a good base. I was able to achieve accuracy of a 0.97439 and reaching the place 1057 in the competition leaderboard, after increasing training to 10 epochs\n",
        "\n",
        "2.   Iteration\n",
        " > In this iteration I plan to use some of the techniques I'm familiar with to increase the result.\n",
        "\n",
        "\n",
        "\n",
        "\n"
      ]
    },
    {
      "cell_type": "markdown",
      "metadata": {
        "id": "p1Rq_5mrd71C"
      },
      "source": [
        "# Iteration 2 overview\n",
        "\n",
        "\n",
        "1.   Investigate what numbers are getting missed in the inferences\n",
        "2.   Draw the plots of variance and overfitting from Andrew Ng course\n",
        "3. Investigate different models\n",
        "4. Tune the model\n",
        "5. Investigate data augmentation  \n",
        "\n"
      ]
    },
    {
      "cell_type": "markdown",
      "metadata": {
        "id": "XN73XFnSMvI9"
      },
      "source": [
        "# Setup"
      ]
    },
    {
      "cell_type": "code",
      "execution_count": 18,
      "metadata": {
        "colab": {
          "base_uri": "https://localhost:8080/"
        },
        "id": "729QZk5-EQbQ",
        "outputId": "94db7232-8b7c-45f0-a353-10ce449a105d"
      },
      "outputs": [
        {
          "name": "stdout",
          "output_type": "stream",
          "text": [
            "TensorFlow version: 2.5.0\n"
          ]
        }
      ],
      "source": [
        "import tensorflow as tf\n",
        "print(\"TensorFlow version:\", tf.__version__)\n",
        "tf.config.run_functions_eagerly(True)\n",
        "\n",
        "import pandas as pd\n",
        "\n",
        "import numpy as np\n",
        "import csv\n",
        "import matplotlib.pyplot as plt\n",
        "\n",
        "from sklearn.neighbors import KNeighborsClassifier\n",
        "from sklearn.model_selection import GridSearchCV"
      ]
    },
    {
      "cell_type": "markdown",
      "metadata": {
        "id": "kHCWTPttNYzj"
      },
      "source": [
        "# Get the data"
      ]
    },
    {
      "cell_type": "code",
      "execution_count": 3,
      "metadata": {
        "id": "c97RKidsM5v2"
      },
      "outputs": [],
      "source": [
        "train = pd.read_csv('data/mnist/train.csv')\n",
        "test = pd.read_csv('data/mnist/test.csv')\n"
      ]
    },
    {
      "cell_type": "markdown",
      "metadata": {
        "id": "4Gk3iOTiN1SD"
      },
      "source": [
        "# Check the data"
      ]
    },
    {
      "cell_type": "code",
      "execution_count": 4,
      "metadata": {
        "colab": {
          "base_uri": "https://localhost:8080/",
          "height": 299
        },
        "id": "ru6KC9LDN82W",
        "outputId": "d3afa2de-0d2c-4c03-e24b-b9b1f34eeb96"
      },
      "outputs": [
        {
          "data": {
            "text/html": [
              "<div>\n",
              "<style scoped>\n",
              "    .dataframe tbody tr th:only-of-type {\n",
              "        vertical-align: middle;\n",
              "    }\n",
              "\n",
              "    .dataframe tbody tr th {\n",
              "        vertical-align: top;\n",
              "    }\n",
              "\n",
              "    .dataframe thead th {\n",
              "        text-align: right;\n",
              "    }\n",
              "</style>\n",
              "<table border=\"1\" class=\"dataframe\">\n",
              "  <thead>\n",
              "    <tr style=\"text-align: right;\">\n",
              "      <th></th>\n",
              "      <th>label</th>\n",
              "      <th>pixel0</th>\n",
              "      <th>pixel1</th>\n",
              "      <th>pixel2</th>\n",
              "      <th>pixel3</th>\n",
              "      <th>pixel4</th>\n",
              "      <th>pixel5</th>\n",
              "      <th>pixel6</th>\n",
              "      <th>pixel7</th>\n",
              "      <th>pixel8</th>\n",
              "      <th>...</th>\n",
              "      <th>pixel774</th>\n",
              "      <th>pixel775</th>\n",
              "      <th>pixel776</th>\n",
              "      <th>pixel777</th>\n",
              "      <th>pixel778</th>\n",
              "      <th>pixel779</th>\n",
              "      <th>pixel780</th>\n",
              "      <th>pixel781</th>\n",
              "      <th>pixel782</th>\n",
              "      <th>pixel783</th>\n",
              "    </tr>\n",
              "  </thead>\n",
              "  <tbody>\n",
              "    <tr>\n",
              "      <th>0</th>\n",
              "      <td>1</td>\n",
              "      <td>0</td>\n",
              "      <td>0</td>\n",
              "      <td>0</td>\n",
              "      <td>0</td>\n",
              "      <td>0</td>\n",
              "      <td>0</td>\n",
              "      <td>0</td>\n",
              "      <td>0</td>\n",
              "      <td>0</td>\n",
              "      <td>...</td>\n",
              "      <td>0</td>\n",
              "      <td>0</td>\n",
              "      <td>0</td>\n",
              "      <td>0</td>\n",
              "      <td>0</td>\n",
              "      <td>0</td>\n",
              "      <td>0</td>\n",
              "      <td>0</td>\n",
              "      <td>0</td>\n",
              "      <td>0</td>\n",
              "    </tr>\n",
              "    <tr>\n",
              "      <th>1</th>\n",
              "      <td>0</td>\n",
              "      <td>0</td>\n",
              "      <td>0</td>\n",
              "      <td>0</td>\n",
              "      <td>0</td>\n",
              "      <td>0</td>\n",
              "      <td>0</td>\n",
              "      <td>0</td>\n",
              "      <td>0</td>\n",
              "      <td>0</td>\n",
              "      <td>...</td>\n",
              "      <td>0</td>\n",
              "      <td>0</td>\n",
              "      <td>0</td>\n",
              "      <td>0</td>\n",
              "      <td>0</td>\n",
              "      <td>0</td>\n",
              "      <td>0</td>\n",
              "      <td>0</td>\n",
              "      <td>0</td>\n",
              "      <td>0</td>\n",
              "    </tr>\n",
              "    <tr>\n",
              "      <th>2</th>\n",
              "      <td>1</td>\n",
              "      <td>0</td>\n",
              "      <td>0</td>\n",
              "      <td>0</td>\n",
              "      <td>0</td>\n",
              "      <td>0</td>\n",
              "      <td>0</td>\n",
              "      <td>0</td>\n",
              "      <td>0</td>\n",
              "      <td>0</td>\n",
              "      <td>...</td>\n",
              "      <td>0</td>\n",
              "      <td>0</td>\n",
              "      <td>0</td>\n",
              "      <td>0</td>\n",
              "      <td>0</td>\n",
              "      <td>0</td>\n",
              "      <td>0</td>\n",
              "      <td>0</td>\n",
              "      <td>0</td>\n",
              "      <td>0</td>\n",
              "    </tr>\n",
              "    <tr>\n",
              "      <th>3</th>\n",
              "      <td>4</td>\n",
              "      <td>0</td>\n",
              "      <td>0</td>\n",
              "      <td>0</td>\n",
              "      <td>0</td>\n",
              "      <td>0</td>\n",
              "      <td>0</td>\n",
              "      <td>0</td>\n",
              "      <td>0</td>\n",
              "      <td>0</td>\n",
              "      <td>...</td>\n",
              "      <td>0</td>\n",
              "      <td>0</td>\n",
              "      <td>0</td>\n",
              "      <td>0</td>\n",
              "      <td>0</td>\n",
              "      <td>0</td>\n",
              "      <td>0</td>\n",
              "      <td>0</td>\n",
              "      <td>0</td>\n",
              "      <td>0</td>\n",
              "    </tr>\n",
              "    <tr>\n",
              "      <th>4</th>\n",
              "      <td>0</td>\n",
              "      <td>0</td>\n",
              "      <td>0</td>\n",
              "      <td>0</td>\n",
              "      <td>0</td>\n",
              "      <td>0</td>\n",
              "      <td>0</td>\n",
              "      <td>0</td>\n",
              "      <td>0</td>\n",
              "      <td>0</td>\n",
              "      <td>...</td>\n",
              "      <td>0</td>\n",
              "      <td>0</td>\n",
              "      <td>0</td>\n",
              "      <td>0</td>\n",
              "      <td>0</td>\n",
              "      <td>0</td>\n",
              "      <td>0</td>\n",
              "      <td>0</td>\n",
              "      <td>0</td>\n",
              "      <td>0</td>\n",
              "    </tr>\n",
              "  </tbody>\n",
              "</table>\n",
              "<p>5 rows × 785 columns</p>\n",
              "</div>"
            ],
            "text/plain": [
              "   label  pixel0  pixel1  pixel2  pixel3  pixel4  pixel5  pixel6  pixel7  \\\n",
              "0      1       0       0       0       0       0       0       0       0   \n",
              "1      0       0       0       0       0       0       0       0       0   \n",
              "2      1       0       0       0       0       0       0       0       0   \n",
              "3      4       0       0       0       0       0       0       0       0   \n",
              "4      0       0       0       0       0       0       0       0       0   \n",
              "\n",
              "   pixel8  ...  pixel774  pixel775  pixel776  pixel777  pixel778  pixel779  \\\n",
              "0       0  ...         0         0         0         0         0         0   \n",
              "1       0  ...         0         0         0         0         0         0   \n",
              "2       0  ...         0         0         0         0         0         0   \n",
              "3       0  ...         0         0         0         0         0         0   \n",
              "4       0  ...         0         0         0         0         0         0   \n",
              "\n",
              "   pixel780  pixel781  pixel782  pixel783  \n",
              "0         0         0         0         0  \n",
              "1         0         0         0         0  \n",
              "2         0         0         0         0  \n",
              "3         0         0         0         0  \n",
              "4         0         0         0         0  \n",
              "\n",
              "[5 rows x 785 columns]"
            ]
          },
          "execution_count": 4,
          "metadata": {},
          "output_type": "execute_result"
        }
      ],
      "source": [
        "train.head()"
      ]
    },
    {
      "cell_type": "code",
      "execution_count": 5,
      "metadata": {
        "id": "I51L5i_V_9SE"
      },
      "outputs": [],
      "source": [
        "def show_digit(digit, dataset):\n",
        "  digit_data = dataset.iloc[digit]\n",
        "  # The first might be the label\n",
        "  if (len(digit_data) == 785):\n",
        "    digit_label = digit_data[0]\n",
        "    digit_image = digit_data[1:]\n",
        "  else:\n",
        "    digit_label = 'X'\n",
        "    digit_image = digit_data\n",
        "\n",
        "  \n",
        "  pixels = digit_image.values.reshape((28,28))\n",
        "  #pixels = np.array(pixels, dtype='uint8')\n",
        "\n",
        "  plt.title('Label is {label}'.format(label=digit_label))\n",
        "  plt.imshow(pixels, cmap='gray')\n",
        "  plt.show()"
      ]
    },
    {
      "cell_type": "markdown",
      "metadata": {
        "id": "-8jCG3RtcUIt"
      },
      "source": [
        "# Preparing training and validation splits "
      ]
    },
    {
      "cell_type": "code",
      "execution_count": 6,
      "metadata": {
        "colab": {
          "base_uri": "https://localhost:8080/",
          "height": 299
        },
        "id": "ZyiifOIucag0",
        "outputId": "1ad0a789-6a87-49b2-d00d-67a34be256f5"
      },
      "outputs": [
        {
          "data": {
            "text/html": [
              "<div>\n",
              "<style scoped>\n",
              "    .dataframe tbody tr th:only-of-type {\n",
              "        vertical-align: middle;\n",
              "    }\n",
              "\n",
              "    .dataframe tbody tr th {\n",
              "        vertical-align: top;\n",
              "    }\n",
              "\n",
              "    .dataframe thead th {\n",
              "        text-align: right;\n",
              "    }\n",
              "</style>\n",
              "<table border=\"1\" class=\"dataframe\">\n",
              "  <thead>\n",
              "    <tr style=\"text-align: right;\">\n",
              "      <th></th>\n",
              "      <th>pixel0</th>\n",
              "      <th>pixel1</th>\n",
              "      <th>pixel2</th>\n",
              "      <th>pixel3</th>\n",
              "      <th>pixel4</th>\n",
              "      <th>pixel5</th>\n",
              "      <th>pixel6</th>\n",
              "      <th>pixel7</th>\n",
              "      <th>pixel8</th>\n",
              "      <th>pixel9</th>\n",
              "      <th>...</th>\n",
              "      <th>pixel774</th>\n",
              "      <th>pixel775</th>\n",
              "      <th>pixel776</th>\n",
              "      <th>pixel777</th>\n",
              "      <th>pixel778</th>\n",
              "      <th>pixel779</th>\n",
              "      <th>pixel780</th>\n",
              "      <th>pixel781</th>\n",
              "      <th>pixel782</th>\n",
              "      <th>pixel783</th>\n",
              "    </tr>\n",
              "  </thead>\n",
              "  <tbody>\n",
              "    <tr>\n",
              "      <th>0</th>\n",
              "      <td>0</td>\n",
              "      <td>0</td>\n",
              "      <td>0</td>\n",
              "      <td>0</td>\n",
              "      <td>0</td>\n",
              "      <td>0</td>\n",
              "      <td>0</td>\n",
              "      <td>0</td>\n",
              "      <td>0</td>\n",
              "      <td>0</td>\n",
              "      <td>...</td>\n",
              "      <td>0</td>\n",
              "      <td>0</td>\n",
              "      <td>0</td>\n",
              "      <td>0</td>\n",
              "      <td>0</td>\n",
              "      <td>0</td>\n",
              "      <td>0</td>\n",
              "      <td>0</td>\n",
              "      <td>0</td>\n",
              "      <td>0</td>\n",
              "    </tr>\n",
              "    <tr>\n",
              "      <th>1</th>\n",
              "      <td>0</td>\n",
              "      <td>0</td>\n",
              "      <td>0</td>\n",
              "      <td>0</td>\n",
              "      <td>0</td>\n",
              "      <td>0</td>\n",
              "      <td>0</td>\n",
              "      <td>0</td>\n",
              "      <td>0</td>\n",
              "      <td>0</td>\n",
              "      <td>...</td>\n",
              "      <td>0</td>\n",
              "      <td>0</td>\n",
              "      <td>0</td>\n",
              "      <td>0</td>\n",
              "      <td>0</td>\n",
              "      <td>0</td>\n",
              "      <td>0</td>\n",
              "      <td>0</td>\n",
              "      <td>0</td>\n",
              "      <td>0</td>\n",
              "    </tr>\n",
              "    <tr>\n",
              "      <th>2</th>\n",
              "      <td>0</td>\n",
              "      <td>0</td>\n",
              "      <td>0</td>\n",
              "      <td>0</td>\n",
              "      <td>0</td>\n",
              "      <td>0</td>\n",
              "      <td>0</td>\n",
              "      <td>0</td>\n",
              "      <td>0</td>\n",
              "      <td>0</td>\n",
              "      <td>...</td>\n",
              "      <td>0</td>\n",
              "      <td>0</td>\n",
              "      <td>0</td>\n",
              "      <td>0</td>\n",
              "      <td>0</td>\n",
              "      <td>0</td>\n",
              "      <td>0</td>\n",
              "      <td>0</td>\n",
              "      <td>0</td>\n",
              "      <td>0</td>\n",
              "    </tr>\n",
              "    <tr>\n",
              "      <th>3</th>\n",
              "      <td>0</td>\n",
              "      <td>0</td>\n",
              "      <td>0</td>\n",
              "      <td>0</td>\n",
              "      <td>0</td>\n",
              "      <td>0</td>\n",
              "      <td>0</td>\n",
              "      <td>0</td>\n",
              "      <td>0</td>\n",
              "      <td>0</td>\n",
              "      <td>...</td>\n",
              "      <td>0</td>\n",
              "      <td>0</td>\n",
              "      <td>0</td>\n",
              "      <td>0</td>\n",
              "      <td>0</td>\n",
              "      <td>0</td>\n",
              "      <td>0</td>\n",
              "      <td>0</td>\n",
              "      <td>0</td>\n",
              "      <td>0</td>\n",
              "    </tr>\n",
              "    <tr>\n",
              "      <th>4</th>\n",
              "      <td>0</td>\n",
              "      <td>0</td>\n",
              "      <td>0</td>\n",
              "      <td>0</td>\n",
              "      <td>0</td>\n",
              "      <td>0</td>\n",
              "      <td>0</td>\n",
              "      <td>0</td>\n",
              "      <td>0</td>\n",
              "      <td>0</td>\n",
              "      <td>...</td>\n",
              "      <td>0</td>\n",
              "      <td>0</td>\n",
              "      <td>0</td>\n",
              "      <td>0</td>\n",
              "      <td>0</td>\n",
              "      <td>0</td>\n",
              "      <td>0</td>\n",
              "      <td>0</td>\n",
              "      <td>0</td>\n",
              "      <td>0</td>\n",
              "    </tr>\n",
              "  </tbody>\n",
              "</table>\n",
              "<p>5 rows × 784 columns</p>\n",
              "</div>"
            ],
            "text/plain": [
              "   pixel0  pixel1  pixel2  pixel3  pixel4  pixel5  pixel6  pixel7  pixel8  \\\n",
              "0       0       0       0       0       0       0       0       0       0   \n",
              "1       0       0       0       0       0       0       0       0       0   \n",
              "2       0       0       0       0       0       0       0       0       0   \n",
              "3       0       0       0       0       0       0       0       0       0   \n",
              "4       0       0       0       0       0       0       0       0       0   \n",
              "\n",
              "   pixel9  ...  pixel774  pixel775  pixel776  pixel777  pixel778  pixel779  \\\n",
              "0       0  ...         0         0         0         0         0         0   \n",
              "1       0  ...         0         0         0         0         0         0   \n",
              "2       0  ...         0         0         0         0         0         0   \n",
              "3       0  ...         0         0         0         0         0         0   \n",
              "4       0  ...         0         0         0         0         0         0   \n",
              "\n",
              "   pixel780  pixel781  pixel782  pixel783  \n",
              "0         0         0         0         0  \n",
              "1         0         0         0         0  \n",
              "2         0         0         0         0  \n",
              "3         0         0         0         0  \n",
              "4         0         0         0         0  \n",
              "\n",
              "[5 rows x 784 columns]"
            ]
          },
          "execution_count": 6,
          "metadata": {},
          "output_type": "execute_result"
        }
      ],
      "source": [
        "from sklearn.model_selection import train_test_split \n",
        "train_copy = train.copy()\n",
        "train_copy['label'].head()\n",
        "train_copy.iloc[:, 1:].head()"
      ]
    },
    {
      "cell_type": "code",
      "execution_count": 7,
      "metadata": {
        "id": "ozzpmNuXesyr"
      },
      "outputs": [],
      "source": [
        "x_train, x_validate, y_train, y_validate = train_test_split(train_copy.iloc[:, 1:], train_copy['label'], test_size=0.2, random_state=42)"
      ]
    },
    {
      "cell_type": "code",
      "execution_count": 8,
      "metadata": {
        "colab": {
          "base_uri": "https://localhost:8080/",
          "height": 283
        },
        "id": "3pCpH3wafuMr",
        "outputId": "5569ebc0-639e-418c-9692-685136108e2e"
      },
      "outputs": [
        {
          "data": {
            "text/plain": [
              "<BarContainer object of 10 artists>"
            ]
          },
          "execution_count": 8,
          "metadata": {},
          "output_type": "execute_result"
        },
        {
          "data": {
            "image/png": "[encoded data removed]",
            "text/plain": [
              "<Figure size 432x288 with 1 Axes>"
            ]
          },
          "metadata": {
            "needs_background": "light"
          },
          "output_type": "display_data"
        }
      ],
      "source": [
        "plt.bar(y_train.value_counts().index, y_train.value_counts().values)\n",
        "plt.bar(y_validate.value_counts().index, y_validate.value_counts().values)"
      ]
    },
    {
      "cell_type": "markdown",
      "metadata": {
        "id": "eIG28Aw1cJmW"
      },
      "source": [
        "# Rescaling"
      ]
    },
    {
      "cell_type": "code",
      "execution_count": 21,
      "metadata": {
        "colab": {
          "base_uri": "https://localhost:8080/"
        },
        "id": "DtTR3VAPZbwd",
        "outputId": "6f21758b-b950-4da0-f609-d451a3fcb3a9"
      },
      "outputs": [],
      "source": [
        "x_train, x_validate, x_test = x_train / 255.0, x_validate/255.0, x_validate / 255.0\n",
        "x_train_rolled = x_train.values.reshape(-1,28,28,1)\n",
        "x_validate_rolled = x_validate.values.reshape(-1,28,28,1)"
      ]
    },
    {
      "cell_type": "markdown",
      "metadata": {},
      "source": [
        "# DeepLearning"
      ]
    },
    {
      "cell_type": "markdown",
      "metadata": {
        "id": "oyxQx52MWzyL"
      },
      "source": [
        "## Building a model "
      ]
    },
    {
      "cell_type": "code",
      "execution_count": 10,
      "metadata": {
        "id": "kNbktZ9Ca4Qh"
      },
      "outputs": [
        {
          "name": "stdout",
          "output_type": "stream",
          "text": [
            "Metal device set to: Apple M1\n",
            "\n",
            "systemMemory: 16.00 GB\n",
            "maxCacheSize: 5.33 GB\n",
            "\n"
          ]
        },
        {
          "name": "stderr",
          "output_type": "stream",
          "text": [
            "2022-04-04 20:40:14.595295: I tensorflow/core/common_runtime/pluggable_device/pluggable_device_factory.cc:305] Could not identify NUMA node of platform GPU ID 0, defaulting to 0. Your kernel may not have been built with NUMA support.\n",
            "2022-04-04 20:40:14.595436: I tensorflow/core/common_runtime/pluggable_device/pluggable_device_factory.cc:271] Created TensorFlow device (/job:localhost/replica:0/task:0/device:GPU:0 with 0 MB memory) -> physical PluggableDevice (device: 0, name: METAL, pci bus id: <undefined>)\n"
          ]
        }
      ],
      "source": [
        "model = tf.keras.models.Sequential([\n",
        "                                    tf.keras.layers.Flatten(input_shape=(28, 28)),\n",
        "                                    tf.keras.layers.Dense(128, activation='relu'),\n",
        "                                    tf.keras.layers.Dropout(0.2),\n",
        "                                    tf.keras.layers.Dense(10)\n",
        "])"
      ]
    },
    {
      "cell_type": "code",
      "execution_count": 11,
      "metadata": {
        "colab": {
          "base_uri": "https://localhost:8080/"
        },
        "id": "yQvQkxOCP2Gr",
        "outputId": "72a37e38-cef0-47a7-9bf6-72dcea6362e3"
      },
      "outputs": [
        {
          "data": {
            "text/plain": [
              "(28, 28, 1)"
            ]
          },
          "execution_count": 11,
          "metadata": {},
          "output_type": "execute_result"
        }
      ],
      "source": [
        "inputs = (28, 28, 1)\n",
        "inputs"
      ]
    },
    {
      "cell_type": "code",
      "execution_count": 12,
      "metadata": {
        "colab": {
          "base_uri": "https://localhost:8080/"
        },
        "id": "1tYmHRRXOl1u",
        "outputId": "12b25172-c135-4627-e4ab-86c9c6557f06"
      },
      "outputs": [
        {
          "name": "stdout",
          "output_type": "stream",
          "text": [
            "Model: \"sequential_1\"\n",
            "_________________________________________________________________\n",
            "Layer (type)                 Output Shape              Param #   \n",
            "=================================================================\n",
            "conv2d (Conv2D)              (None, 22, 22, 48)        2400      \n",
            "_________________________________________________________________\n",
            "batch_normalization (BatchNo (None, 22, 22, 48)        192       \n",
            "_________________________________________________________________\n",
            "conv2d_1 (Conv2D)            (None, 16, 16, 96)        225888    \n",
            "_________________________________________________________________\n",
            "batch_normalization_1 (Batch (None, 16, 16, 96)        384       \n",
            "_________________________________________________________________\n",
            "conv2d_2 (Conv2D)            (None, 10, 10, 144)       677520    \n",
            "_________________________________________________________________\n",
            "batch_normalization_2 (Batch (None, 10, 10, 144)       576       \n",
            "_________________________________________________________________\n",
            "conv2d_3 (Conv2D)            (None, 4, 4, 192)         1354944   \n",
            "_________________________________________________________________\n",
            "batch_normalization_3 (Batch (None, 4, 4, 192)         768       \n",
            "_________________________________________________________________\n",
            "flatten_1 (Flatten)          (None, 3072)              0         \n",
            "_________________________________________________________________\n",
            "dense_2 (Dense)              (None, 10)                30730     \n",
            "_________________________________________________________________\n",
            "batch_normalization_4 (Batch (None, 10)                40        \n",
            "=================================================================\n",
            "Total params: 2,293,442\n",
            "Trainable params: 2,292,462\n",
            "Non-trainable params: 980\n",
            "_________________________________________________________________\n"
          ]
        }
      ],
      "source": [
        "model = tf.keras.models.Sequential()\n",
        "\n",
        "model.add(tf.keras.layers.Conv2D(\n",
        "    filters = 48,\n",
        "    kernel_size = (7,7),\n",
        "    activation = 'relu',\n",
        "    input_shape = inputs\n",
        "))\n",
        "model.add(tf.keras.layers.BatchNormalization())\n",
        "\n",
        "model.add(tf.keras.layers.Conv2D(\n",
        "    filters = 96,\n",
        "    kernel_size = (7,7),\n",
        "    activation = 'relu',\n",
        "    input_shape = inputs\n",
        "))\n",
        "\n",
        "model.add(tf.keras.layers.BatchNormalization())\n",
        "\n",
        "model.add(tf.keras.layers.Conv2D(\n",
        "    filters = 144,\n",
        "    kernel_size = (7,7),\n",
        "    activation = 'relu',\n",
        "    input_shape = inputs\n",
        "))\n",
        "\n",
        "model.add(tf.keras.layers.BatchNormalization())\n",
        "\n",
        "model.add(tf.keras.layers.Conv2D(\n",
        "    filters = 192,\n",
        "    kernel_size = (7,7),\n",
        "    activation = 'relu',\n",
        "    input_shape = inputs\n",
        "))\n",
        "\n",
        "model.add(tf.keras.layers.BatchNormalization())\n",
        "model.add(tf.keras.layers.Flatten())\n",
        "model.add(tf.keras.layers.Dense(\n",
        "    units = 10 \n",
        "))\n",
        "model.add(tf.keras.layers.BatchNormalization())\n",
        "\n",
        "model.summary()"
      ]
    },
    {
      "cell_type": "code",
      "execution_count": 13,
      "metadata": {
        "id": "RSkzdv8MD0tT"
      },
      "outputs": [],
      "source": [
        "loss_fn = tf.keras.losses.SparseCategoricalCrossentropy(from_logits=True)"
      ]
    },
    {
      "cell_type": "code",
      "execution_count": 14,
      "metadata": {
        "id": "9foNKHzTD2Vo"
      },
      "outputs": [],
      "source": [
        "model.compile(optimizer='adam',\n",
        "              loss=loss_fn,\n",
        "              metrics=['accuracy'])"
      ]
    },
    {
      "cell_type": "markdown",
      "metadata": {
        "id": "fvD67-oLrarr"
      },
      "source": [
        "## Training a deep learning model from research paper"
      ]
    },
    {
      "cell_type": "code",
      "execution_count": 19,
      "metadata": {
        "colab": {
          "base_uri": "https://localhost:8080/"
        },
        "id": "y7suUbJXVLqP",
        "outputId": "6f2917d3-797d-4ebf-f65f-1c61faf1af92"
      },
      "outputs": [
        {
          "name": "stderr",
          "output_type": "stream",
          "text": [
            "/Users/bartoszlibner/miniforge3/envs/tensorflow/lib/python3.9/site-packages/tensorflow/python/data/ops/dataset_ops.py:3703: UserWarning: Even though the `tf.config.experimental_run_functions_eagerly` option is set, this option does not apply to tf.data functions. To force eager execution of tf.data functions, please use `tf.data.experimental.enable.debug_mode()`.\n",
            "  warnings.warn(\n"
          ]
        },
        {
          "name": "stdout",
          "output_type": "stream",
          "text": [
            "Epoch 1/10\n",
            "263/263 [==============================] - 52s 197ms/step - loss: 0.3492 - accuracy: 0.9719\n",
            "Epoch 2/10\n",
            "263/263 [==============================] - 50s 191ms/step - loss: 0.1806 - accuracy: 0.9899\n",
            "Epoch 3/10\n",
            "263/263 [==============================] - 51s 192ms/step - loss: 0.1196 - accuracy: 0.9923\n",
            "Epoch 4/10\n",
            "263/263 [==============================] - 51s 192ms/step - loss: 0.0856 - accuracy: 0.9941\n",
            "Epoch 5/10\n",
            "263/263 [==============================] - 51s 193ms/step - loss: 0.0633 - accuracy: 0.9956\n",
            "Epoch 6/10\n",
            "263/263 [==============================] - 50s 191ms/step - loss: 0.0484 - accuracy: 0.9970\n",
            "Epoch 7/10\n",
            "263/263 [==============================] - 50s 191ms/step - loss: 0.0401 - accuracy: 0.9966\n",
            "Epoch 8/10\n",
            "263/263 [==============================] - 50s 191ms/step - loss: 0.0288 - accuracy: 0.9984\n",
            "Epoch 9/10\n",
            "263/263 [==============================] - 50s 191ms/step - loss: 0.0237 - accuracy: 0.9989\n",
            "Epoch 10/10\n",
            "263/263 [==============================] - 50s 191ms/step - loss: 0.0240 - accuracy: 0.9976\n"
          ]
        },
        {
          "data": {
            "text/plain": [
              "<tensorflow.python.keras.callbacks.History at 0x2fe4bb820>"
            ]
          },
          "execution_count": 19,
          "metadata": {},
          "output_type": "execute_result"
        }
      ],
      "source": [
        "model.fit(x_train_rolled, y_train, epochs=10, batch_size = 128)"
      ]
    },
    {
      "cell_type": "code",
      "execution_count": 23,
      "metadata": {
        "id": "_JYTL3xZ980T"
      },
      "outputs": [
        {
          "name": "stderr",
          "output_type": "stream",
          "text": [
            "/Users/bartoszlibner/miniforge3/envs/tensorflow/lib/python3.9/site-packages/tensorflow/python/data/ops/dataset_ops.py:3703: UserWarning: Even though the `tf.config.experimental_run_functions_eagerly` option is set, this option does not apply to tf.data functions. To force eager execution of tf.data functions, please use `tf.data.experimental.enable.debug_mode()`.\n",
            "  warnings.warn(\n"
          ]
        },
        {
          "name": "stdout",
          "output_type": "stream",
          "text": [
            "263/263 - 3s - loss: 3.2417 - accuracy: 0.1115\n"
          ]
        },
        {
          "data": {
            "text/plain": [
              "[3.2417306900024414, 0.11154761910438538]"
            ]
          },
          "execution_count": 23,
          "metadata": {},
          "output_type": "execute_result"
        }
      ],
      "source": [
        "model.evaluate(x_validate_rolled,  y_validate, verbose=2)"
      ]
    },
    {
      "cell_type": "code",
      "execution_count": 24,
      "metadata": {
        "id": "R7W5plyZ-u9X"
      },
      "outputs": [],
      "source": [
        "# Save the weights\n",
        "model.save_weights('data/mnist/DL_M7_checkpoint')\n",
        "\n",
        "# Restore the weights\n",
        "#model.load_weights('./drive/MyDrive/kaggle_data/M7_checkpoint')\n",
        "\n",
        "# Evaluate the model\n",
        "#loss, acc = model.evaluate(test_images, test_labels, verbose=2)\n",
        "#print(\"Restored model, accuracy: {:5.2f}%\".format(100 * acc))"
      ]
    },
    {
      "cell_type": "code",
      "execution_count": 26,
      "metadata": {
        "id": "Rfke2y2aAAML"
      },
      "outputs": [
        {
          "data": {
            "text/plain": [
              "5457     8\n",
              "38509    1\n",
              "25536    9\n",
              "31803    9\n",
              "39863    8\n",
              "        ..\n",
              "8388     4\n",
              "29359    9\n",
              "40276    3\n",
              "18421    0\n",
              "4335     9\n",
              "Name: label, Length: 8400, dtype: int64"
            ]
          },
          "execution_count": 26,
          "metadata": {},
          "output_type": "execute_result"
        }
      ],
      "source": [
        "result = model(x_validate_rolled).numpy()\n",
        "softmax = tf.nn.softmax(result).numpy()\n",
        "\n",
        "softmax[3]\n",
        "y_validate\n"
      ]
    },
    {
      "cell_type": "code",
      "execution_count": 27,
      "metadata": {
        "id": "5dMY84UnEjkN"
      },
      "outputs": [],
      "source": [
        "result = pd.DataFrame(columns = ['ImageId', 'Label', 'y_validate'])\n",
        "for idx, row in enumerate(softmax):\n",
        "  #print(idx+1, res) \n",
        "  value = max(row)\n",
        "  index = int(np.where(row == value)[0])\n",
        "  #print(index)\n",
        "  result = result.append({'ImageId':idx+1, 'Label':index}, ignore_index=True)\n",
        "\n",
        "result = result.set_index('ImageId')\n"
      ]
    },
    {
      "cell_type": "code",
      "execution_count": 28,
      "metadata": {
        "id": "-5FrGT-5MkCx"
      },
      "outputs": [
        {
          "ename": "TypeError",
          "evalue": "Cannot reset_index inplace on a Series to create a DataFrame",
          "output_type": "error",
          "traceback": [
            "\u001b[0;31m---------------------------------------------------------------------------\u001b[0m",
            "\u001b[0;31mTypeError\u001b[0m                                 Traceback (most recent call last)",
            "\u001b[1;32m/Users/bartoszlibner/Documents/Projects/ML portfolio/portfolio/DigitRecognizer.ipynb Cell 29'\u001b[0m in \u001b[0;36m<cell line: 2>\u001b[0;34m()\u001b[0m\n\u001b[1;32m      <a href='vscode-notebook-cell:/Users/bartoszlibner/Documents/Projects/ML%20portfolio/portfolio/DigitRecognizer.ipynb#ch0000033?line=0'>1</a>\u001b[0m result\u001b[39m.\u001b[39mreset_index(inplace\u001b[39m=\u001b[39m\u001b[39mTrue\u001b[39;00m)\n\u001b[0;32m----> <a href='vscode-notebook-cell:/Users/bartoszlibner/Documents/Projects/ML%20portfolio/portfolio/DigitRecognizer.ipynb#ch0000033?line=1'>2</a>\u001b[0m y_validate\u001b[39m.\u001b[39;49mreset_index(inplace\u001b[39m=\u001b[39;49m\u001b[39mTrue\u001b[39;49;00m)\n",
            "File \u001b[0;32m~/miniforge3/envs/tensorflow/lib/python3.9/site-packages/pandas/util/_decorators.py:311\u001b[0m, in \u001b[0;36mdeprecate_nonkeyword_arguments.<locals>.decorate.<locals>.wrapper\u001b[0;34m(*args, **kwargs)\u001b[0m\n\u001b[1;32m    <a href='file:///Users/bartoszlibner/miniforge3/envs/tensorflow/lib/python3.9/site-packages/pandas/util/_decorators.py?line=304'>305</a>\u001b[0m \u001b[39mif\u001b[39;00m \u001b[39mlen\u001b[39m(args) \u001b[39m>\u001b[39m num_allow_args:\n\u001b[1;32m    <a href='file:///Users/bartoszlibner/miniforge3/envs/tensorflow/lib/python3.9/site-packages/pandas/util/_decorators.py?line=305'>306</a>\u001b[0m     warnings\u001b[39m.\u001b[39mwarn(\n\u001b[1;32m    <a href='file:///Users/bartoszlibner/miniforge3/envs/tensorflow/lib/python3.9/site-packages/pandas/util/_decorators.py?line=306'>307</a>\u001b[0m         msg\u001b[39m.\u001b[39mformat(arguments\u001b[39m=\u001b[39marguments),\n\u001b[1;32m    <a href='file:///Users/bartoszlibner/miniforge3/envs/tensorflow/lib/python3.9/site-packages/pandas/util/_decorators.py?line=307'>308</a>\u001b[0m         \u001b[39mFutureWarning\u001b[39;00m,\n\u001b[1;32m    <a href='file:///Users/bartoszlibner/miniforge3/envs/tensorflow/lib/python3.9/site-packages/pandas/util/_decorators.py?line=308'>309</a>\u001b[0m         stacklevel\u001b[39m=\u001b[39mstacklevel,\n\u001b[1;32m    <a href='file:///Users/bartoszlibner/miniforge3/envs/tensorflow/lib/python3.9/site-packages/pandas/util/_decorators.py?line=309'>310</a>\u001b[0m     )\n\u001b[0;32m--> <a href='file:///Users/bartoszlibner/miniforge3/envs/tensorflow/lib/python3.9/site-packages/pandas/util/_decorators.py?line=310'>311</a>\u001b[0m \u001b[39mreturn\u001b[39;00m func(\u001b[39m*\u001b[39;49margs, \u001b[39m*\u001b[39;49m\u001b[39m*\u001b[39;49mkwargs)\n",
            "File \u001b[0;32m~/miniforge3/envs/tensorflow/lib/python3.9/site-packages/pandas/core/series.py:1437\u001b[0m, in \u001b[0;36mSeries.reset_index\u001b[0;34m(self, level, drop, name, inplace)\u001b[0m\n\u001b[1;32m   <a href='file:///Users/bartoszlibner/miniforge3/envs/tensorflow/lib/python3.9/site-packages/pandas/core/series.py?line=1432'>1433</a>\u001b[0m         \u001b[39mreturn\u001b[39;00m \u001b[39mself\u001b[39m\u001b[39m.\u001b[39m_constructor(\n\u001b[1;32m   <a href='file:///Users/bartoszlibner/miniforge3/envs/tensorflow/lib/python3.9/site-packages/pandas/core/series.py?line=1433'>1434</a>\u001b[0m             \u001b[39mself\u001b[39m\u001b[39m.\u001b[39m_values\u001b[39m.\u001b[39mcopy(), index\u001b[39m=\u001b[39mnew_index\n\u001b[1;32m   <a href='file:///Users/bartoszlibner/miniforge3/envs/tensorflow/lib/python3.9/site-packages/pandas/core/series.py?line=1434'>1435</a>\u001b[0m         )\u001b[39m.\u001b[39m__finalize__(\u001b[39mself\u001b[39m, method\u001b[39m=\u001b[39m\u001b[39m\"\u001b[39m\u001b[39mreset_index\u001b[39m\u001b[39m\"\u001b[39m)\n\u001b[1;32m   <a href='file:///Users/bartoszlibner/miniforge3/envs/tensorflow/lib/python3.9/site-packages/pandas/core/series.py?line=1435'>1436</a>\u001b[0m \u001b[39melif\u001b[39;00m inplace:\n\u001b[0;32m-> <a href='file:///Users/bartoszlibner/miniforge3/envs/tensorflow/lib/python3.9/site-packages/pandas/core/series.py?line=1436'>1437</a>\u001b[0m     \u001b[39mraise\u001b[39;00m \u001b[39mTypeError\u001b[39;00m(\n\u001b[1;32m   <a href='file:///Users/bartoszlibner/miniforge3/envs/tensorflow/lib/python3.9/site-packages/pandas/core/series.py?line=1437'>1438</a>\u001b[0m         \u001b[39m\"\u001b[39m\u001b[39mCannot reset_index inplace on a Series to create a DataFrame\u001b[39m\u001b[39m\"\u001b[39m\n\u001b[1;32m   <a href='file:///Users/bartoszlibner/miniforge3/envs/tensorflow/lib/python3.9/site-packages/pandas/core/series.py?line=1438'>1439</a>\u001b[0m     )\n\u001b[1;32m   <a href='file:///Users/bartoszlibner/miniforge3/envs/tensorflow/lib/python3.9/site-packages/pandas/core/series.py?line=1439'>1440</a>\u001b[0m \u001b[39melse\u001b[39;00m:\n\u001b[1;32m   <a href='file:///Users/bartoszlibner/miniforge3/envs/tensorflow/lib/python3.9/site-packages/pandas/core/series.py?line=1440'>1441</a>\u001b[0m     df \u001b[39m=\u001b[39m \u001b[39mself\u001b[39m\u001b[39m.\u001b[39mto_frame(name)\n",
            "\u001b[0;31mTypeError\u001b[0m: Cannot reset_index inplace on a Series to create a DataFrame"
          ]
        }
      ],
      "source": [
        "result.reset_index(inplace=True)\n",
        "y_validate.reset_index(inplace=True)"
      ]
    },
    {
      "cell_type": "code",
      "execution_count": null,
      "metadata": {
        "id": "ftT3Jl_xFQTU"
      },
      "outputs": [],
      "source": [
        "#y_validate = y_validate.reset_index()\n",
        "result['y_validate'] = y_validate['label'] \n",
        "y_validate['label'].shape\n",
        "result\n"
      ]
    },
    {
      "cell_type": "code",
      "execution_count": null,
      "metadata": {
        "id": "qzd17lC0OU1d"
      },
      "outputs": [],
      "source": [
        "result['Label'] = result[['Label']].astype(int)"
      ]
    },
    {
      "cell_type": "code",
      "execution_count": null,
      "metadata": {
        "id": "ADlU1CpQwryj"
      },
      "outputs": [],
      "source": [
        "#df['que'] = np.where((df['one'] >= df['two']) & (df['one'] <= df['three'])\n",
        "#                     , df['one'], np.nan)\n",
        "positive = np.where((result['Label'] == result['y_validate']))\n",
        "negative = np.where((result['Label'] != result['y_validate']))\n",
        "#print(positive.count, negative.count)\n",
        "\n",
        "#result['diff'] = result[result['Label'] != result['y_validate']]\n",
        "#result['diff']\n",
        "diff = result.where(result['Label'] != result['y_validate'])\n",
        "diff.dropna(inplace=True)\n",
        "diff.shape\n",
        "\n",
        "positive_result = result.shape[0] - diff.shape[0]\n",
        "negative_result = diff.shape[0]\n",
        "procente = float(positive_result) / result.shape[0]\n",
        "print('Result {:2.2%}, positive result: {}, negative result: {}'.format(procente, positive_result, negative_result))\n",
        "diff"
      ]
    },
    {
      "cell_type": "code",
      "execution_count": null,
      "metadata": {
        "id": "12l-6ErZsFo9"
      },
      "outputs": [],
      "source": [
        "plt.bar(diff['y_validate'].value_counts().index, diff['y_validate'].value_counts().values)\n",
        "diff['y_validate'].value_counts()"
      ]
    },
    {
      "cell_type": "code",
      "execution_count": null,
      "metadata": {
        "id": "bWBoyqqbuWVi"
      },
      "outputs": [],
      "source": [
        "nines = diff.where(diff['Label'] == 9)\n",
        "nines.dropna(inplace=True)\n",
        "nines"
      ]
    },
    {
      "cell_type": "code",
      "execution_count": null,
      "metadata": {
        "id": "54qPdcjBwFZu"
      },
      "outputs": [],
      "source": [
        "fives = diff.where(diff['Label'] == 5)\n",
        "fives.dropna(inplace=True)\n",
        "plt.bar(fives['y_validate'].value_counts().index, fives['y_validate'].value_counts().values)\n",
        "plt.xticks(fives['y_validate'].value_counts().index)\n",
        "plt.show()"
      ]
    },
    {
      "cell_type": "code",
      "execution_count": null,
      "metadata": {
        "id": "fLjw3mgjTWxy"
      },
      "outputs": [],
      "source": [
        "fig, axs = plt.subplots(2)\n",
        "fig.suptitle('Vertically stacked subplots')\n",
        "axs[0].plot(x, y)\n",
        "axs[1].plot(x, -y)"
      ]
    },
    {
      "cell_type": "code",
      "execution_count": null,
      "metadata": {
        "id": "IZYlJuuTJIYP"
      },
      "outputs": [],
      "source": [
        "predictions2= model(x_test).numpy()\n",
        "\n",
        "predictions2[182]"
      ]
    },
    {
      "cell_type": "code",
      "execution_count": null,
      "metadata": {
        "id": "QZyrdbmUMHBN"
      },
      "outputs": [],
      "source": [
        "softmax = tf.nn.softmax(predictions2).numpy()\n",
        "softmax[181]"
      ]
    },
    {
      "cell_type": "code",
      "execution_count": null,
      "metadata": {
        "id": "F7dTAzgHDUh7"
      },
      "outputs": [],
      "source": [
        "softmax.shape\n",
        "result = pd.DataFrame(columns = ['ImageId', 'Label'])\n",
        "for idx, row in enumerate(softmax):\n",
        "  #print(idx+1, res) \n",
        "  value = max(row)\n",
        "  index = int(np.where(row == value)[0])\n",
        "  #print(index)\n",
        "  result = result.append({'ImageId':idx+1, 'Label':index}, ignore_index=True)\n",
        "\n",
        "result = result.set_index('ImageId')"
      ]
    },
    {
      "cell_type": "code",
      "execution_count": null,
      "metadata": {
        "id": "H6Rm8S73MZGK"
      },
      "outputs": [],
      "source": [
        "result"
      ]
    },
    {
      "cell_type": "code",
      "execution_count": null,
      "metadata": {
        "id": "KHPM5peiPdFe"
      },
      "outputs": [],
      "source": [
        "result.to_csv('/content/drive/MyDrive/kaggle_data/submission.csv')"
      ]
    },
    {
      "cell_type": "markdown",
      "metadata": {
        "id": "C-cjJRtJrf6a"
      },
      "source": [
        "# Building a model v2"
      ]
    },
    {
      "cell_type": "code",
      "execution_count": null,
      "metadata": {
        "id": "KgdLa5-QrjDR"
      },
      "outputs": [],
      "source": [
        "knn_clf = KNeighborsClassifier()"
      ]
    },
    {
      "cell_type": "markdown",
      "metadata": {
        "id": "7bidhVFxtf2G"
      },
      "source": [
        "# Training a model Scikit-learn"
      ]
    },
    {
      "cell_type": "code",
      "execution_count": null,
      "metadata": {
        "colab": {
          "base_uri": "https://localhost:8080/"
        },
        "id": "2xgyG46Utkkc",
        "outputId": "7861bbfb-28d9-492d-ac2e-7e1619f4971f"
      },
      "outputs": [
        {
          "data": {
            "text/plain": [
              "<bound method NDFrame.describe of 34941    6\n",
              "24433    5\n",
              "24432    3\n",
              "8832     4\n",
              "30291    7\n",
              "        ..\n",
              "6265     9\n",
              "11284    9\n",
              "38158    2\n",
              "860      6\n",
              "15795    0\n",
              "Name: label, Length: 33600, dtype: int64>"
            ]
          },
          "execution_count": 31,
          "metadata": {},
          "output_type": "execute_result"
        }
      ],
      "source": [
        "#x_train = x_train.values.reshape(-1,784)\n",
        "knn_clf.fit(x_train, y_train)\n",
        "y_train.describe"
      ]
    },
    {
      "cell_type": "code",
      "execution_count": null,
      "metadata": {
        "colab": {
          "base_uri": "https://localhost:8080/",
          "height": 354
        },
        "id": "MRroW_U6txc4",
        "outputId": "fc72a235-d013-47b4-f886-4f12cb0e549e"
      },
      "outputs": [
        {
          "name": "stdout",
          "output_type": "stream",
          "text": [
            "[9]\n"
          ]
        },
        {
          "name": "stderr",
          "output_type": "stream",
          "text": [
            "/Users/bartoszlibner/miniforge3/envs/tensorflow/lib/python3.9/site-packages/sklearn/base.py:450: UserWarning: X does not have valid feature names, but KNeighborsClassifier was fitted with feature names\n",
            "  warnings.warn(\n"
          ]
        },
        {
          "data": {
            "image/png": "[encoded data removed]",
            "text/plain": [
              "<Figure size 432x288 with 1 Axes>"
            ]
          },
          "metadata": {
            "needs_background": "light"
          },
          "output_type": "display_data"
        }
      ],
      "source": [
        "digit_number = 2\n",
        "val = x_validate.iloc[digit_number]\n",
        "print(knn_clf.predict([val]))\n",
        "\n",
        "show_digit(digit_number, x_validate)"
      ]
    },
    {
      "cell_type": "code",
      "execution_count": null,
      "metadata": {
        "colab": {
          "base_uri": "https://localhost:8080/"
        },
        "id": "uHz5O6b2uV5f",
        "outputId": "c37a3b1e-a9e5-4545-927d-a9d1b15b7e42"
      },
      "outputs": [
        {
          "data": {
            "text/plain": [
              "0.9648809523809524"
            ]
          },
          "execution_count": 33,
          "metadata": {},
          "output_type": "execute_result"
        }
      ],
      "source": [
        "knn_clf.score(x_validate, y_validate)"
      ]
    },
    {
      "cell_type": "markdown",
      "metadata": {
        "id": "DgE7_0Apz1CR"
      },
      "source": [
        "# GridSearch"
      ]
    },
    {
      "cell_type": "code",
      "execution_count": null,
      "metadata": {
        "colab": {
          "base_uri": "https://localhost:8080/"
        },
        "id": "52Qwww5Gysd9",
        "outputId": "be9c2d84-981e-42ff-e4ca-8c629c79ae25"
      },
      "outputs": [
        {
          "name": "stdout",
          "output_type": "stream",
          "text": [
            "Fitting 5 folds for each of 5 candidates, totalling 25 fits\n",
            "[CV 1/5] END .n_neighbors=3;, score=(train=0.981, test=0.965) total time=   5.2s\n",
            "[CV 2/5] END .n_neighbors=3;, score=(train=0.981, test=0.963) total time=   5.3s\n",
            "[CV 3/5] END .n_neighbors=3;, score=(train=0.981, test=0.964) total time=   5.3s\n",
            "[CV 4/5] END .n_neighbors=3;, score=(train=0.981, test=0.962) total time=   5.4s\n",
            "[CV 5/5] END .n_neighbors=3;, score=(train=0.980, test=0.969) total time=   5.3s\n",
            "[CV 1/5] END .n_neighbors=5;, score=(train=0.977, test=0.964) total time=   3.9s\n",
            "[CV 2/5] END .n_neighbors=5;, score=(train=0.976, test=0.963) total time=   3.8s\n",
            "[CV 3/5] END .n_neighbors=5;, score=(train=0.975, test=0.963) total time=   4.3s\n",
            "[CV 4/5] END .n_neighbors=5;, score=(train=0.975, test=0.964) total time=   4.1s\n",
            "[CV 5/5] END .n_neighbors=5;, score=(train=0.976, test=0.968) total time=   4.0s\n",
            "[CV 1/5] END n_neighbors=10;, score=(train=0.969, test=0.960) total time=   4.0s\n",
            "[CV 2/5] END n_neighbors=10;, score=(train=0.968, test=0.961) total time=   3.8s\n",
            "[CV 3/5] END n_neighbors=10;, score=(train=0.968, test=0.959) total time=   4.0s\n",
            "[CV 4/5] END n_neighbors=10;, score=(train=0.968, test=0.959) total time=   4.2s\n",
            "[CV 5/5] END n_neighbors=10;, score=(train=0.968, test=0.963) total time=   4.1s\n",
            "[CV 1/5] END weights=uniform;, score=(train=0.977, test=0.964) total time=   4.1s\n",
            "[CV 2/5] END weights=uniform;, score=(train=0.976, test=0.963) total time=   3.7s\n",
            "[CV 3/5] END weights=uniform;, score=(train=0.975, test=0.963) total time=   4.0s\n",
            "[CV 4/5] END weights=uniform;, score=(train=0.975, test=0.964) total time=   4.1s\n",
            "[CV 5/5] END weights=uniform;, score=(train=0.976, test=0.968) total time=   4.2s\n",
            "[CV 1/5] END weights=distance;, score=(train=1.000, test=0.964) total time=   4.0s\n",
            "[CV 2/5] END weights=distance;, score=(train=1.000, test=0.963) total time=   3.9s\n",
            "[CV 3/5] END weights=distance;, score=(train=1.000, test=0.964) total time=   3.9s\n",
            "[CV 4/5] END weights=distance;, score=(train=1.000, test=0.965) total time=   4.1s\n",
            "[CV 5/5] END weights=distance;, score=(train=1.000, test=0.969) total time=   4.1s\n"
          ]
        },
        {
          "data": {
            "text/plain": [
              "GridSearchCV(cv=5, estimator=KNeighborsClassifier(),\n",
              "             param_grid=[{'n_neighbors': [3, 5, 10]},\n",
              "                         {'weights': ['uniform', 'distance']}],\n",
              "             return_train_score=True, scoring='accuracy', verbose=3)"
            ]
          },
          "execution_count": 34,
          "metadata": {},
          "output_type": "execute_result"
        }
      ],
      "source": [
        "param_grid = [\n",
        "    {'n_neighbors': [3, 5, 10]}, \n",
        "    {'weights': ['uniform', 'distance']},\n",
        "  ]\n",
        "\n",
        "# train across 5 folds, that's a total of (12+6)*5=90 rounds of training \n",
        "grid_search = GridSearchCV(knn_clf, param_grid, cv=5,\n",
        "                           scoring='accuracy',\n",
        "                           return_train_score=True, verbose=3)\n",
        "grid_search.fit(x_train, y_train)"
      ]
    },
    {
      "cell_type": "code",
      "execution_count": null,
      "metadata": {
        "colab": {
          "base_uri": "https://localhost:8080/"
        },
        "id": "u3A9k8HK1DgR",
        "outputId": "85c733db-f27d-4d00-87c4-7713e7a6374a"
      },
      "outputs": [
        {
          "data": {
            "text/plain": [
              "{'weights': 'distance'}"
            ]
          },
          "execution_count": 35,
          "metadata": {},
          "output_type": "execute_result"
        }
      ],
      "source": [
        "grid_search.best_params_"
      ]
    },
    {
      "cell_type": "code",
      "execution_count": null,
      "metadata": {
        "id": "7ZV9Kq9UKCic"
      },
      "outputs": [],
      "source": []
    }
  ],
  "metadata": {
    "colab": {
      "collapsed_sections": [
        "oyxQx52MWzyL",
        "fvD67-oLrarr"
      ],
      "name": "Digit recognizer.ipynb",
      "provenance": []
    },
    "kernelspec": {
      "display_name": "Python 3",
      "name": "python3"
    },
    "language_info": {
      "codemirror_mode": {
        "name": "ipython",
        "version": 3
      },
      "file_extension": ".py",
      "mimetype": "text/x-python",
      "name": "python",
      "nbconvert_exporter": "python",
      "pygments_lexer": "ipython3",
      "version": "3.9.11"
    }
  },
  "nbformat": 4,
  "nbformat_minor": 0
}
