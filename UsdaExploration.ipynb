{
  "cells": [
    {
      "cell_type": "markdown",
      "metadata": {
        "colab_type": "text",
        "id": "view-in-github"
      },
      "source": [
        "<a href=\"https://colab.research.google.com/github/bartoszlibner/usda/blob/main/usda_exploration.ipynb\" target=\"_parent\"><img src=\"https://colab.research.google.com/assets/colab-badge.svg\" alt=\"Open In Colab\"/></a>"
      ]
    },
    {
      "cell_type": "code",
      "execution_count": null,
      "metadata": {
        "id": "wikTstxFUEzu"
      },
      "outputs": [],
      "source": [
        "import numpy as np\n",
        "import pandas as pd\n",
        "import os"
      ]
    },
    {
      "cell_type": "code",
      "execution_count": null,
      "metadata": {
        "id": "_-AclZvnbEuR"
      },
      "outputs": [],
      "source": [
        "!pip install PyDrive"
      ]
    },
    {
      "cell_type": "code",
      "execution_count": null,
      "metadata": {
        "id": "nD5zlOgj_sP0"
      },
      "outputs": [],
      "source": [
        "pd.set_option('max_rows', 99999)\n",
        "pd.set_option('max_colwidth', 400)"
      ]
    },
    {
      "cell_type": "markdown",
      "metadata": {
        "id": "gCi21uEqEE3s"
      },
      "source": [
        "Next cell contains libraries required to authenticate to GoogleDrive. In GoogleDrive a database in excel sheet form of all the USDA ingredients"
      ]
    },
    {
      "cell_type": "code",
      "execution_count": null,
      "metadata": {
        "id": "hz5o3AmHcNEh"
      },
      "outputs": [],
      "source": [
        "from pydrive.auth import GoogleAuth\n",
        "from pydrive.drive import GoogleDrive\n",
        "from google.colab import auth\n",
        "from oauth2client.client import GoogleCredentials"
      ]
    },
    {
      "cell_type": "code",
      "execution_count": null,
      "metadata": {
        "id": "CFyonwC9cTuo"
      },
      "outputs": [],
      "source": [
        "auth.authenticate_user()\n",
        "gauth = GoogleAuth()\n",
        "gauth.credentials = GoogleCredentials.get_application_default()\n",
        "drive = GoogleDrive(gauth)"
      ]
    },
    {
      "cell_type": "code",
      "execution_count": null,
      "metadata": {
        "id": "sKNXprA1cffe"
      },
      "outputs": [],
      "source": [
        "downloaded_foundation_food = drive.CreateFile({'id':\"1qBqmL9i9ff9UL5n2Tp8oWYE1XDiHRYE0\"})   \n",
        "downloaded_foundation_food.GetContentFile('foundation_food.csv')        \n",
        "\n",
        "downloaded_sr_legacy = drive.CreateFile({'id':\"1sqhYFFxdR-uannIidxkIjj9RqMbjempe\"})   \n",
        "downloaded_sr_legacy.GetContentFile('sr_legacy_food.csv')        \n",
        "\n",
        "downloaded_sr_legacy = drive.CreateFile({'id':\"122upIOEuxK0rtciVyzCk7WEIBx4UBW5v\"})   \n",
        "downloaded_sr_legacy.GetContentFile('sr_legacy_food_portions.csv')        \n",
        "\n",
        "downloaded_sr_legacy = drive.CreateFile({'id':\"1iG2rZ1U2_Rgma6ex6ZqsK0VZh_5HPsKt\"})   \n",
        "downloaded_sr_legacy.GetContentFile('sr_legacy_food_nutrient.csv')        \n",
        "\n",
        "\n",
        "downloaded_sr_legacy = drive.CreateFile({'id':\"1G1nUfAtMNcJuSFRHtun2ZMoFX5q9HXsc\"})   \n",
        "downloaded_sr_legacy.GetContentFile('nutrient.csv')        "
      ]
    },
    {
      "cell_type": "code",
      "execution_count": null,
      "metadata": {
        "id": "YMmVaq15ZrD2"
      },
      "outputs": [],
      "source": [
        "data = pd.read_csv('foundation_food.csv')\n",
        "sr_legacy_data = pd.read_csv('sr_legacy_food.csv')\n",
        "sr_legacy_data_portions = pd.read_csv('sr_legacy_food_portions.csv')\n",
        "sr_legacy_data_nutrients = pd.read_csv('sr_legacy_food_nutrient.csv')\n",
        "df_nutrient_descriptions = pd.read_csv('nutrient.csv')"
      ]
    },
    {
      "cell_type": "code",
      "execution_count": null,
      "metadata": {
        "id": "FlpQwGc9brhX"
      },
      "outputs": [],
      "source": [
        "df = data.copy()"
      ]
    },
    {
      "cell_type": "markdown",
      "metadata": {
        "id": "kTW3uG4yWJ8w"
      },
      "source": [
        "There are differences between what USDA is saying in their \"Download field description file\" and what we actually have in this table. There should be couple of fields more that should have more data, but we can still work with it IMO"
      ]
    },
    {
      "cell_type": "markdown",
      "metadata": {
        "id": "4wPVvAO_8KjI"
      },
      "source": [
        "# exploring the amount of unique data types and numbers connexted to them"
      ]
    },
    {
      "cell_type": "code",
      "execution_count": null,
      "metadata": {
        "colab": {
          "base_uri": "https://localhost:8080/"
        },
        "id": "ISczay3e7sjE",
        "outputId": "9d9c8ac4-9dd9-43a2-b9de-6f0b4e2ec257"
      },
      "outputs": [
        {
          "data": {
            "text/plain": [
              "array(['sample_food', 'market_acquisition', 'sub_sample_food',\n",
              "       'foundation_food', 'agricultural_acquisition'], dtype=object)"
            ]
          },
          "execution_count": 9,
          "metadata": {},
          "output_type": "execute_result"
        }
      ],
      "source": [
        "df['data_type'].unique()"
      ]
    },
    {
      "cell_type": "code",
      "execution_count": null,
      "metadata": {
        "id": "1nEATepY6tCW"
      },
      "outputs": [],
      "source": [
        "mark_safo_noduplicates = df[df['data_type'] == 'sample_food'].drop_duplicates(subset='description')\n",
        "mark_safo_noduplicates"
      ]
    },
    {
      "cell_type": "code",
      "execution_count": null,
      "metadata": {
        "colab": {
          "base_uri": "https://localhost:8080/"
        },
        "id": "BH4slczh7LHF",
        "outputId": "a9c98880-31f1-44fd-9d50-cb5d04d91b13"
      },
      "outputs": [
        {
          "data": {
            "text/plain": [
              "3519"
            ]
          },
          "execution_count": 11,
          "metadata": {},
          "output_type": "execute_result"
        }
      ],
      "source": [
        "mark_acui_noduplicates = df[df['data_type'] == 'market_acquisition'].drop_duplicates(subset='description')\n",
        "len(mark_acui_noduplicates)"
      ]
    },
    {
      "cell_type": "code",
      "execution_count": null,
      "metadata": {
        "colab": {
          "base_uri": "https://localhost:8080/"
        },
        "id": "xQZ7YGbP7QDq",
        "outputId": "411a5f7a-c366-4ebf-c0d1-31575eca3179"
      },
      "outputs": [
        {
          "data": {
            "text/plain": [
              "810"
            ]
          },
          "execution_count": 12,
          "metadata": {},
          "output_type": "execute_result"
        }
      ],
      "source": [
        "df['data_type'].where(df['data_type'] == 'agricultural_acquisition').count()"
      ]
    },
    {
      "cell_type": "code",
      "execution_count": null,
      "metadata": {
        "id": "NRD0a0xI7Ldu"
      },
      "outputs": [],
      "source": [
        "# it seems that foundation food is very limited and not all the ingredients end up here. Even here we have some data from restaurants\n",
        "df_foundation_df = df[df['data_type'] == 'foundation_food'].drop_duplicates(subset='description')\n",
        "df_foundation_df[df_foundation_df['description'].str.contains('flour', case=False)]"
      ]
    },
    {
      "cell_type": "code",
      "execution_count": null,
      "metadata": {
        "colab": {
          "base_uri": "https://localhost:8080/"
        },
        "id": "DlOMweHx7d3F",
        "outputId": "34ab8dc7-09e9-4cfe-f513-d7a7ec628026"
      },
      "outputs": [
        {
          "data": {
            "text/plain": [
              "12400"
            ]
          },
          "execution_count": 14,
          "metadata": {},
          "output_type": "execute_result"
        }
      ],
      "source": [
        "df['data_type'].where(df['data_type'] == 'sub_sample_food').count()"
      ]
    },
    {
      "cell_type": "code",
      "execution_count": null,
      "metadata": {
        "id": "qegjzUhRScQ9"
      },
      "outputs": [],
      "source": [
        "market_acquisition_df = df[df['data_type'] == 'market_acquisition'].copy()\n",
        "#market_acquisition_df['description'].unique().tolist();\n",
        "market_acquisition_df[market_acquisition_df['description'].str.contains('pork', case=False)]"
      ]
    },
    {
      "cell_type": "code",
      "execution_count": null,
      "metadata": {
        "id": "X2KuioxNTxbI"
      },
      "outputs": [],
      "source": [
        "market_acquisition_df = df[df['data_type'] == 'agricultural_acquisition'].copy()\n",
        "market_acquisition_df['description'].unique().tolist()"
      ]
    },
    {
      "cell_type": "markdown",
      "metadata": {
        "id": "mtv17wnYfJAw"
      },
      "source": [
        "#Exploring the description column"
      ]
    },
    {
      "cell_type": "code",
      "execution_count": null,
      "metadata": {
        "colab": {
          "base_uri": "https://localhost:8080/"
        },
        "id": "rmGEg8i98pgx",
        "outputId": "8d944a6f-7f9f-443f-bc40-e7cb6e59267e"
      },
      "outputs": [
        {
          "name": "stdout",
          "output_type": "stream",
          "text": [
            "Number of unique food samples\n",
            "fdc_id              1828\n",
            "data_type           1828\n",
            "description         1828\n",
            "food_category_id    1813\n",
            "publication_date    1828\n",
            "dtype: int64\n",
            "Number of unique food samples with unique descriptions\n"
          ]
        }
      ],
      "source": [
        "#new_df = df['description'].drop_duplicates(subset('description'))\n",
        "#new_df\n",
        "df_sample_food_only = df.loc[df['data_type'] == 'sample_food'].copy()\n",
        "df_sample_food_only_count = df.loc[df['data_type'] == 'sample_food'].count()\n",
        "print(\"Number of unique food samples\")\n",
        "print(df_sample_food_only_count)\n",
        "\n",
        "print(\"Number of unique food samples with unique descriptions\")\n",
        "df_sample_food_only['description'].unique().tolist();"
      ]
    },
    {
      "cell_type": "code",
      "execution_count": null,
      "metadata": {
        "id": "ak_n8-3nIpQh"
      },
      "outputs": [],
      "source": [
        "#how to search for particulat string, good source is here https://medium.com/factory-mind/regex-tutorial-a-simple-cheatsheet-by-examples-649dc1c3f285\n",
        "new_df = df[df['description'].str.contains('^chicken', case=False, regex=True) & df['data_type'].str.contains('^sample_food') & df['description'].str.contains(\"\\d\", regex=True)].copy()\n",
        "new_df.drop_duplicates(subset=['description'], inplace=True)\n",
        "new_df;"
      ]
    },
    {
      "cell_type": "markdown",
      "metadata": {
        "id": "Ou9lL-W_y1hA"
      },
      "source": [
        "# Exploring the different columns in database "
      ]
    },
    {
      "cell_type": "markdown",
      "metadata": {
        "id": "oX6gQl4My5hp"
      },
      "source": [
        "The goal is to have a json formatted database of ingredients, that isn't cluttered by information users don't need"
      ]
    },
    {
      "cell_type": "code",
      "execution_count": null,
      "metadata": {
        "colab": {
          "base_uri": "https://localhost:8080/"
        },
        "id": "GXsckUjzzKUl",
        "outputId": "8312ccc6-660d-475d-b2fe-0560aea59e19"
      },
      "outputs": [
        {
          "data": {
            "text/plain": [
              "array(['sample_food', 'market_acquisition', 'sub_sample_food',\n",
              "       'foundation_food', 'agricultural_acquisition'], dtype=object)"
            ]
          },
          "execution_count": 19,
          "metadata": {},
          "output_type": "execute_result"
        }
      ],
      "source": [
        "df['data_type'].unique()"
      ]
    },
    {
      "cell_type": "code",
      "execution_count": null,
      "metadata": {
        "colab": {
          "base_uri": "https://localhost:8080/"
        },
        "id": "EewFao21KR5w",
        "outputId": "e4a810dd-7eb9-43c2-dfd0-e04ca3fe0446"
      },
      "outputs": [
        {
          "data": {
            "text/plain": [
              "805"
            ]
          },
          "execution_count": 20,
          "metadata": {},
          "output_type": "execute_result"
        }
      ],
      "source": [
        "#confirming that all the food have at least sample_food and foundational_food\n",
        "df[(df['data_type']=='sample_food') | (df['data_type'] == 'foundation_food')]\n",
        "\n",
        "unique_agri = df[(df['data_type']=='agricultural_acquisition')]\n",
        "unique_agri_descriptions = unique_agri['description'].unique().tolist()\n",
        "\n",
        "unique_market = df[(df['data_type']=='market_acquisition')]\n",
        "unique_market_descriptions = unique_market['description'].unique().tolist()\n",
        "\n",
        "unique_foundation_food = df[(df['data_type']=='foundation_food')]\n",
        "unique_foundation_food_descriptions = unique_foundation_food['description'].unique().tolist()\n",
        "\n",
        "unique_sample_food = df[(df['data_type']=='sample_food')]\n",
        "unique_sample_food_descriptions = unique_sample_food['description'].unique().tolist()\n",
        "#df[df['data_type'] == 'foundation_food'];\n",
        "len(np.setdiff1d(unique_agri_descriptions, unique_market_descriptions))"
      ]
    },
    {
      "cell_type": "code",
      "execution_count": null,
      "metadata": {
        "colab": {
          "base_uri": "https://localhost:8080/"
        },
        "id": "njAaNy7wXU_6",
        "outputId": "0ed4a93c-1316-4915-dc3a-a5e3d15879cf"
      },
      "outputs": [
        {
          "data": {
            "text/plain": [
              "array([16.,  1., 13., 11.,  2.,  7., 12.,  6.,  9., 18.,  4.,  5., 15.,\n",
              "       19., 25., 10., nan, 20.])"
            ]
          },
          "execution_count": 21,
          "metadata": {},
          "output_type": "execute_result"
        }
      ],
      "source": [
        "df_without_sub_sample_food = df[~(df['data_type'] == 'sub_sample_food')].copy()\n",
        "df_without_sub_sample_food_no_dup = df_without_sub_sample_food.drop_duplicates(subset=['data_type','description'])\n",
        "df_without_sub_sample_food_no_dup.sort_values(by=['description'])\n",
        "df_without_sub_sample_food_no_dup['food_category_id'].unique()"
      ]
    },
    {
      "cell_type": "markdown",
      "metadata": {
        "id": "MqFkeB1CzR6n"
      },
      "source": [
        "new_df = df[df['data_type'].str.contains('^sample_food')].copy()\n",
        "new_df.drop_duplicates(subset=['description'], inplace=True)\n",
        "new_df;"
      ]
    },
    {
      "cell_type": "markdown",
      "metadata": {
        "id": "bbPG-M8RbhTS"
      },
      "source": [
        "## Conclusions from Foundation Food DB \n",
        "From this particular DB, we should be only using foundation_foods, as they are averaged versions of all the other samples and market acquisitions. Market acquisitions are sometimes put together to make one sample_foods and then based on that sample_food foundation_food is made. I didn't find ingredients so far that wouldn't fit that. \n",
        "\n",
        "You can experiment yourself using the code below. It prints very nicely the given category.\n",
        "\n"
      ]
    },
    {
      "cell_type": "code",
      "execution_count": null,
      "metadata": {
        "colab": {
          "base_uri": "https://localhost:8080/",
          "height": 1000
        },
        "id": "nlPF-67hbqCB",
        "outputId": "ea63b455-4019-4c99-f28b-0a47ed69f3ea"
      },
      "outputs": [
        {
          "data": {
            "text/html": [
              "<div>\n",
              "<style scoped>\n",
              "    .dataframe tbody tr th:only-of-type {\n",
              "        vertical-align: middle;\n",
              "    }\n",
              "\n",
              "    .dataframe tbody tr th {\n",
              "        vertical-align: top;\n",
              "    }\n",
              "\n",
              "    .dataframe thead th {\n",
              "        text-align: right;\n",
              "    }\n",
              "</style>\n",
              "<table border=\"1\" class=\"dataframe\">\n",
              "  <thead>\n",
              "    <tr style=\"text-align: right;\">\n",
              "      <th></th>\n",
              "      <th>fdc_id</th>\n",
              "      <th>data_type</th>\n",
              "      <th>description</th>\n",
              "      <th>food_category_id</th>\n",
              "      <th>publication_date</th>\n",
              "    </tr>\n",
              "  </thead>\n",
              "  <tbody>\n",
              "    <tr>\n",
              "      <th>9709</th>\n",
              "      <td>330416</td>\n",
              "      <td>sample_food</td>\n",
              "      <td>Oil, coconut, LOU ANA (NC) CY1211H</td>\n",
              "      <td>4.0</td>\n",
              "      <td>2019-04-01</td>\n",
              "    </tr>\n",
              "    <tr>\n",
              "      <th>9710</th>\n",
              "      <td>330417</td>\n",
              "      <td>market_acquisition</td>\n",
              "      <td>Oil, coconut, LOU ANA (NC1) NFY120PCL</td>\n",
              "      <td>4.0</td>\n",
              "      <td>2019-04-01</td>\n",
              "    </tr>\n",
              "    <tr>\n",
              "      <th>9711</th>\n",
              "      <td>330418</td>\n",
              "      <td>market_acquisition</td>\n",
              "      <td>Oil, coconut, LOU ANA (NC1) NFY120PCK</td>\n",
              "      <td>4.0</td>\n",
              "      <td>2019-04-01</td>\n",
              "    </tr>\n",
              "    <tr>\n",
              "      <th>9714</th>\n",
              "      <td>330421</td>\n",
              "      <td>sample_food</td>\n",
              "      <td>Oil, coconut, LOU ANA (IN,AL) CY1211I</td>\n",
              "      <td>4.0</td>\n",
              "      <td>2019-04-01</td>\n",
              "    </tr>\n",
              "    <tr>\n",
              "      <th>9715</th>\n",
              "      <td>330422</td>\n",
              "      <td>market_acquisition</td>\n",
              "      <td>Oil, coconut, LOU ANA (AL1) NFY120PCM</td>\n",
              "      <td>4.0</td>\n",
              "      <td>2019-04-01</td>\n",
              "    </tr>\n",
              "    <tr>\n",
              "      <th>9716</th>\n",
              "      <td>330423</td>\n",
              "      <td>market_acquisition</td>\n",
              "      <td>Oil, coconut, LOU ANA (IN1) NFY120PCO</td>\n",
              "      <td>4.0</td>\n",
              "      <td>2019-04-01</td>\n",
              "    </tr>\n",
              "    <tr>\n",
              "      <th>9719</th>\n",
              "      <td>330426</td>\n",
              "      <td>sample_food</td>\n",
              "      <td>Oil, coconut, LOU ANA (MI,OK) CY1211K</td>\n",
              "      <td>4.0</td>\n",
              "      <td>2019-04-01</td>\n",
              "    </tr>\n",
              "    <tr>\n",
              "      <th>9720</th>\n",
              "      <td>330427</td>\n",
              "      <td>market_acquisition</td>\n",
              "      <td>Oil, coconut, LOU ANA (MI1) NFY120PCQ</td>\n",
              "      <td>4.0</td>\n",
              "      <td>2019-04-01</td>\n",
              "    </tr>\n",
              "    <tr>\n",
              "      <th>9721</th>\n",
              "      <td>330428</td>\n",
              "      <td>market_acquisition</td>\n",
              "      <td>Oil, coconut, LOU ANA (OK1) NFY120PCS</td>\n",
              "      <td>4.0</td>\n",
              "      <td>2019-04-01</td>\n",
              "    </tr>\n",
              "    <tr>\n",
              "      <th>9722</th>\n",
              "      <td>330429</td>\n",
              "      <td>market_acquisition</td>\n",
              "      <td>Oil, coconut, LOU ANA (OK1) NFY120PCT</td>\n",
              "      <td>4.0</td>\n",
              "      <td>2019-04-01</td>\n",
              "    </tr>\n",
              "    <tr>\n",
              "      <th>9726</th>\n",
              "      <td>330433</td>\n",
              "      <td>sample_food</td>\n",
              "      <td>Oil, coconut, LOU ANA (FL,MO) CY1211J</td>\n",
              "      <td>4.0</td>\n",
              "      <td>2019-04-01</td>\n",
              "    </tr>\n",
              "    <tr>\n",
              "      <th>9727</th>\n",
              "      <td>330434</td>\n",
              "      <td>market_acquisition</td>\n",
              "      <td>Oil, coconut, LOU ANA (MO1) NFY120PCF</td>\n",
              "      <td>4.0</td>\n",
              "      <td>2019-04-01</td>\n",
              "    </tr>\n",
              "    <tr>\n",
              "      <th>9728</th>\n",
              "      <td>330435</td>\n",
              "      <td>market_acquisition</td>\n",
              "      <td>Oil, coconut, LOU ANA (FL) NFY120PCH</td>\n",
              "      <td>4.0</td>\n",
              "      <td>2019-04-01</td>\n",
              "    </tr>\n",
              "    <tr>\n",
              "      <th>9729</th>\n",
              "      <td>330436</td>\n",
              "      <td>market_acquisition</td>\n",
              "      <td>Oil, coconut, LOU ANA (FL) NFY120PCI</td>\n",
              "      <td>4.0</td>\n",
              "      <td>2019-04-01</td>\n",
              "    </tr>\n",
              "    <tr>\n",
              "      <th>9734</th>\n",
              "      <td>330441</td>\n",
              "      <td>sample_food</td>\n",
              "      <td>Oil, coconut, LOU ANA (CO,CT) CY1211F</td>\n",
              "      <td>4.0</td>\n",
              "      <td>2019-04-01</td>\n",
              "    </tr>\n",
              "    <tr>\n",
              "      <th>9735</th>\n",
              "      <td>330442</td>\n",
              "      <td>market_acquisition</td>\n",
              "      <td>Oil, coconut, LOU ANA (CO1) NFY120PC7</td>\n",
              "      <td>4.0</td>\n",
              "      <td>2019-04-01</td>\n",
              "    </tr>\n",
              "    <tr>\n",
              "      <th>9736</th>\n",
              "      <td>330443</td>\n",
              "      <td>market_acquisition</td>\n",
              "      <td>Oil, coconut, LOU ANA (CT1) NFY120PCA</td>\n",
              "      <td>4.0</td>\n",
              "      <td>2019-04-01</td>\n",
              "    </tr>\n",
              "    <tr>\n",
              "      <th>9737</th>\n",
              "      <td>330444</td>\n",
              "      <td>market_acquisition</td>\n",
              "      <td>Oil, coconut, LOU ANA (CT1) NFY120PC9</td>\n",
              "      <td>4.0</td>\n",
              "      <td>2019-04-01</td>\n",
              "    </tr>\n",
              "    <tr>\n",
              "      <th>9743</th>\n",
              "      <td>330450</td>\n",
              "      <td>sample_food</td>\n",
              "      <td>Oil, coconut, BETTER BODY ORGANIC (CA2) CY1211G</td>\n",
              "      <td>4.0</td>\n",
              "      <td>2019-04-01</td>\n",
              "    </tr>\n",
              "    <tr>\n",
              "      <th>9744</th>\n",
              "      <td>330451</td>\n",
              "      <td>market_acquisition</td>\n",
              "      <td>Oil, coconut, BETTER BODY ORGANIC (CA2) NFY120PCC</td>\n",
              "      <td>4.0</td>\n",
              "      <td>2019-04-01</td>\n",
              "    </tr>\n",
              "    <tr>\n",
              "      <th>9745</th>\n",
              "      <td>330452</td>\n",
              "      <td>market_acquisition</td>\n",
              "      <td>Oil, coconut, BETTER BODY ORGANIC (CA2) NFY120PCD</td>\n",
              "      <td>4.0</td>\n",
              "      <td>2019-04-01</td>\n",
              "    </tr>\n",
              "    <tr>\n",
              "      <th>9746</th>\n",
              "      <td>330453</td>\n",
              "      <td>market_acquisition</td>\n",
              "      <td>Oil, coconut, BETTER BODY ORGANIC (CA2) NFY120PCE</td>\n",
              "      <td>4.0</td>\n",
              "      <td>2019-04-01</td>\n",
              "    </tr>\n",
              "    <tr>\n",
              "      <th>9751</th>\n",
              "      <td>330458</td>\n",
              "      <td>foundation_food</td>\n",
              "      <td>Oil, coconut</td>\n",
              "      <td>4.0</td>\n",
              "      <td>2019-04-01</td>\n",
              "    </tr>\n",
              "    <tr>\n",
              "      <th>16840</th>\n",
              "      <td>748237</td>\n",
              "      <td>sample_food</td>\n",
              "      <td>CANOLA OIL</td>\n",
              "      <td>4.0</td>\n",
              "      <td>2019-12-16</td>\n",
              "    </tr>\n",
              "    <tr>\n",
              "      <th>16841</th>\n",
              "      <td>748238</td>\n",
              "      <td>market_acquisition</td>\n",
              "      <td>CANOLA OIL</td>\n",
              "      <td>4.0</td>\n",
              "      <td>2019-12-16</td>\n",
              "    </tr>\n",
              "    <tr>\n",
              "      <th>16881</th>\n",
              "      <td>748278</td>\n",
              "      <td>foundation_food</td>\n",
              "      <td>Oil, canola</td>\n",
              "      <td>4.0</td>\n",
              "      <td>2019-12-16</td>\n",
              "    </tr>\n",
              "    <tr>\n",
              "      <th>16882</th>\n",
              "      <td>748279</td>\n",
              "      <td>sample_food</td>\n",
              "      <td>CORN OIL</td>\n",
              "      <td>4.0</td>\n",
              "      <td>2019-12-16</td>\n",
              "    </tr>\n",
              "    <tr>\n",
              "      <th>16883</th>\n",
              "      <td>748280</td>\n",
              "      <td>market_acquisition</td>\n",
              "      <td>CORN OIL</td>\n",
              "      <td>4.0</td>\n",
              "      <td>2019-12-16</td>\n",
              "    </tr>\n",
              "    <tr>\n",
              "      <th>16926</th>\n",
              "      <td>748323</td>\n",
              "      <td>foundation_food</td>\n",
              "      <td>Oil, corn</td>\n",
              "      <td>4.0</td>\n",
              "      <td>2019-12-16</td>\n",
              "    </tr>\n",
              "    <tr>\n",
              "      <th>16927</th>\n",
              "      <td>748324</td>\n",
              "      <td>sample_food</td>\n",
              "      <td>VEGETABLE OIL (100% SOYBEAN OIL)</td>\n",
              "      <td>4.0</td>\n",
              "      <td>2019-12-16</td>\n",
              "    </tr>\n",
              "    <tr>\n",
              "      <th>16928</th>\n",
              "      <td>748325</td>\n",
              "      <td>market_acquisition</td>\n",
              "      <td>VEGETABLE OIL (100% SOYBEAN OIL)</td>\n",
              "      <td>4.0</td>\n",
              "      <td>2019-12-16</td>\n",
              "    </tr>\n",
              "    <tr>\n",
              "      <th>16969</th>\n",
              "      <td>748366</td>\n",
              "      <td>foundation_food</td>\n",
              "      <td>Oil, soybean</td>\n",
              "      <td>4.0</td>\n",
              "      <td>2019-12-16</td>\n",
              "    </tr>\n",
              "    <tr>\n",
              "      <th>16970</th>\n",
              "      <td>748367</td>\n",
              "      <td>sample_food</td>\n",
              "      <td>OLIVE OIL, EXTRA VIRGIN</td>\n",
              "      <td>4.0</td>\n",
              "      <td>2019-12-16</td>\n",
              "    </tr>\n",
              "    <tr>\n",
              "      <th>16971</th>\n",
              "      <td>748368</td>\n",
              "      <td>market_acquisition</td>\n",
              "      <td>OLIVE OIL, EXTRA VIRGIN</td>\n",
              "      <td>4.0</td>\n",
              "      <td>2019-12-16</td>\n",
              "    </tr>\n",
              "    <tr>\n",
              "      <th>17211</th>\n",
              "      <td>748608</td>\n",
              "      <td>foundation_food</td>\n",
              "      <td>Oil, olive, extra virgin</td>\n",
              "      <td>4.0</td>\n",
              "      <td>2019-12-16</td>\n",
              "    </tr>\n",
              "  </tbody>\n",
              "</table>\n",
              "</div>"
            ],
            "text/plain": [
              "       fdc_id           data_type  ... food_category_id  publication_date\n",
              "9709   330416         sample_food  ...              4.0        2019-04-01\n",
              "9710   330417  market_acquisition  ...              4.0        2019-04-01\n",
              "9711   330418  market_acquisition  ...              4.0        2019-04-01\n",
              "9714   330421         sample_food  ...              4.0        2019-04-01\n",
              "9715   330422  market_acquisition  ...              4.0        2019-04-01\n",
              "9716   330423  market_acquisition  ...              4.0        2019-04-01\n",
              "9719   330426         sample_food  ...              4.0        2019-04-01\n",
              "9720   330427  market_acquisition  ...              4.0        2019-04-01\n",
              "9721   330428  market_acquisition  ...              4.0        2019-04-01\n",
              "9722   330429  market_acquisition  ...              4.0        2019-04-01\n",
              "9726   330433         sample_food  ...              4.0        2019-04-01\n",
              "9727   330434  market_acquisition  ...              4.0        2019-04-01\n",
              "9728   330435  market_acquisition  ...              4.0        2019-04-01\n",
              "9729   330436  market_acquisition  ...              4.0        2019-04-01\n",
              "9734   330441         sample_food  ...              4.0        2019-04-01\n",
              "9735   330442  market_acquisition  ...              4.0        2019-04-01\n",
              "9736   330443  market_acquisition  ...              4.0        2019-04-01\n",
              "9737   330444  market_acquisition  ...              4.0        2019-04-01\n",
              "9743   330450         sample_food  ...              4.0        2019-04-01\n",
              "9744   330451  market_acquisition  ...              4.0        2019-04-01\n",
              "9745   330452  market_acquisition  ...              4.0        2019-04-01\n",
              "9746   330453  market_acquisition  ...              4.0        2019-04-01\n",
              "9751   330458     foundation_food  ...              4.0        2019-04-01\n",
              "16840  748237         sample_food  ...              4.0        2019-12-16\n",
              "16841  748238  market_acquisition  ...              4.0        2019-12-16\n",
              "16881  748278     foundation_food  ...              4.0        2019-12-16\n",
              "16882  748279         sample_food  ...              4.0        2019-12-16\n",
              "16883  748280  market_acquisition  ...              4.0        2019-12-16\n",
              "16926  748323     foundation_food  ...              4.0        2019-12-16\n",
              "16927  748324         sample_food  ...              4.0        2019-12-16\n",
              "16928  748325  market_acquisition  ...              4.0        2019-12-16\n",
              "16969  748366     foundation_food  ...              4.0        2019-12-16\n",
              "16970  748367         sample_food  ...              4.0        2019-12-16\n",
              "16971  748368  market_acquisition  ...              4.0        2019-12-16\n",
              "17211  748608     foundation_food  ...              4.0        2019-12-16\n",
              "\n",
              "[35 rows x 5 columns]"
            ]
          },
          "execution_count": 22,
          "metadata": {},
          "output_type": "execute_result"
        }
      ],
      "source": [
        "# we can simply use foundation in this case. Each of the sample_foods \n",
        "df_cleaned_cat1 = df_without_sub_sample_food_no_dup[df_without_sub_sample_food_no_dup['food_category_id'] == 4]\n",
        "#df_cleaned_cat1_foundation_only = df_cleaned_cat1[df_cleaned_cat1['data_type'] == 'foundation_food']\n",
        "#df_cleaned_cat1_foundation_only.count()\n",
        "df_cleaned_cat1"
      ]
    },
    {
      "cell_type": "markdown",
      "metadata": {
        "id": "So3THbWHYS6C"
      },
      "source": [
        "# Exploring SR Legacy DB"
      ]
    },
    {
      "cell_type": "code",
      "execution_count": null,
      "metadata": {
        "id": "DeqnXw2qYXbx"
      },
      "outputs": [],
      "source": [
        "sr_data = sr_legacy_data.copy()"
      ]
    },
    {
      "cell_type": "markdown",
      "metadata": {
        "id": "Q94uDpKGEgy8"
      },
      "source": [
        "So, it turned out that all the all caps words (apart from USDA) were were actually names of brands. Excluding them "
      ]
    },
    {
      "cell_type": "code",
      "execution_count": null,
      "metadata": {
        "colab": {
          "base_uri": "https://localhost:8080/"
        },
        "id": "s3P0I942bGos",
        "outputId": "d272f3b1-7a12-4bdc-b56d-ea96c553fd5b"
      },
      "outputs": [
        {
          "name": "stdout",
          "output_type": "stream",
          "text": [
            "Index(['fdc_id', 'data_type', 'description', 'food_category_id',\n",
            "       'publication_date'],\n",
            "      dtype='object')\n"
          ]
        }
      ],
      "source": [
        "print(sr_data.columns)\n",
        "sr_data.sort_values(by='description')\n",
        "usda_only = sr_data[sr_data['description'].str.contains('USDA')]\n",
        "sr_data_cleaned = sr_data[~(sr_data['description'].str.contains(\"[A-Z]{2,}\", regex=True))].sort_values(by='description')\n",
        "sr_data_cleaned.head()\n",
        "for_compare = sr_data[(sr_data['description'].str.contains(\"[A-Z]{2,}\", regex=True))].sort_values(by='description')\n",
        "#all good, but exlude USDA"
      ]
    },
    {
      "cell_type": "markdown",
      "metadata": {
        "id": "hIMY4rM9bHqZ"
      },
      "source": [
        "# Starting to transform Dataframe to final result \n",
        "\n"
      ]
    },
    {
      "cell_type": "code",
      "execution_count": null,
      "metadata": {
        "colab": {
          "base_uri": "https://localhost:8080/"
        },
        "id": "uWylBIfewVND",
        "outputId": "e4d00f95-5ca9-4679-9996-9900b9f60a2b"
      },
      "outputs": [
        {
          "name": "stdout",
          "output_type": "stream",
          "text": [
            "Requirement already satisfied: gupload in /usr/local/lib/python3.7/dist-packages (1.1.0)\n",
            "Requirement already satisfied: click==7.0 in /usr/local/lib/python3.7/dist-packages (from gupload) (7.0)\n",
            "Requirement already satisfied: google-api-python-client==1.7.10 in /usr/local/lib/python3.7/dist-packages (from gupload) (1.7.10)\n",
            "Requirement already satisfied: google-auth-httplib2>=0.0.3 in /usr/local/lib/python3.7/dist-packages (from google-api-python-client==1.7.10->gupload) (0.0.4)\n",
            "Requirement already satisfied: uritemplate<4dev,>=3.0.0 in /usr/local/lib/python3.7/dist-packages (from google-api-python-client==1.7.10->gupload) (3.0.1)\n",
            "Requirement already satisfied: six<2dev,>=1.6.1 in /usr/local/lib/python3.7/dist-packages (from google-api-python-client==1.7.10->gupload) (1.15.0)\n",
            "Requirement already satisfied: google-auth>=1.4.1 in /usr/local/lib/python3.7/dist-packages (from google-api-python-client==1.7.10->gupload) (1.35.0)\n",
            "Requirement already satisfied: httplib2<1dev,>=0.9.2 in /usr/local/lib/python3.7/dist-packages (from google-api-python-client==1.7.10->gupload) (0.17.4)\n",
            "Requirement already satisfied: setuptools>=40.3.0 in /usr/local/lib/python3.7/dist-packages (from google-auth>=1.4.1->google-api-python-client==1.7.10->gupload) (57.4.0)\n",
            "Requirement already satisfied: cachetools<5.0,>=2.0.0 in /usr/local/lib/python3.7/dist-packages (from google-auth>=1.4.1->google-api-python-client==1.7.10->gupload) (4.2.4)\n",
            "Requirement already satisfied: rsa<5,>=3.1.4 in /usr/local/lib/python3.7/dist-packages (from google-auth>=1.4.1->google-api-python-client==1.7.10->gupload) (4.7.2)\n",
            "Requirement already satisfied: pyasn1-modules>=0.2.1 in /usr/local/lib/python3.7/dist-packages (from google-auth>=1.4.1->google-api-python-client==1.7.10->gupload) (0.2.8)\n",
            "Requirement already satisfied: pyasn1<0.5.0,>=0.4.6 in /usr/local/lib/python3.7/dist-packages (from pyasn1-modules>=0.2.1->google-auth>=1.4.1->google-api-python-client==1.7.10->gupload) (0.4.8)\n"
          ]
        }
      ],
      "source": [
        "!pip install --upgrade gupload"
      ]
    },
    {
      "cell_type": "markdown",
      "metadata": {
        "id": "swxxTUfhk8zW"
      },
      "source": [
        "How I currently imagine product model\n",
        "\n",
        "{\n",
        "* 'fdc_id': 1888544,\n",
        "* 'description': 'Cookshire toast',\n",
        "* 'portion': [\n",
        " * {\n",
        "   * 'seq_num': 1,\n",
        "   * 'amount': 0.5,\n",
        "   * 'modifier': cup\n",
        "   * 'gram_weight': 114,\n",
        " * },\n",
        " * {\n",
        "   * 'seq_num':2,\n",
        "   * 'amount': 0.5,\n",
        "   * 'modifier': 'fl oz',\n",
        "   * 'gram_weight': 30.2,\n",
        " * }\n",
        "* ]\n",
        "* 'nutrient': [\n",
        "  * {\n",
        "    * 'nutrient_id': 1003,\n",
        "    * 'nutrient_amount': 5.88,\n",
        "  * }\n",
        "  * {\n",
        "    * 'nutrient_id': 1002,\n",
        "    * 'nutrient_amount': 6.33,\n",
        "  * }\n",
        "* ]\n",
        "\n",
        "}\n",
        "\n"
      ]
    },
    {
      "cell_type": "markdown",
      "metadata": {
        "id": "TVVY_UhEYS4H"
      },
      "source": [
        "Taking original dataframes and merging them to have a good ground"
      ]
    },
    {
      "cell_type": "code",
      "execution_count": null,
      "metadata": {
        "colab": {
          "base_uri": "https://localhost:8080/"
        },
        "id": "7EE4g_vk_D-o",
        "outputId": "83752fa9-d8c4-4e27-fe72-60b854dc95dd"
      },
      "outputs": [
        {
          "data": {
            "text/plain": [
              "2"
            ]
          },
          "execution_count": 52,
          "metadata": {},
          "output_type": "execute_result"
        }
      ],
      "source": [
        "merged_portion = pd.merge(sr_data_cleaned, sr_legacy_data_portions, how='inner', on='fdc_id')\n",
        "merged_portion.drop(columns=['publication_date', 'food_category_id', 'id', 'data_type', 'measure_unit_id', 'portion_description', 'data_points', 'footnote', 'min_year_acquired'], inplace=True)\n",
        "merged_portion['type'] = 'portion'\n",
        "merged_portion = merged_portion[['fdc_id', 'description', 'type', 'seq_num', 'amount', 'modifier', 'gram_weight']]\n",
        "merged_portion.head(5)\n",
        "len(merged_portion[merged_portion['fdc_id'] == 171687])"
      ]
    },
    {
      "cell_type": "code",
      "execution_count": null,
      "metadata": {
        "colab": {
          "base_uri": "https://localhost:8080/",
          "height": 1000
        },
        "id": "Tt6K-uKCltDf",
        "outputId": "52da6dfa-d06a-4a36-b07c-41ee87205c39"
      },
      "outputs": [
        {
          "name": "stderr",
          "output_type": "stream",
          "text": [
            "/usr/local/lib/python3.7/dist-packages/ipykernel_launcher.py:2: FutureWarning: Indexing with multiple keys (implicitly converted to a tuple of keys) will be deprecated, use a list instead.\n",
            "  \n"
          ]
        },
        {
          "data": {
            "text/html": [
              "<div>\n",
              "<style scoped>\n",
              "    .dataframe tbody tr th:only-of-type {\n",
              "        vertical-align: middle;\n",
              "    }\n",
              "\n",
              "    .dataframe tbody tr th {\n",
              "        vertical-align: top;\n",
              "    }\n",
              "\n",
              "    .dataframe thead th {\n",
              "        text-align: right;\n",
              "    }\n",
              "</style>\n",
              "<table border=\"1\" class=\"dataframe\">\n",
              "  <thead>\n",
              "    <tr style=\"text-align: right;\">\n",
              "      <th></th>\n",
              "      <th>fdc_id</th>\n",
              "      <th>description</th>\n",
              "      <th>type</th>\n",
              "      <th>portion</th>\n",
              "    </tr>\n",
              "  </thead>\n",
              "  <tbody>\n",
              "    <tr>\n",
              "      <th>0</th>\n",
              "      <td>167512</td>\n",
              "      <td>Pillsbury Golden Layer Buttermilk Biscuits, Artificial Flavor, refrigerated dough</td>\n",
              "      <td>portion</td>\n",
              "      <td>[{'seq_num': 1, 'amount': 1.0, 'modifier': 'serving', 'gram_weight': 34.0}]</td>\n",
              "    </tr>\n",
              "    <tr>\n",
              "      <th>1</th>\n",
              "      <td>167513</td>\n",
              "      <td>Pillsbury, Cinnamon Rolls with Icing, refrigerated dough</td>\n",
              "      <td>portion</td>\n",
              "      <td>[{'seq_num': 1, 'amount': 1.0, 'modifier': 'serving 1 roll with icing', 'gram_weight': 44.0}]</td>\n",
              "    </tr>\n",
              "    <tr>\n",
              "      <th>2</th>\n",
              "      <td>167514</td>\n",
              "      <td>Kraft Foods, Shake N Bake Original Recipe, Coating for Pork, dry</td>\n",
              "      <td>portion</td>\n",
              "      <td>[{'seq_num': 1, 'amount': 1.0, 'modifier': 'serving', 'gram_weight': 28.0}]</td>\n",
              "    </tr>\n",
              "    <tr>\n",
              "      <th>3</th>\n",
              "      <td>167515</td>\n",
              "      <td>George Weston Bakeries, Thomas English Muffins</td>\n",
              "      <td>portion</td>\n",
              "      <td>[{'seq_num': 1, 'amount': 1.0, 'modifier': 'serving', 'gram_weight': 57.0}]</td>\n",
              "    </tr>\n",
              "    <tr>\n",
              "      <th>4</th>\n",
              "      <td>167516</td>\n",
              "      <td>Waffles, buttermilk, frozen, ready-to-heat</td>\n",
              "      <td>portion</td>\n",
              "      <td>[{'seq_num': 1, 'amount': 1.0, 'modifier': 'waffle, square', 'gram_weight': 39.0}, {'seq_num': 2, 'amount': 1.0, 'modifier': 'waffle, round', 'gram_weight': 38.0}]</td>\n",
              "    </tr>\n",
              "    <tr>\n",
              "      <th>5</th>\n",
              "      <td>167517</td>\n",
              "      <td>Waffle, buttermilk, frozen, ready-to-heat, toasted</td>\n",
              "      <td>portion</td>\n",
              "      <td>[{'seq_num': 1, 'amount': 1.0, 'modifier': 'oz', 'gram_weight': 28.0}, {'seq_num': 2, 'amount': 1.0, 'modifier': 'waffle round (4\" dia)', 'gram_weight': 33.0}]</td>\n",
              "    </tr>\n",
              "    <tr>\n",
              "      <th>6</th>\n",
              "      <td>167518</td>\n",
              "      <td>Waffle, buttermilk, frozen, ready-to-heat, microwaved</td>\n",
              "      <td>portion</td>\n",
              "      <td>[{'seq_num': 1, 'amount': 1.0, 'modifier': 'waffle', 'gram_weight': 35.0}]</td>\n",
              "    </tr>\n",
              "    <tr>\n",
              "      <th>7</th>\n",
              "      <td>167519</td>\n",
              "      <td>Waffle, plain, frozen, ready-to-heat, microwave</td>\n",
              "      <td>portion</td>\n",
              "      <td>[{'seq_num': 1, 'amount': 1.0, 'modifier': 'waffle, round (4\"dia)', 'gram_weight': 32.0}]</td>\n",
              "    </tr>\n",
              "    <tr>\n",
              "      <th>8</th>\n",
              "      <td>167520</td>\n",
              "      <td>Pie Crust, Cookie-type, Graham Cracker, Ready Crust</td>\n",
              "      <td>portion</td>\n",
              "      <td>[{'seq_num': 1, 'amount': 1.0, 'modifier': 'oz', 'gram_weight': 28.35}, {'seq_num': 2, 'amount': 1.0, 'modifier': 'crust', 'gram_weight': 183.0}]</td>\n",
              "    </tr>\n",
              "    <tr>\n",
              "      <th>9</th>\n",
              "      <td>167521</td>\n",
              "      <td>Pie Crust, Cookie-type, Chocolate, Ready Crust</td>\n",
              "      <td>portion</td>\n",
              "      <td>[{'seq_num': 1, 'amount': 1.0, 'modifier': 'crust', 'gram_weight': 182.0}]</td>\n",
              "    </tr>\n",
              "    <tr>\n",
              "      <th>10</th>\n",
              "      <td>167522</td>\n",
              "      <td>Pie, Dutch Apple, Commercially Prepared</td>\n",
              "      <td>portion</td>\n",
              "      <td>[{'seq_num': 1, 'amount': 0.12, 'modifier': 'pie 1 pie (1/8 of 9\" pie)', 'gram_weight': 131.0}, {'seq_num': 2, 'amount': 1.0, 'modifier': 'slice', 'gram_weight': 137.0}, {'seq_num': 3, 'amount': 1.0, 'modifier': 'pie', 'gram_weight': 1137.0}, {'seq_num': 4, 'amount': 1.0, 'modifier': 'oz', 'gram_weight': 28.35}]</td>\n",
              "    </tr>\n",
              "    <tr>\n",
              "      <th>11</th>\n",
              "      <td>167523</td>\n",
              "      <td>Pie crust, deep dish, frozen, unbaked, made with enriched flour</td>\n",
              "      <td>portion</td>\n",
              "      <td>[{'seq_num': 1, 'amount': 1.0, 'modifier': 'pie crust (average weight)', 'gram_weight': 225.0}]</td>\n",
              "    </tr>\n",
              "    <tr>\n",
              "      <th>12</th>\n",
              "      <td>167524</td>\n",
              "      <td>Waffles, chocolate chip, frozen, ready-to-heat</td>\n",
              "      <td>portion</td>\n",
              "      <td>[{'seq_num': 1, 'amount': 2.0, 'modifier': 'waffles', 'gram_weight': 70.0}]</td>\n",
              "    </tr>\n",
              "    <tr>\n",
              "      <th>13</th>\n",
              "      <td>167525</td>\n",
              "      <td>Tostada shells, corn</td>\n",
              "      <td>portion</td>\n",
              "      <td>[{'seq_num': 1, 'amount': 1.0, 'modifier': 'piece', 'gram_weight': 12.3}, {'seq_num': 2, 'amount': 3.0, 'modifier': 'pieces (mean serving weight, aggregated over brands)', 'gram_weight': 37.0}]</td>\n",
              "    </tr>\n",
              "    <tr>\n",
              "      <th>14</th>\n",
              "      <td>167526</td>\n",
              "      <td>Bread, salvadoran sweet cheese (quesadilla salvadorena)</td>\n",
              "      <td>portion</td>\n",
              "      <td>[{'seq_num': 1, 'amount': 1.0, 'modifier': 'serving (approximate serving size)', 'gram_weight': 55.0}, {'seq_num': 2, 'amount': 1.0, 'modifier': 'cake square (average weight of whole item)', 'gram_weight': 399.0}]</td>\n",
              "    </tr>\n",
              "    <tr>\n",
              "      <th>15</th>\n",
              "      <td>167527</td>\n",
              "      <td>Bread, pound cake type, pan de torta salvadoran</td>\n",
              "      <td>portion</td>\n",
              "      <td>[{'seq_num': 1, 'amount': 1.0, 'modifier': 'serving', 'gram_weight': 55.0}, {'seq_num': 2, 'amount': 1.0, 'modifier': 'cake square', 'gram_weight': 622.0}]</td>\n",
              "    </tr>\n",
              "    <tr>\n",
              "      <th>16</th>\n",
              "      <td>167528</td>\n",
              "      <td>Pastry, Pastelitos de Guava (guava pastries)</td>\n",
              "      <td>portion</td>\n",
              "      <td>[{'seq_num': 1, 'amount': 1.0, 'modifier': 'piece', 'gram_weight': 86.0}]</td>\n",
              "    </tr>\n",
              "    <tr>\n",
              "      <th>17</th>\n",
              "      <td>167529</td>\n",
              "      <td>Crackers, snack, Goya Crackers</td>\n",
              "      <td>portion</td>\n",
              "      <td>[{'seq_num': 1, 'amount': 1.0, 'modifier': 'serving (1 NLEA serving - about 4 crackers)', 'gram_weight': 30.0}, {'seq_num': 2, 'amount': 1.0, 'modifier': 'cracker', 'gram_weight': 12.7}]</td>\n",
              "    </tr>\n",
              "    <tr>\n",
              "      <th>18</th>\n",
              "      <td>167530</td>\n",
              "      <td>Crackers, cream, Gamesa Sabrosas</td>\n",
              "      <td>portion</td>\n",
              "      <td>[{'seq_num': 1, 'amount': 11.0, 'modifier': 'crackers (1 NLEA serving)', 'gram_weight': 31.0}, {'seq_num': 2, 'amount': 1.0, 'modifier': 'cracker', 'gram_weight': 3.1}]</td>\n",
              "    </tr>\n",
              "    <tr>\n",
              "      <th>19</th>\n",
              "      <td>167531</td>\n",
              "      <td>Crackers, cream, La Moderna Rikis Cream Crackers</td>\n",
              "      <td>portion</td>\n",
              "      <td>[{'seq_num': 1, 'amount': 10.0, 'modifier': 'crackers (1 NLEA serving)', 'gram_weight': 32.0}, {'seq_num': 2, 'amount': 1.0, 'modifier': 'cracker', 'gram_weight': 3.1}]</td>\n",
              "    </tr>\n",
              "    <tr>\n",
              "      <th>20</th>\n",
              "      <td>167532</td>\n",
              "      <td>Bread, white wheat</td>\n",
              "      <td>portion</td>\n",
              "      <td>[{'seq_num': 1, 'amount': 1.0, 'modifier': 'slice', 'gram_weight': 28.0}]</td>\n",
              "    </tr>\n",
              "    <tr>\n",
              "      <th>21</th>\n",
              "      <td>167533</td>\n",
              "      <td>Bagels, wheat</td>\n",
              "      <td>portion</td>\n",
              "      <td>[{'seq_num': 1, 'amount': 1.0, 'modifier': 'bagel', 'gram_weight': 98.0}]</td>\n",
              "    </tr>\n",
              "    <tr>\n",
              "      <th>22</th>\n",
              "      <td>167534</td>\n",
              "      <td>Cream puff, eclair, custard or cream filled, iced</td>\n",
              "      <td>portion</td>\n",
              "      <td>[{'seq_num': 1, 'amount': 4.0, 'modifier': 'oz', 'gram_weight': 113.0}]</td>\n",
              "    </tr>\n",
              "    <tr>\n",
              "      <th>23</th>\n",
              "      <td>167535</td>\n",
              "      <td>Tortillas, ready-to-bake or -fry, flour, shelf stable</td>\n",
              "      <td>portion</td>\n",
              "      <td>[{'seq_num': 1, 'amount': 1.0, 'modifier': 'tortilla', 'gram_weight': 49.0}, {'seq_num': 2, 'amount': 1.0, 'modifier': 'package', 'gram_weight': 484.0}]</td>\n",
              "    </tr>\n",
              "    <tr>\n",
              "      <th>24</th>\n",
              "      <td>167536</td>\n",
              "      <td>Snacks, beef jerky, chopped and formed</td>\n",
              "      <td>portion</td>\n",
              "      <td>[{'seq_num': 1, 'amount': 1.0, 'modifier': 'oz', 'gram_weight': 28.35}, {'seq_num': 2, 'amount': 1.0, 'modifier': 'piece, large', 'gram_weight': 20.0}, {'seq_num': 3, 'amount': 1.0, 'modifier': 'oz', 'gram_weight': 28.35}]</td>\n",
              "    </tr>\n",
              "    <tr>\n",
              "      <th>25</th>\n",
              "      <td>167537</td>\n",
              "      <td>Snacks, corn-based, extruded, chips, plain</td>\n",
              "      <td>portion</td>\n",
              "      <td>[{'seq_num': 1, 'amount': 1.0, 'modifier': 'oz', 'gram_weight': 28.0}, {'seq_num': 2, 'amount': 1.0, 'modifier': 'oz', 'gram_weight': 28.35}, {'seq_num': 3, 'amount': 1.0, 'modifier': 'bag (7 oz)', 'gram_weight': 198.0}]</td>\n",
              "    </tr>\n",
              "    <tr>\n",
              "      <th>26</th>\n",
              "      <td>167538</td>\n",
              "      <td>Snacks, corn-based, extruded, chips, barbecue-flavor</td>\n",
              "      <td>portion</td>\n",
              "      <td>[{'seq_num': 1, 'amount': 1.0, 'modifier': 'oz', 'gram_weight': 28.35}, {'seq_num': 2, 'amount': 1.0, 'modifier': 'bag (7 oz)', 'gram_weight': 198.0}]</td>\n",
              "    </tr>\n",
              "    <tr>\n",
              "      <th>27</th>\n",
              "      <td>167539</td>\n",
              "      <td>Snacks, corn-based, extruded, cones, plain</td>\n",
              "      <td>portion</td>\n",
              "      <td>[{'seq_num': 1, 'amount': 1.0, 'modifier': 'oz', 'gram_weight': 28.35}]</td>\n",
              "    </tr>\n",
              "    <tr>\n",
              "      <th>28</th>\n",
              "      <td>167540</td>\n",
              "      <td>Snacks, fruit leather, pieces</td>\n",
              "      <td>portion</td>\n",
              "      <td>[{'seq_num': 1, 'amount': 1.0, 'modifier': 'oz', 'gram_weight': 28.35}, {'seq_num': 2, 'amount': 1.0, 'modifier': 'package', 'gram_weight': 27.0}, {'seq_num': 3, 'amount': 1.0, 'modifier': 'packet (.75 oz)', 'gram_weight': 21.0}]</td>\n",
              "    </tr>\n",
              "    <tr>\n",
              "      <th>29</th>\n",
              "      <td>167541</td>\n",
              "      <td>Snacks, fruit leather, rolls</td>\n",
              "      <td>portion</td>\n",
              "      <td>[{'seq_num': 1, 'amount': 1.0, 'modifier': 'large', 'gram_weight': 21.0}, {'seq_num': 2, 'amount': 1.0, 'modifier': 'small', 'gram_weight': 14.0}]</td>\n",
              "    </tr>\n",
              "    <tr>\n",
              "      <th>30</th>\n",
              "      <td>167542</td>\n",
              "      <td>Snacks, granola bars, hard, plain</td>\n",
              "      <td>portion</td>\n",
              "      <td>[{'seq_num': 1, 'amount': 1.0, 'modifier': 'bar', 'gram_weight': 21.0}, {'seq_num': 2, 'amount': 1.0, 'modifier': 'bar (1 oz)', 'gram_weight': 28.0}, {'seq_num': 3, 'amount': 1.0, 'modifier': 'bar', 'gram_weight': 25.0}]</td>\n",
              "    </tr>\n",
              "    <tr>\n",
              "      <th>31</th>\n",
              "      <td>167543</td>\n",
              "      <td>Snacks, granola bars, hard, almond</td>\n",
              "      <td>portion</td>\n",
              "      <td>[{'seq_num': 1, 'amount': 1.0, 'modifier': 'oz', 'gram_weight': 28.35}, {'seq_num': 2, 'amount': 1.0, 'modifier': 'bar', 'gram_weight': 24.0}]</td>\n",
              "    </tr>\n",
              "    <tr>\n",
              "      <th>32</th>\n",
              "      <td>167544</td>\n",
              "      <td>Snacks, granola bars, soft, uncoated, raisin</td>\n",
              "      <td>portion</td>\n",
              "      <td>[{'seq_num': 1, 'amount': 1.0, 'modifier': 'bar (1.5 oz)', 'gram_weight': 43.0}, {'seq_num': 2, 'amount': 1.0, 'modifier': 'bar (1 oz)', 'gram_weight': 28.0}]</td>\n",
              "    </tr>\n",
              "    <tr>\n",
              "      <th>33</th>\n",
              "      <td>167545</td>\n",
              "      <td>Snacks, granola bars, soft, coated, milk chocolate coating, chocolate chip</td>\n",
              "      <td>portion</td>\n",
              "      <td>[{'seq_num': 1, 'amount': 1.0, 'modifier': 'bar (1.25 oz)', 'gram_weight': 35.0}, {'seq_num': 2, 'amount': 1.0, 'modifier': 'bar (1 oz)', 'gram_weight': 28.0}]</td>\n",
              "    </tr>\n",
              "    <tr>\n",
              "      <th>34</th>\n",
              "      <td>167546</td>\n",
              "      <td>Candies, honey-combed, with peanut butter</td>\n",
              "      <td>portion</td>\n",
              "      <td>[{'seq_num': 1, 'amount': 1.0, 'modifier': 'serving', 'gram_weight': 40.0}]</td>\n",
              "    </tr>\n",
              "    <tr>\n",
              "      <th>35</th>\n",
              "      <td>167547</td>\n",
              "      <td>Snacks, granola bars, soft, coated, milk chocolate coating, peanut butter</td>\n",
              "      <td>portion</td>\n",
              "      <td>[{'seq_num': 1, 'amount': 1.0, 'modifier': 'oz', 'gram_weight': 28.35}, {'seq_num': 2, 'amount': 1.0, 'modifier': 'bar', 'gram_weight': 37.0}]</td>\n",
              "    </tr>\n",
              "    <tr>\n",
              "      <th>36</th>\n",
              "      <td>167548</td>\n",
              "      <td>Snacks, granola bars, soft, uncoated, peanut butter and chocolate chip</td>\n",
              "      <td>portion</td>\n",
              "      <td>[{'seq_num': 1, 'amount': 1.0, 'modifier': 'bar (1 oz)', 'gram_weight': 28.0}]</td>\n",
              "    </tr>\n",
              "    <tr>\n",
              "      <th>37</th>\n",
              "      <td>167549</td>\n",
              "      <td>Snacks, popcorn, oil-popped, microwave, regular flavor, no trans fat</td>\n",
              "      <td>portion</td>\n",
              "      <td>[{'seq_num': 1, 'amount': 1.0, 'modifier': 'cup', 'gram_weight': 11.0}, {'seq_num': 2, 'amount': 1.0, 'modifier': 'oz', 'gram_weight': 28.35}]</td>\n",
              "    </tr>\n",
              "    <tr>\n",
              "      <th>38</th>\n",
              "      <td>167550</td>\n",
              "      <td>Snacks, popcorn, cakes</td>\n",
              "      <td>portion</td>\n",
              "      <td>[{'seq_num': 1, 'amount': 1.0, 'modifier': 'cake', 'gram_weight': 10.0}, {'seq_num': 2, 'amount': 2.0, 'modifier': 'cakes', 'gram_weight': 20.0}]</td>\n",
              "    </tr>\n",
              "    <tr>\n",
              "      <th>39</th>\n",
              "      <td>167551</td>\n",
              "      <td>Snacks, popcorn, caramel-coated, with peanuts</td>\n",
              "      <td>portion</td>\n",
              "      <td>[{'seq_num': 1, 'amount': 1.0, 'modifier': 'oz (approx 2/3 cup)', 'gram_weight': 28.35}, {'seq_num': 2, 'amount': 2.0, 'modifier': 'oz', 'gram_weight': 57.0}]</td>\n",
              "    </tr>\n",
              "    <tr>\n",
              "      <th>40</th>\n",
              "      <td>167552</td>\n",
              "      <td>Snacks, popcorn, caramel-coated, without peanuts</td>\n",
              "      <td>portion</td>\n",
              "      <td>[{'seq_num': 1, 'amount': 1.0, 'modifier': 'oz', 'gram_weight': 28.35}]</td>\n",
              "    </tr>\n",
              "    <tr>\n",
              "      <th>41</th>\n",
              "      <td>167553</td>\n",
              "      <td>Snacks, potato chips, made from dried potatoes, reduced fat</td>\n",
              "      <td>portion</td>\n",
              "      <td>[{'seq_num': 1, 'amount': 1.0, 'modifier': 'oz', 'gram_weight': 28.35}, {'seq_num': 2, 'amount': 1.0, 'modifier': 'can (6 oz)', 'gram_weight': 170.0}]</td>\n",
              "    </tr>\n",
              "    <tr>\n",
              "      <th>42</th>\n",
              "      <td>167554</td>\n",
              "      <td>Snacks, potato chips, made from dried potatoes, sour-cream and onion-flavor</td>\n",
              "      <td>portion</td>\n",
              "      <td>[{'seq_num': 1, 'amount': 1.0, 'modifier': 'oz', 'gram_weight': 28.35}, {'seq_num': 2, 'amount': 1.0, 'modifier': 'can (6.75 oz)', 'gram_weight': 198.0}]</td>\n",
              "    </tr>\n",
              "    <tr>\n",
              "      <th>43</th>\n",
              "      <td>167555</td>\n",
              "      <td>Snacks, pretzels, hard, plain, salted</td>\n",
              "      <td>portion</td>\n",
              "      <td>[{'seq_num': 1, 'amount': 1.0, 'modifier': 'oz', 'gram_weight': 28.35}, {'seq_num': 2, 'amount': 10.0, 'modifier': 'twists', 'gram_weight': 60.0}]</td>\n",
              "    </tr>\n",
              "    <tr>\n",
              "      <th>44</th>\n",
              "      <td>167556</td>\n",
              "      <td>Snacks, pretzels, hard, confectioner's coating, chocolate-flavor</td>\n",
              "      <td>portion</td>\n",
              "      <td>[{'seq_num': 1, 'amount': 1.0, 'modifier': 'oz', 'gram_weight': 28.35}, {'seq_num': 2, 'amount': 1.0, 'modifier': 'pretzel', 'gram_weight': 11.0}]</td>\n",
              "    </tr>\n",
              "    <tr>\n",
              "      <th>45</th>\n",
              "      <td>167557</td>\n",
              "      <td>Snacks, rice cakes, brown rice, sesame seed</td>\n",
              "      <td>portion</td>\n",
              "      <td>[{'seq_num': 1, 'amount': 1.0, 'modifier': 'cake', 'gram_weight': 9.0}, {'seq_num': 2, 'amount': 2.0, 'modifier': 'cakes', 'gram_weight': 18.0}]</td>\n",
              "    </tr>\n",
              "    <tr>\n",
              "      <th>46</th>\n",
              "      <td>167558</td>\n",
              "      <td>Snacks, tortilla chips, plain, white corn, salted</td>\n",
              "      <td>portion</td>\n",
              "      <td>[{'seq_num': 1, 'amount': 1.0, 'modifier': 'oz', 'gram_weight': 28.35}, {'seq_num': 2, 'amount': 1.0, 'modifier': 'bag', 'gram_weight': 213.0}]</td>\n",
              "    </tr>\n",
              "    <tr>\n",
              "      <th>47</th>\n",
              "      <td>167559</td>\n",
              "      <td>Snacks, tortilla chips, nacho cheese</td>\n",
              "      <td>portion</td>\n",
              "      <td>[{'seq_num': 1, 'amount': 1.0, 'modifier': 'oz', 'gram_weight': 28.35}]</td>\n",
              "    </tr>\n",
              "    <tr>\n",
              "      <th>48</th>\n",
              "      <td>167560</td>\n",
              "      <td>Snacks, tortilla chips, ranch-flavor</td>\n",
              "      <td>portion</td>\n",
              "      <td>[{'seq_num': 1, 'amount': 1.0, 'modifier': 'oz', 'gram_weight': 28.35}, {'seq_num': 2, 'amount': 1.0, 'modifier': 'bag (7 oz)', 'gram_weight': 198.0}]</td>\n",
              "    </tr>\n",
              "    <tr>\n",
              "      <th>49</th>\n",
              "      <td>167561</td>\n",
              "      <td>Snacks, trail mix, regular</td>\n",
              "      <td>portion</td>\n",
              "      <td>[{'seq_num': 1, 'amount': 1.0, 'modifier': 'cup', 'gram_weight': 150.0}, {'seq_num': 2, 'amount': 1.0, 'modifier': 'oz', 'gram_weight': 28.35}, {'seq_num': 3, 'amount': 1.5, 'modifier': 'oz', 'gram_weight': 42.0}]</td>\n",
              "    </tr>\n",
              "  </tbody>\n",
              "</table>\n",
              "</div>"
            ],
            "text/plain": [
              "    fdc_id  ...                                                                                                                                                                                                                                                                                                                    portion\n",
              "0   167512  ...                                                                                                                                                                                                                                                [{'seq_num': 1, 'amount': 1.0, 'modifier': 'serving', 'gram_weight': 34.0}]\n",
              "1   167513  ...                                                                                                                                                                                                                              [{'seq_num': 1, 'amount': 1.0, 'modifier': 'serving 1 roll with icing', 'gram_weight': 44.0}]\n",
              "2   167514  ...                                                                                                                                                                                                                                                [{'seq_num': 1, 'amount': 1.0, 'modifier': 'serving', 'gram_weight': 28.0}]\n",
              "3   167515  ...                                                                                                                                                                                                                                                [{'seq_num': 1, 'amount': 1.0, 'modifier': 'serving', 'gram_weight': 57.0}]\n",
              "4   167516  ...                                                                                                                                                        [{'seq_num': 1, 'amount': 1.0, 'modifier': 'waffle, square', 'gram_weight': 39.0}, {'seq_num': 2, 'amount': 1.0, 'modifier': 'waffle, round', 'gram_weight': 38.0}]\n",
              "5   167517  ...                                                                                                                                                            [{'seq_num': 1, 'amount': 1.0, 'modifier': 'oz', 'gram_weight': 28.0}, {'seq_num': 2, 'amount': 1.0, 'modifier': 'waffle round (4\" dia)', 'gram_weight': 33.0}]\n",
              "6   167518  ...                                                                                                                                                                                                                                                 [{'seq_num': 1, 'amount': 1.0, 'modifier': 'waffle', 'gram_weight': 35.0}]\n",
              "7   167519  ...                                                                                                                                                                                                                                  [{'seq_num': 1, 'amount': 1.0, 'modifier': 'waffle, round (4\"dia)', 'gram_weight': 32.0}]\n",
              "8   167520  ...                                                                                                                                                                          [{'seq_num': 1, 'amount': 1.0, 'modifier': 'oz', 'gram_weight': 28.35}, {'seq_num': 2, 'amount': 1.0, 'modifier': 'crust', 'gram_weight': 183.0}]\n",
              "9   167521  ...                                                                                                                                                                                                                                                 [{'seq_num': 1, 'amount': 1.0, 'modifier': 'crust', 'gram_weight': 182.0}]\n",
              "10  167522  ...  [{'seq_num': 1, 'amount': 0.12, 'modifier': 'pie 1 pie (1/8 of 9\" pie)', 'gram_weight': 131.0}, {'seq_num': 2, 'amount': 1.0, 'modifier': 'slice', 'gram_weight': 137.0}, {'seq_num': 3, 'amount': 1.0, 'modifier': 'pie', 'gram_weight': 1137.0}, {'seq_num': 4, 'amount': 1.0, 'modifier': 'oz', 'gram_weight': 28.35}]\n",
              "11  167523  ...                                                                                                                                                                                                                            [{'seq_num': 1, 'amount': 1.0, 'modifier': 'pie crust (average weight)', 'gram_weight': 225.0}]\n",
              "12  167524  ...                                                                                                                                                                                                                                                [{'seq_num': 1, 'amount': 2.0, 'modifier': 'waffles', 'gram_weight': 70.0}]\n",
              "13  167525  ...                                                                                                                          [{'seq_num': 1, 'amount': 1.0, 'modifier': 'piece', 'gram_weight': 12.3}, {'seq_num': 2, 'amount': 3.0, 'modifier': 'pieces (mean serving weight, aggregated over brands)', 'gram_weight': 37.0}]\n",
              "14  167526  ...                                                                                                      [{'seq_num': 1, 'amount': 1.0, 'modifier': 'serving (approximate serving size)', 'gram_weight': 55.0}, {'seq_num': 2, 'amount': 1.0, 'modifier': 'cake square (average weight of whole item)', 'gram_weight': 399.0}]\n",
              "15  167527  ...                                                                                                                                                                [{'seq_num': 1, 'amount': 1.0, 'modifier': 'serving', 'gram_weight': 55.0}, {'seq_num': 2, 'amount': 1.0, 'modifier': 'cake square', 'gram_weight': 622.0}]\n",
              "16  167528  ...                                                                                                                                                                                                                                                  [{'seq_num': 1, 'amount': 1.0, 'modifier': 'piece', 'gram_weight': 86.0}]\n",
              "17  167529  ...                                                                                                                                 [{'seq_num': 1, 'amount': 1.0, 'modifier': 'serving (1 NLEA serving - about 4 crackers)', 'gram_weight': 30.0}, {'seq_num': 2, 'amount': 1.0, 'modifier': 'cracker', 'gram_weight': 12.7}]\n",
              "18  167530  ...                                                                                                                                                   [{'seq_num': 1, 'amount': 11.0, 'modifier': 'crackers (1 NLEA serving)', 'gram_weight': 31.0}, {'seq_num': 2, 'amount': 1.0, 'modifier': 'cracker', 'gram_weight': 3.1}]\n",
              "19  167531  ...                                                                                                                                                   [{'seq_num': 1, 'amount': 10.0, 'modifier': 'crackers (1 NLEA serving)', 'gram_weight': 32.0}, {'seq_num': 2, 'amount': 1.0, 'modifier': 'cracker', 'gram_weight': 3.1}]\n",
              "20  167532  ...                                                                                                                                                                                                                                                  [{'seq_num': 1, 'amount': 1.0, 'modifier': 'slice', 'gram_weight': 28.0}]\n",
              "21  167533  ...                                                                                                                                                                                                                                                  [{'seq_num': 1, 'amount': 1.0, 'modifier': 'bagel', 'gram_weight': 98.0}]\n",
              "22  167534  ...                                                                                                                                                                                                                                                    [{'seq_num': 1, 'amount': 4.0, 'modifier': 'oz', 'gram_weight': 113.0}]\n",
              "23  167535  ...                                                                                                                                                                   [{'seq_num': 1, 'amount': 1.0, 'modifier': 'tortilla', 'gram_weight': 49.0}, {'seq_num': 2, 'amount': 1.0, 'modifier': 'package', 'gram_weight': 484.0}]\n",
              "24  167536  ...                                                                                             [{'seq_num': 1, 'amount': 1.0, 'modifier': 'oz', 'gram_weight': 28.35}, {'seq_num': 2, 'amount': 1.0, 'modifier': 'piece, large', 'gram_weight': 20.0}, {'seq_num': 3, 'amount': 1.0, 'modifier': 'oz', 'gram_weight': 28.35}]\n",
              "25  167537  ...                                                                                               [{'seq_num': 1, 'amount': 1.0, 'modifier': 'oz', 'gram_weight': 28.0}, {'seq_num': 2, 'amount': 1.0, 'modifier': 'oz', 'gram_weight': 28.35}, {'seq_num': 3, 'amount': 1.0, 'modifier': 'bag (7 oz)', 'gram_weight': 198.0}]\n",
              "26  167538  ...                                                                                                                                                                     [{'seq_num': 1, 'amount': 1.0, 'modifier': 'oz', 'gram_weight': 28.35}, {'seq_num': 2, 'amount': 1.0, 'modifier': 'bag (7 oz)', 'gram_weight': 198.0}]\n",
              "27  167539  ...                                                                                                                                                                                                                                                    [{'seq_num': 1, 'amount': 1.0, 'modifier': 'oz', 'gram_weight': 28.35}]\n",
              "28  167540  ...                                                                                      [{'seq_num': 1, 'amount': 1.0, 'modifier': 'oz', 'gram_weight': 28.35}, {'seq_num': 2, 'amount': 1.0, 'modifier': 'package', 'gram_weight': 27.0}, {'seq_num': 3, 'amount': 1.0, 'modifier': 'packet (.75 oz)', 'gram_weight': 21.0}]\n",
              "29  167541  ...                                                                                                                                                                         [{'seq_num': 1, 'amount': 1.0, 'modifier': 'large', 'gram_weight': 21.0}, {'seq_num': 2, 'amount': 1.0, 'modifier': 'small', 'gram_weight': 14.0}]\n",
              "30  167542  ...                                                                                               [{'seq_num': 1, 'amount': 1.0, 'modifier': 'bar', 'gram_weight': 21.0}, {'seq_num': 2, 'amount': 1.0, 'modifier': 'bar (1 oz)', 'gram_weight': 28.0}, {'seq_num': 3, 'amount': 1.0, 'modifier': 'bar', 'gram_weight': 25.0}]\n",
              "31  167543  ...                                                                                                                                                                             [{'seq_num': 1, 'amount': 1.0, 'modifier': 'oz', 'gram_weight': 28.35}, {'seq_num': 2, 'amount': 1.0, 'modifier': 'bar', 'gram_weight': 24.0}]\n",
              "32  167544  ...                                                                                                                                                             [{'seq_num': 1, 'amount': 1.0, 'modifier': 'bar (1.5 oz)', 'gram_weight': 43.0}, {'seq_num': 2, 'amount': 1.0, 'modifier': 'bar (1 oz)', 'gram_weight': 28.0}]\n",
              "33  167545  ...                                                                                                                                                            [{'seq_num': 1, 'amount': 1.0, 'modifier': 'bar (1.25 oz)', 'gram_weight': 35.0}, {'seq_num': 2, 'amount': 1.0, 'modifier': 'bar (1 oz)', 'gram_weight': 28.0}]\n",
              "34  167546  ...                                                                                                                                                                                                                                                [{'seq_num': 1, 'amount': 1.0, 'modifier': 'serving', 'gram_weight': 40.0}]\n",
              "35  167547  ...                                                                                                                                                                             [{'seq_num': 1, 'amount': 1.0, 'modifier': 'oz', 'gram_weight': 28.35}, {'seq_num': 2, 'amount': 1.0, 'modifier': 'bar', 'gram_weight': 37.0}]\n",
              "36  167548  ...                                                                                                                                                                                                                                             [{'seq_num': 1, 'amount': 1.0, 'modifier': 'bar (1 oz)', 'gram_weight': 28.0}]\n",
              "37  167549  ...                                                                                                                                                                             [{'seq_num': 1, 'amount': 1.0, 'modifier': 'cup', 'gram_weight': 11.0}, {'seq_num': 2, 'amount': 1.0, 'modifier': 'oz', 'gram_weight': 28.35}]\n",
              "38  167550  ...                                                                                                                                                                          [{'seq_num': 1, 'amount': 1.0, 'modifier': 'cake', 'gram_weight': 10.0}, {'seq_num': 2, 'amount': 2.0, 'modifier': 'cakes', 'gram_weight': 20.0}]\n",
              "39  167551  ...                                                                                                                                                             [{'seq_num': 1, 'amount': 1.0, 'modifier': 'oz (approx 2/3 cup)', 'gram_weight': 28.35}, {'seq_num': 2, 'amount': 2.0, 'modifier': 'oz', 'gram_weight': 57.0}]\n",
              "40  167552  ...                                                                                                                                                                                                                                                    [{'seq_num': 1, 'amount': 1.0, 'modifier': 'oz', 'gram_weight': 28.35}]\n",
              "41  167553  ...                                                                                                                                                                     [{'seq_num': 1, 'amount': 1.0, 'modifier': 'oz', 'gram_weight': 28.35}, {'seq_num': 2, 'amount': 1.0, 'modifier': 'can (6 oz)', 'gram_weight': 170.0}]\n",
              "42  167554  ...                                                                                                                                                                  [{'seq_num': 1, 'amount': 1.0, 'modifier': 'oz', 'gram_weight': 28.35}, {'seq_num': 2, 'amount': 1.0, 'modifier': 'can (6.75 oz)', 'gram_weight': 198.0}]\n",
              "43  167555  ...                                                                                                                                                                         [{'seq_num': 1, 'amount': 1.0, 'modifier': 'oz', 'gram_weight': 28.35}, {'seq_num': 2, 'amount': 10.0, 'modifier': 'twists', 'gram_weight': 60.0}]\n",
              "44  167556  ...                                                                                                                                                                         [{'seq_num': 1, 'amount': 1.0, 'modifier': 'oz', 'gram_weight': 28.35}, {'seq_num': 2, 'amount': 1.0, 'modifier': 'pretzel', 'gram_weight': 11.0}]\n",
              "45  167557  ...                                                                                                                                                                           [{'seq_num': 1, 'amount': 1.0, 'modifier': 'cake', 'gram_weight': 9.0}, {'seq_num': 2, 'amount': 2.0, 'modifier': 'cakes', 'gram_weight': 18.0}]\n",
              "46  167558  ...                                                                                                                                                                            [{'seq_num': 1, 'amount': 1.0, 'modifier': 'oz', 'gram_weight': 28.35}, {'seq_num': 2, 'amount': 1.0, 'modifier': 'bag', 'gram_weight': 213.0}]\n",
              "47  167559  ...                                                                                                                                                                                                                                                    [{'seq_num': 1, 'amount': 1.0, 'modifier': 'oz', 'gram_weight': 28.35}]\n",
              "48  167560  ...                                                                                                                                                                     [{'seq_num': 1, 'amount': 1.0, 'modifier': 'oz', 'gram_weight': 28.35}, {'seq_num': 2, 'amount': 1.0, 'modifier': 'bag (7 oz)', 'gram_weight': 198.0}]\n",
              "49  167561  ...                                                                                                      [{'seq_num': 1, 'amount': 1.0, 'modifier': 'cup', 'gram_weight': 150.0}, {'seq_num': 2, 'amount': 1.0, 'modifier': 'oz', 'gram_weight': 28.35}, {'seq_num': 3, 'amount': 1.5, 'modifier': 'oz', 'gram_weight': 42.0}]\n",
              "\n",
              "[50 rows x 4 columns]"
            ]
          },
          "execution_count": 54,
          "metadata": {},
          "output_type": "execute_result"
        }
      ],
      "source": [
        "# solution based on https://stackoverflow.com/questions/52923685/convert-pandas-multiindex-series-to-json-python\n",
        "merged_portion_json = (merged_portion.groupby(['fdc_id','description', 'type'])['seq_num', 'amount', 'modifier', 'gram_weight']\n",
        "       .apply(lambda x: x.to_dict(orient='records'))\n",
        "       .reset_index(name='portion')\n",
        "       #.groupby(['fdc_id', 'description', 'food_category_id', 'type'])['data']\n",
        "       #.apply(lambda x: x.set_index(['type'])['data'].to_dict('split'))\n",
        "       #.to_json(orient='records')\n",
        "       )\n",
        "\n",
        "#for group, frame in merged_json:\n",
        "#  print(frame.columns)\n",
        "#  print(frame)\n",
        "#print(merged_portion_json[:6000])\n",
        "merged_portion_json.head(50)\n",
        "\n"
      ]
    },
    {
      "cell_type": "markdown",
      "metadata": {
        "id": "0wXP62Er4s_C"
      },
      "source": [
        "# PnL and Tax experiment"
      ]
    },
    {
      "cell_type": "markdown",
      "metadata": {
        "id": "K_zaQNK7MXZN"
      },
      "source": [
        "Experimenting to find out good way of formatting Dataframes"
      ]
    },
    {
      "cell_type": "code",
      "execution_count": null,
      "metadata": {
        "colab": {
          "base_uri": "https://localhost:8080/"
        },
        "id": "j3BMraHnl3oo",
        "outputId": "ee0f7248-75e6-4cbc-a8e5-e8fe48a7f50a"
      },
      "outputs": [
        {
          "data": {
            "text/html": [
              "<div>\n",
              "<style scoped>\n",
              "    .dataframe tbody tr th:only-of-type {\n",
              "        vertical-align: middle;\n",
              "    }\n",
              "\n",
              "    .dataframe tbody tr th {\n",
              "        vertical-align: top;\n",
              "    }\n",
              "\n",
              "    .dataframe thead th {\n",
              "        text-align: right;\n",
              "    }\n",
              "</style>\n",
              "<table border=\"1\" class=\"dataframe\">\n",
              "  <thead>\n",
              "    <tr style=\"text-align: right;\">\n",
              "      <th></th>\n",
              "      <th>Product Name</th>\n",
              "      <th>Price</th>\n",
              "    </tr>\n",
              "  </thead>\n",
              "  <tbody>\n",
              "    <tr>\n",
              "      <th>Company A</th>\n",
              "      <td>Orange</td>\n",
              "      <td>3000</td>\n",
              "    </tr>\n",
              "    <tr>\n",
              "      <th>Company B</th>\n",
              "      <td>Apple</td>\n",
              "      <td>2000</td>\n",
              "    </tr>\n",
              "    <tr>\n",
              "      <th>Company B</th>\n",
              "      <td>Grapes</td>\n",
              "      <td>1000</td>\n",
              "    </tr>\n",
              "  </tbody>\n",
              "</table>\n",
              "</div>"
            ],
            "text/plain": [
              "          Product Name Price\n",
              "Company A       Orange  3000\n",
              "Company B        Apple  2000\n",
              "Company B       Grapes  1000"
            ]
          },
          "execution_count": 28,
          "metadata": {},
          "output_type": "execute_result"
        }
      ],
      "source": [
        "pnl = pd.DataFrame(index=['Company A', 'Company B', 'Company B'], columns=['Product Name', 'Price'], data={'Product Name':['Orange', 'Apple', 'Grapes'],'Price':['3000', '2000', '1000']})\n",
        "pnl"
      ]
    },
    {
      "cell_type": "code",
      "execution_count": null,
      "metadata": {
        "colab": {
          "base_uri": "https://localhost:8080/"
        },
        "id": "AvvoiZFBoaj-",
        "outputId": "d71eae76-5f2a-446c-e42b-1f3f4ed9b030"
      },
      "outputs": [
        {
          "data": {
            "text/html": [
              "<div>\n",
              "<style scoped>\n",
              "    .dataframe tbody tr th:only-of-type {\n",
              "        vertical-align: middle;\n",
              "    }\n",
              "\n",
              "    .dataframe tbody tr th {\n",
              "        vertical-align: top;\n",
              "    }\n",
              "\n",
              "    .dataframe thead th {\n",
              "        text-align: right;\n",
              "    }\n",
              "</style>\n",
              "<table border=\"1\" class=\"dataframe\">\n",
              "  <thead>\n",
              "    <tr style=\"text-align: right;\">\n",
              "      <th></th>\n",
              "      <th>Product Name</th>\n",
              "      <th>Price</th>\n",
              "    </tr>\n",
              "  </thead>\n",
              "  <tbody>\n",
              "    <tr>\n",
              "      <th>Company A</th>\n",
              "      <td>Orange</td>\n",
              "      <td>100</td>\n",
              "    </tr>\n",
              "    <tr>\n",
              "      <th>Company B</th>\n",
              "      <td>Apple</td>\n",
              "      <td>100</td>\n",
              "    </tr>\n",
              "    <tr>\n",
              "      <th>Company B</th>\n",
              "      <td>Grapes</td>\n",
              "      <td>10</td>\n",
              "    </tr>\n",
              "  </tbody>\n",
              "</table>\n",
              "</div>"
            ],
            "text/plain": [
              "          Product Name Price\n",
              "Company A       Orange   100\n",
              "Company B        Apple   100\n",
              "Company B       Grapes    10"
            ]
          },
          "execution_count": 29,
          "metadata": {},
          "output_type": "execute_result"
        }
      ],
      "source": [
        "tax = pd.DataFrame(index=['Company A', 'Company B', 'Company B'], columns=['Product Name', 'Price'], data={'Product Name':['Orange', 'Apple', 'Grapes'],'Price':['100', '100', '10']})\n",
        "tax"
      ]
    },
    {
      "cell_type": "code",
      "execution_count": null,
      "metadata": {
        "colab": {
          "base_uri": "https://localhost:8080/"
        },
        "id": "bstP9qq-ookd",
        "outputId": "32472a98-2669-4d65-e8c9-37a907497892"
      },
      "outputs": [
        {
          "name": "stdout",
          "output_type": "stream",
          "text": [
            "  type    company productName price\n",
            "0  PnL  Company A      Orange  3000\n",
            "1  PnL  Company B       Apple  2000\n",
            "2  PnL  Company B      Grapes  1000\n",
            "3  Tax  Company A      Orange   100\n",
            "4  Tax  Company B       Apple   100\n",
            "5  Tax  Company B      Grapes    10\n"
          ]
        }
      ],
      "source": [
        "df1 = pd.concat([pnl, tax], keys=('PnL','Tax')).reset_index()\n",
        "df1.columns = ['type','company','productName','price']\n",
        "print (df1)"
      ]
    },
    {
      "cell_type": "code",
      "execution_count": null,
      "metadata": {
        "colab": {
          "base_uri": "https://localhost:8080/"
        },
        "id": "meoYS2yH8PmH",
        "outputId": "e98a057c-9471-49e8-ad0a-b937ea74aea0"
      },
      "outputs": [
        {
          "name": "stdout",
          "output_type": "stream",
          "text": [
            "{\"PnL\":{\"Company A\":[{\"productName\":\"Orange\",\"price\":\"3000\"}],\"Company B\":[{\"productName\":\"Apple\",\"price\":\"2000\"},{\"productName\":\"Grapes\",\"price\":\"1000\"}]},\"Tax\":{\"Company A\":[{\"productName\":\"Orange\",\"price\":\"100\"}],\"Company B\":[{\"productName\":\"Apple\",\"price\":\"100\"},{\"productName\":\"Grapes\",\"price\":\"10\"}]}}\n"
          ]
        },
        {
          "name": "stderr",
          "output_type": "stream",
          "text": [
            "/usr/local/lib/python3.7/dist-packages/ipykernel_launcher.py:1: FutureWarning: Indexing with multiple keys (implicitly converted to a tuple of keys) will be deprecated, use a list instead.\n",
            "  \"\"\"Entry point for launching an IPython kernel.\n",
            "/usr/local/lib/python3.7/dist-packages/pandas/core/frame.py:1490: FutureWarning: Using short name for 'orient' is deprecated. Only the options: ('dict', list, 'series', 'split', 'records', 'index') will be used in a future version. Use one of the above to silence this warning.\n",
            "  FutureWarning,\n",
            "/usr/local/lib/python3.7/dist-packages/ipykernel_launcher.py:4: FutureWarning: Indexing with multiple keys (implicitly converted to a tuple of keys) will be deprecated, use a list instead.\n",
            "  after removing the cwd from sys.path.\n"
          ]
        }
      ],
      "source": [
        "d = (df1.groupby(['type','company'])['productName','price']\n",
        "       .apply(lambda x: x.to_dict('r'))\n",
        "       .reset_index(name='data')\n",
        "       .groupby('type')['company','data']\n",
        "       .apply(lambda x: x.set_index('company')['data'].to_dict())\n",
        "       .to_json()\n",
        "       )\n",
        "\n",
        "print(d[:1000])\n",
        "\n",
        "#for group, frame in d:\n",
        "#  print(frame)"
      ]
    },
    {
      "cell_type": "markdown",
      "metadata": {
        "id": "Y6TshpV_Rk8G"
      },
      "source": [
        "# Introducing food_nutrient to our DB"
      ]
    },
    {
      "cell_type": "code",
      "execution_count": null,
      "metadata": {
        "colab": {
          "base_uri": "https://localhost:8080/"
        },
        "id": "paPxy9LPRpox",
        "outputId": "48fc6a32-c845-40f7-b7fb-d733a3f3797b"
      },
      "outputs": [
        {
          "data": {
            "text/plain": [
              "68"
            ]
          },
          "execution_count": 47,
          "metadata": {},
          "output_type": "execute_result"
        }
      ],
      "source": [
        "df_nutrients = sr_legacy_data_nutrients.copy()\n",
        "df_nutrients.drop(columns=['id', 'min', 'max', 'median', 'derivation_id', 'data_points', 'footnote', 'min_year_acquired'], inplace=True)\n",
        "df_nutrients.rename(columns={'amount': 'nutrient_amount'}, inplace=True)\n",
        "len(df_nutrients[df_nutrients['fdc_id'] == 171687])"
      ]
    },
    {
      "cell_type": "markdown",
      "metadata": {
        "id": "3vdjRyWi44Hm"
      },
      "source": [
        "# getting description and food_category_id and type into nutrients df"
      ]
    },
    {
      "cell_type": "markdown",
      "metadata": {
        "id": "_ViuOUX6Qmoo"
      },
      "source": [
        "In cell below there is an error. It seems that each portion has it's own amount of nutrients, which is not correct according to the documentation created couple of cells higher. Resolve tomorrow"
      ]
    },
    {
      "cell_type": "code",
      "execution_count": null,
      "metadata": {
        "colab": {
          "base_uri": "https://localhost:8080/",
          "height": 1000
        },
        "id": "PYZZiSm2Ot3W",
        "outputId": "8e641970-1dfe-4f64-e3c1-951f469bb2b3"
      },
      "outputs": [
        {
          "data": {
            "text/html": [
              "<div>\n",
              "<style scoped>\n",
              "    .dataframe tbody tr th:only-of-type {\n",
              "        vertical-align: middle;\n",
              "    }\n",
              "\n",
              "    .dataframe tbody tr th {\n",
              "        vertical-align: top;\n",
              "    }\n",
              "\n",
              "    .dataframe thead th {\n",
              "        text-align: right;\n",
              "    }\n",
              "</style>\n",
              "<table border=\"1\" class=\"dataframe\">\n",
              "  <thead>\n",
              "    <tr style=\"text-align: right;\">\n",
              "      <th></th>\n",
              "      <th>fdc_id</th>\n",
              "      <th>description</th>\n",
              "      <th>nutrient_id</th>\n",
              "      <th>nutrient_amount</th>\n",
              "    </tr>\n",
              "  </thead>\n",
              "  <tbody>\n",
              "    <tr>\n",
              "      <th>347554</th>\n",
              "      <td>171687</td>\n",
              "      <td>Acerola juice, raw</td>\n",
              "      <td>1062</td>\n",
              "      <td>96.000</td>\n",
              "    </tr>\n",
              "    <tr>\n",
              "      <th>347555</th>\n",
              "      <td>171687</td>\n",
              "      <td>Acerola juice, raw</td>\n",
              "      <td>1186</td>\n",
              "      <td>0.000</td>\n",
              "    </tr>\n",
              "    <tr>\n",
              "      <th>347556</th>\n",
              "      <td>171687</td>\n",
              "      <td>Acerola juice, raw</td>\n",
              "      <td>1259</td>\n",
              "      <td>0.000</td>\n",
              "    </tr>\n",
              "    <tr>\n",
              "      <th>347557</th>\n",
              "      <td>171687</td>\n",
              "      <td>Acerola juice, raw</td>\n",
              "      <td>1260</td>\n",
              "      <td>0.000</td>\n",
              "    </tr>\n",
              "    <tr>\n",
              "      <th>347558</th>\n",
              "      <td>171687</td>\n",
              "      <td>Acerola juice, raw</td>\n",
              "      <td>1262</td>\n",
              "      <td>0.000</td>\n",
              "    </tr>\n",
              "    <tr>\n",
              "      <th>347559</th>\n",
              "      <td>171687</td>\n",
              "      <td>Acerola juice, raw</td>\n",
              "      <td>1265</td>\n",
              "      <td>0.048</td>\n",
              "    </tr>\n",
              "    <tr>\n",
              "      <th>347560</th>\n",
              "      <td>171687</td>\n",
              "      <td>Acerola juice, raw</td>\n",
              "      <td>1266</td>\n",
              "      <td>0.016</td>\n",
              "    </tr>\n",
              "    <tr>\n",
              "      <th>347561</th>\n",
              "      <td>171687</td>\n",
              "      <td>Acerola juice, raw</td>\n",
              "      <td>1268</td>\n",
              "      <td>0.081</td>\n",
              "    </tr>\n",
              "    <tr>\n",
              "      <th>347562</th>\n",
              "      <td>171687</td>\n",
              "      <td>Acerola juice, raw</td>\n",
              "      <td>1269</td>\n",
              "      <td>0.046</td>\n",
              "    </tr>\n",
              "    <tr>\n",
              "      <th>347563</th>\n",
              "      <td>171687</td>\n",
              "      <td>Acerola juice, raw</td>\n",
              "      <td>1270</td>\n",
              "      <td>0.044</td>\n",
              "    </tr>\n",
              "    <tr>\n",
              "      <th>347564</th>\n",
              "      <td>171687</td>\n",
              "      <td>Acerola juice, raw</td>\n",
              "      <td>1271</td>\n",
              "      <td>0.000</td>\n",
              "    </tr>\n",
              "    <tr>\n",
              "      <th>347565</th>\n",
              "      <td>171687</td>\n",
              "      <td>Acerola juice, raw</td>\n",
              "      <td>1276</td>\n",
              "      <td>0.000</td>\n",
              "    </tr>\n",
              "    <tr>\n",
              "      <th>347566</th>\n",
              "      <td>171687</td>\n",
              "      <td>Acerola juice, raw</td>\n",
              "      <td>1277</td>\n",
              "      <td>0.000</td>\n",
              "    </tr>\n",
              "    <tr>\n",
              "      <th>347567</th>\n",
              "      <td>171687</td>\n",
              "      <td>Acerola juice, raw</td>\n",
              "      <td>1279</td>\n",
              "      <td>0.000</td>\n",
              "    </tr>\n",
              "    <tr>\n",
              "      <th>347568</th>\n",
              "      <td>171687</td>\n",
              "      <td>Acerola juice, raw</td>\n",
              "      <td>1292</td>\n",
              "      <td>0.082</td>\n",
              "    </tr>\n",
              "    <tr>\n",
              "      <th>347569</th>\n",
              "      <td>171687</td>\n",
              "      <td>Acerola juice, raw</td>\n",
              "      <td>1258</td>\n",
              "      <td>0.068</td>\n",
              "    </tr>\n",
              "    <tr>\n",
              "      <th>347570</th>\n",
              "      <td>171687</td>\n",
              "      <td>Acerola juice, raw</td>\n",
              "      <td>1261</td>\n",
              "      <td>0.000</td>\n",
              "    </tr>\n",
              "    <tr>\n",
              "      <th>347571</th>\n",
              "      <td>171687</td>\n",
              "      <td>Acerola juice, raw</td>\n",
              "      <td>1263</td>\n",
              "      <td>0.000</td>\n",
              "    </tr>\n",
              "    <tr>\n",
              "      <th>347572</th>\n",
              "      <td>171687</td>\n",
              "      <td>Acerola juice, raw</td>\n",
              "      <td>1264</td>\n",
              "      <td>0.002</td>\n",
              "    </tr>\n",
              "    <tr>\n",
              "      <th>347573</th>\n",
              "      <td>171687</td>\n",
              "      <td>Acerola juice, raw</td>\n",
              "      <td>1272</td>\n",
              "      <td>0.000</td>\n",
              "    </tr>\n",
              "    <tr>\n",
              "      <th>347574</th>\n",
              "      <td>171687</td>\n",
              "      <td>Acerola juice, raw</td>\n",
              "      <td>1275</td>\n",
              "      <td>0.001</td>\n",
              "    </tr>\n",
              "    <tr>\n",
              "      <th>347575</th>\n",
              "      <td>171687</td>\n",
              "      <td>Acerola juice, raw</td>\n",
              "      <td>1278</td>\n",
              "      <td>0.000</td>\n",
              "    </tr>\n",
              "    <tr>\n",
              "      <th>347576</th>\n",
              "      <td>171687</td>\n",
              "      <td>Acerola juice, raw</td>\n",
              "      <td>1280</td>\n",
              "      <td>0.000</td>\n",
              "    </tr>\n",
              "    <tr>\n",
              "      <th>347577</th>\n",
              "      <td>171687</td>\n",
              "      <td>Acerola juice, raw</td>\n",
              "      <td>1106</td>\n",
              "      <td>25.000</td>\n",
              "    </tr>\n",
              "    <tr>\n",
              "      <th>347578</th>\n",
              "      <td>171687</td>\n",
              "      <td>Acerola juice, raw</td>\n",
              "      <td>1107</td>\n",
              "      <td>305.000</td>\n",
              "    </tr>\n",
              "    <tr>\n",
              "      <th>347579</th>\n",
              "      <td>171687</td>\n",
              "      <td>Acerola juice, raw</td>\n",
              "      <td>1108</td>\n",
              "      <td>0.000</td>\n",
              "    </tr>\n",
              "    <tr>\n",
              "      <th>347580</th>\n",
              "      <td>171687</td>\n",
              "      <td>Acerola juice, raw</td>\n",
              "      <td>1120</td>\n",
              "      <td>0.000</td>\n",
              "    </tr>\n",
              "    <tr>\n",
              "      <th>347581</th>\n",
              "      <td>171687</td>\n",
              "      <td>Acerola juice, raw</td>\n",
              "      <td>1122</td>\n",
              "      <td>0.000</td>\n",
              "    </tr>\n",
              "    <tr>\n",
              "      <th>347582</th>\n",
              "      <td>171687</td>\n",
              "      <td>Acerola juice, raw</td>\n",
              "      <td>1185</td>\n",
              "      <td>1.400</td>\n",
              "    </tr>\n",
              "    <tr>\n",
              "      <th>347583</th>\n",
              "      <td>171687</td>\n",
              "      <td>Acerola juice, raw</td>\n",
              "      <td>1187</td>\n",
              "      <td>14.000</td>\n",
              "    </tr>\n",
              "    <tr>\n",
              "      <th>347584</th>\n",
              "      <td>171687</td>\n",
              "      <td>Acerola juice, raw</td>\n",
              "      <td>1109</td>\n",
              "      <td>0.180</td>\n",
              "    </tr>\n",
              "    <tr>\n",
              "      <th>347585</th>\n",
              "      <td>171687</td>\n",
              "      <td>Acerola juice, raw</td>\n",
              "      <td>1123</td>\n",
              "      <td>17.000</td>\n",
              "    </tr>\n",
              "    <tr>\n",
              "      <th>347586</th>\n",
              "      <td>171687</td>\n",
              "      <td>Acerola juice, raw</td>\n",
              "      <td>1190</td>\n",
              "      <td>14.000</td>\n",
              "    </tr>\n",
              "    <tr>\n",
              "      <th>347587</th>\n",
              "      <td>171687</td>\n",
              "      <td>Acerola juice, raw</td>\n",
              "      <td>1057</td>\n",
              "      <td>0.000</td>\n",
              "    </tr>\n",
              "    <tr>\n",
              "      <th>347588</th>\n",
              "      <td>171687</td>\n",
              "      <td>Acerola juice, raw</td>\n",
              "      <td>1058</td>\n",
              "      <td>0.000</td>\n",
              "    </tr>\n",
              "    <tr>\n",
              "      <th>347589</th>\n",
              "      <td>171687</td>\n",
              "      <td>Acerola juice, raw</td>\n",
              "      <td>2000</td>\n",
              "      <td>4.500</td>\n",
              "    </tr>\n",
              "    <tr>\n",
              "      <th>347590</th>\n",
              "      <td>171687</td>\n",
              "      <td>Acerola juice, raw</td>\n",
              "      <td>1095</td>\n",
              "      <td>0.100</td>\n",
              "    </tr>\n",
              "    <tr>\n",
              "      <th>347591</th>\n",
              "      <td>171687</td>\n",
              "      <td>Acerola juice, raw</td>\n",
              "      <td>1293</td>\n",
              "      <td>0.090</td>\n",
              "    </tr>\n",
              "    <tr>\n",
              "      <th>347592</th>\n",
              "      <td>171687</td>\n",
              "      <td>Acerola juice, raw</td>\n",
              "      <td>1177</td>\n",
              "      <td>14.000</td>\n",
              "    </tr>\n",
              "    <tr>\n",
              "      <th>347593</th>\n",
              "      <td>171687</td>\n",
              "      <td>Acerola juice, raw</td>\n",
              "      <td>1098</td>\n",
              "      <td>0.086</td>\n",
              "    </tr>\n",
              "    <tr>\n",
              "      <th>347594</th>\n",
              "      <td>171687</td>\n",
              "      <td>Acerola juice, raw</td>\n",
              "      <td>1018</td>\n",
              "      <td>0.000</td>\n",
              "    </tr>\n",
              "    <tr>\n",
              "      <th>347595</th>\n",
              "      <td>171687</td>\n",
              "      <td>Acerola juice, raw</td>\n",
              "      <td>1008</td>\n",
              "      <td>23.000</td>\n",
              "    </tr>\n",
              "    <tr>\n",
              "      <th>347596</th>\n",
              "      <td>171687</td>\n",
              "      <td>Acerola juice, raw</td>\n",
              "      <td>1105</td>\n",
              "      <td>0.000</td>\n",
              "    </tr>\n",
              "    <tr>\n",
              "      <th>347597</th>\n",
              "      <td>171687</td>\n",
              "      <td>Acerola juice, raw</td>\n",
              "      <td>1257</td>\n",
              "      <td>0.000</td>\n",
              "    </tr>\n",
              "    <tr>\n",
              "      <th>347598</th>\n",
              "      <td>171687</td>\n",
              "      <td>Acerola juice, raw</td>\n",
              "      <td>1003</td>\n",
              "      <td>0.400</td>\n",
              "    </tr>\n",
              "    <tr>\n",
              "      <th>347599</th>\n",
              "      <td>171687</td>\n",
              "      <td>Acerola juice, raw</td>\n",
              "      <td>1007</td>\n",
              "      <td>0.200</td>\n",
              "    </tr>\n",
              "    <tr>\n",
              "      <th>347600</th>\n",
              "      <td>171687</td>\n",
              "      <td>Acerola juice, raw</td>\n",
              "      <td>1079</td>\n",
              "      <td>0.300</td>\n",
              "    </tr>\n",
              "    <tr>\n",
              "      <th>347601</th>\n",
              "      <td>171687</td>\n",
              "      <td>Acerola juice, raw</td>\n",
              "      <td>1089</td>\n",
              "      <td>0.500</td>\n",
              "    </tr>\n",
              "    <tr>\n",
              "      <th>347602</th>\n",
              "      <td>171687</td>\n",
              "      <td>Acerola juice, raw</td>\n",
              "      <td>1090</td>\n",
              "      <td>12.000</td>\n",
              "    </tr>\n",
              "    <tr>\n",
              "      <th>347603</th>\n",
              "      <td>171687</td>\n",
              "      <td>Acerola juice, raw</td>\n",
              "      <td>1091</td>\n",
              "      <td>9.000</td>\n",
              "    </tr>\n",
              "    <tr>\n",
              "      <th>347604</th>\n",
              "      <td>171687</td>\n",
              "      <td>Acerola juice, raw</td>\n",
              "      <td>1093</td>\n",
              "      <td>3.000</td>\n",
              "    </tr>\n",
              "    <tr>\n",
              "      <th>347605</th>\n",
              "      <td>171687</td>\n",
              "      <td>Acerola juice, raw</td>\n",
              "      <td>1104</td>\n",
              "      <td>509.000</td>\n",
              "    </tr>\n",
              "    <tr>\n",
              "      <th>347606</th>\n",
              "      <td>171687</td>\n",
              "      <td>Acerola juice, raw</td>\n",
              "      <td>1178</td>\n",
              "      <td>0.000</td>\n",
              "    </tr>\n",
              "    <tr>\n",
              "      <th>347607</th>\n",
              "      <td>171687</td>\n",
              "      <td>Acerola juice, raw</td>\n",
              "      <td>1162</td>\n",
              "      <td>1600.000</td>\n",
              "    </tr>\n",
              "    <tr>\n",
              "      <th>347608</th>\n",
              "      <td>171687</td>\n",
              "      <td>Acerola juice, raw</td>\n",
              "      <td>1165</td>\n",
              "      <td>0.020</td>\n",
              "    </tr>\n",
              "    <tr>\n",
              "      <th>347609</th>\n",
              "      <td>171687</td>\n",
              "      <td>Acerola juice, raw</td>\n",
              "      <td>1166</td>\n",
              "      <td>0.060</td>\n",
              "    </tr>\n",
              "    <tr>\n",
              "      <th>347610</th>\n",
              "      <td>171687</td>\n",
              "      <td>Acerola juice, raw</td>\n",
              "      <td>1253</td>\n",
              "      <td>0.000</td>\n",
              "    </tr>\n",
              "    <tr>\n",
              "      <th>347611</th>\n",
              "      <td>171687</td>\n",
              "      <td>Acerola juice, raw</td>\n",
              "      <td>1004</td>\n",
              "      <td>0.300</td>\n",
              "    </tr>\n",
              "    <tr>\n",
              "      <th>347612</th>\n",
              "      <td>171687</td>\n",
              "      <td>Acerola juice, raw</td>\n",
              "      <td>1005</td>\n",
              "      <td>4.800</td>\n",
              "    </tr>\n",
              "    <tr>\n",
              "      <th>347613</th>\n",
              "      <td>171687</td>\n",
              "      <td>Acerola juice, raw</td>\n",
              "      <td>1051</td>\n",
              "      <td>94.300</td>\n",
              "    </tr>\n",
              "    <tr>\n",
              "      <th>347614</th>\n",
              "      <td>171687</td>\n",
              "      <td>Acerola juice, raw</td>\n",
              "      <td>1087</td>\n",
              "      <td>10.000</td>\n",
              "    </tr>\n",
              "    <tr>\n",
              "      <th>347615</th>\n",
              "      <td>171687</td>\n",
              "      <td>Acerola juice, raw</td>\n",
              "      <td>1092</td>\n",
              "      <td>97.000</td>\n",
              "    </tr>\n",
              "    <tr>\n",
              "      <th>347616</th>\n",
              "      <td>171687</td>\n",
              "      <td>Acerola juice, raw</td>\n",
              "      <td>1167</td>\n",
              "      <td>0.400</td>\n",
              "    </tr>\n",
              "    <tr>\n",
              "      <th>347617</th>\n",
              "      <td>171687</td>\n",
              "      <td>Acerola juice, raw</td>\n",
              "      <td>1170</td>\n",
              "      <td>0.205</td>\n",
              "    </tr>\n",
              "    <tr>\n",
              "      <th>347618</th>\n",
              "      <td>171687</td>\n",
              "      <td>Acerola juice, raw</td>\n",
              "      <td>1175</td>\n",
              "      <td>0.004</td>\n",
              "    </tr>\n",
              "    <tr>\n",
              "      <th>347619</th>\n",
              "      <td>171687</td>\n",
              "      <td>Acerola juice, raw</td>\n",
              "      <td>1242</td>\n",
              "      <td>0.000</td>\n",
              "    </tr>\n",
              "    <tr>\n",
              "      <th>347620</th>\n",
              "      <td>171687</td>\n",
              "      <td>Acerola juice, raw</td>\n",
              "      <td>1246</td>\n",
              "      <td>0.000</td>\n",
              "    </tr>\n",
              "    <tr>\n",
              "      <th>347621</th>\n",
              "      <td>171687</td>\n",
              "      <td>Acerola juice, raw</td>\n",
              "      <td>1103</td>\n",
              "      <td>0.100</td>\n",
              "    </tr>\n",
              "  </tbody>\n",
              "</table>\n",
              "</div>"
            ],
            "text/plain": [
              "        fdc_id         description  nutrient_id  nutrient_amount\n",
              "347554  171687  Acerola juice, raw         1062           96.000\n",
              "347555  171687  Acerola juice, raw         1186            0.000\n",
              "347556  171687  Acerola juice, raw         1259            0.000\n",
              "347557  171687  Acerola juice, raw         1260            0.000\n",
              "347558  171687  Acerola juice, raw         1262            0.000\n",
              "347559  171687  Acerola juice, raw         1265            0.048\n",
              "347560  171687  Acerola juice, raw         1266            0.016\n",
              "347561  171687  Acerola juice, raw         1268            0.081\n",
              "347562  171687  Acerola juice, raw         1269            0.046\n",
              "347563  171687  Acerola juice, raw         1270            0.044\n",
              "347564  171687  Acerola juice, raw         1271            0.000\n",
              "347565  171687  Acerola juice, raw         1276            0.000\n",
              "347566  171687  Acerola juice, raw         1277            0.000\n",
              "347567  171687  Acerola juice, raw         1279            0.000\n",
              "347568  171687  Acerola juice, raw         1292            0.082\n",
              "347569  171687  Acerola juice, raw         1258            0.068\n",
              "347570  171687  Acerola juice, raw         1261            0.000\n",
              "347571  171687  Acerola juice, raw         1263            0.000\n",
              "347572  171687  Acerola juice, raw         1264            0.002\n",
              "347573  171687  Acerola juice, raw         1272            0.000\n",
              "347574  171687  Acerola juice, raw         1275            0.001\n",
              "347575  171687  Acerola juice, raw         1278            0.000\n",
              "347576  171687  Acerola juice, raw         1280            0.000\n",
              "347577  171687  Acerola juice, raw         1106           25.000\n",
              "347578  171687  Acerola juice, raw         1107          305.000\n",
              "347579  171687  Acerola juice, raw         1108            0.000\n",
              "347580  171687  Acerola juice, raw         1120            0.000\n",
              "347581  171687  Acerola juice, raw         1122            0.000\n",
              "347582  171687  Acerola juice, raw         1185            1.400\n",
              "347583  171687  Acerola juice, raw         1187           14.000\n",
              "347584  171687  Acerola juice, raw         1109            0.180\n",
              "347585  171687  Acerola juice, raw         1123           17.000\n",
              "347586  171687  Acerola juice, raw         1190           14.000\n",
              "347587  171687  Acerola juice, raw         1057            0.000\n",
              "347588  171687  Acerola juice, raw         1058            0.000\n",
              "347589  171687  Acerola juice, raw         2000            4.500\n",
              "347590  171687  Acerola juice, raw         1095            0.100\n",
              "347591  171687  Acerola juice, raw         1293            0.090\n",
              "347592  171687  Acerola juice, raw         1177           14.000\n",
              "347593  171687  Acerola juice, raw         1098            0.086\n",
              "347594  171687  Acerola juice, raw         1018            0.000\n",
              "347595  171687  Acerola juice, raw         1008           23.000\n",
              "347596  171687  Acerola juice, raw         1105            0.000\n",
              "347597  171687  Acerola juice, raw         1257            0.000\n",
              "347598  171687  Acerola juice, raw         1003            0.400\n",
              "347599  171687  Acerola juice, raw         1007            0.200\n",
              "347600  171687  Acerola juice, raw         1079            0.300\n",
              "347601  171687  Acerola juice, raw         1089            0.500\n",
              "347602  171687  Acerola juice, raw         1090           12.000\n",
              "347603  171687  Acerola juice, raw         1091            9.000\n",
              "347604  171687  Acerola juice, raw         1093            3.000\n",
              "347605  171687  Acerola juice, raw         1104          509.000\n",
              "347606  171687  Acerola juice, raw         1178            0.000\n",
              "347607  171687  Acerola juice, raw         1162         1600.000\n",
              "347608  171687  Acerola juice, raw         1165            0.020\n",
              "347609  171687  Acerola juice, raw         1166            0.060\n",
              "347610  171687  Acerola juice, raw         1253            0.000\n",
              "347611  171687  Acerola juice, raw         1004            0.300\n",
              "347612  171687  Acerola juice, raw         1005            4.800\n",
              "347613  171687  Acerola juice, raw         1051           94.300\n",
              "347614  171687  Acerola juice, raw         1087           10.000\n",
              "347615  171687  Acerola juice, raw         1092           97.000\n",
              "347616  171687  Acerola juice, raw         1167            0.400\n",
              "347617  171687  Acerola juice, raw         1170            0.205\n",
              "347618  171687  Acerola juice, raw         1175            0.004\n",
              "347619  171687  Acerola juice, raw         1242            0.000\n",
              "347620  171687  Acerola juice, raw         1246            0.000\n",
              "347621  171687  Acerola juice, raw         1103            0.100"
            ]
          },
          "execution_count": 60,
          "metadata": {},
          "output_type": "execute_result"
        }
      ],
      "source": [
        "nutrient = pd.merge(df_nutrients,merged_portion_json[['fdc_id', 'description']], how='left', on='fdc_id')\n",
        "nutrient = nutrient[['fdc_id','description' , 'nutrient_id', 'nutrient_amount']]\n",
        "#nutrient.head(50)\n",
        "nutrient[nutrient['description'] == 'Acerola juice, raw']"
      ]
    },
    {
      "cell_type": "code",
      "execution_count": null,
      "metadata": {
        "id": "mtVF49QQMncS"
      },
      "outputs": [],
      "source": [
        "#df_nutrient_descriptions.drop(columns=['nutrient_nbr', 'rank'], inplace=True)"
      ]
    },
    {
      "cell_type": "code",
      "execution_count": null,
      "metadata": {
        "colab": {
          "base_uri": "https://localhost:8080/"
        },
        "id": "3CgehE5LMG8R",
        "outputId": "ac68701b-848e-460c-c32c-97543e2fa253"
      },
      "outputs": [
        {
          "data": {
            "text/plain": [
              "68"
            ]
          },
          "execution_count": 64,
          "metadata": {},
          "output_type": "execute_result"
        }
      ],
      "source": [
        "merged_nutrient_description = pd.merge(nutrient, df_nutrient_descriptions, how='left', left_on='nutrient_id', right_on='id')\n",
        "#merged_nutrient_description.head()\n",
        "merged_nutrient_description.drop(columns='id', inplace=True)\n",
        "merged_nutrient_description_final = merged_nutrient_description[['fdc_id', 'description', 'nutrient_id', 'name', 'nutrient_amount', 'unit_name']].copy()\n",
        "merged_nutrient_description_final.rename(columns={'name':'nutrient_name', 'unit_name':'nutrient_unit_name'}, inplace=True)\n",
        "merged_nutrient_description_final\n",
        "len(merged_nutrient_description_final[merged_nutrient_description_final['description'] == 'Acerola juice, raw'])"
      ]
    },
    {
      "cell_type": "markdown",
      "metadata": {
        "id": "o7Mm8M8eQNSj"
      },
      "source": [
        "# preprocessing nutrients to a dict"
      ]
    },
    {
      "cell_type": "code",
      "execution_count": null,
      "metadata": {
        "colab": {
          "base_uri": "https://localhost:8080/"
        },
        "id": "tyxB2gck0Vc5",
        "outputId": "36ad8df0-7f41-4dc0-92dd-de02cb0d3cc7"
      },
      "outputs": [
        {
          "name": "stderr",
          "output_type": "stream",
          "text": [
            "/usr/local/lib/python3.7/dist-packages/ipykernel_launcher.py:1: FutureWarning: Indexing with multiple keys (implicitly converted to a tuple of keys) will be deprecated, use a list instead.\n",
            "  \"\"\"Entry point for launching an IPython kernel.\n"
          ]
        }
      ],
      "source": [
        "nutrients_dict = (merged_nutrient_description_final.groupby(['fdc_id', 'description'])['nutrient_id', 'nutrient_name', 'nutrient_amount', 'nutrient_unit_name']\n",
        "     .apply(lambda x: x.to_dict(orient='records'))\n",
        "     .reset_index(name='nutrient')\n",
        "     #.to_json(orient='records')\n",
        ")\n",
        "\n",
        "#d[:6000]\n",
        "#merged_json['fdc_id'].index\n",
        "#series.compare(merged_json['fdc_id'].sort_values())"
      ]
    },
    {
      "cell_type": "markdown",
      "metadata": {
        "id": "iiO0sTGwYDsw"
      },
      "source": [
        "# putting all data together into one df"
      ]
    },
    {
      "cell_type": "code",
      "execution_count": null,
      "metadata": {
        "colab": {
          "base_uri": "https://localhost:8080/"
        },
        "id": "hS2oxWo7RwdV",
        "outputId": "c2a964f7-7ba6-4d12-d854-ff58d05d7a08"
      },
      "outputs": [
        {
          "name": "stdout",
          "output_type": "stream",
          "text": [
            "[{\"fdc_id\":167512,\"description\":\"Pillsbury Golden Layer Buttermilk Biscuits, Artificial Flavor, refrigerated dough\",\"portion\":[{\"seq_num\":1,\"amount\":1.0,\"modifier\":\"serving\",\"gram_weight\":34.0}],\"nutrient\":[{\"nutrient_id\":1003,\"nutrient_name\":\"Protein\",\"nutrient_amount\":5.88,\"nutrient_unit_name\":\"G\"},{\"nutrient_id\":1007,\"nutrient_name\":\"Ash\",\"nutrient_amount\":3.5,\"nutrient_unit_name\":\"G\"},{\"nutrient_id\":1062,\"nutrient_name\":\"Energy\",\"nutrient_amount\":1286.0,\"nutrient_unit_name\":\"kJ\"},{\"nutrient_id\":1079,\"nutrient_name\":\"Fiber, total dietary\",\"nutrient_amount\":1.2,\"nutrient_unit_name\":\"G\"},{\"nutrient_id\":1089,\"nutrient_name\":\"Iron, Fe\",\"nutrient_amount\":2.12,\"nutrient_unit_name\":\"MG\"},{\"nutrient_id\":1093,\"nutrient_name\":\"Sodium, Na\",\"nutrient_amount\":1059.0,\"nutrient_unit_name\":\"MG\"},{\"nutrient_id\":1253,\"nutrient_name\":\"Cholesterol\",\"nutrient_amount\":0.0,\"nutrient_unit_name\":\"MG\"},{\"nutrient_id\":1257,\"nutrient_name\":\"Fatty acids, total trans\",\"nutrient_amount\":4.412,\"nutrient_unit_name\":\"G\"},{\"nutrient_id\":1258,\"nutrient_name\":\"Fatty acids, total saturated\",\"nutrient_amount\":2.941,\"nutrient_unit_name\":\"G\"},{\"nutrient_id\":1004,\"nutrient_name\":\"Total lipid (fat)\",\"nutrient_amount\":13.24,\"nutrient_unit_name\":\"G\"},{\"nutrient_id\":1005,\"nutrient_name\":\"Carbohydrate, by difference\",\"nutrient_amount\":41.18,\"nutrient_unit_name\":\"G\"},{\"nutrient_id\":1008,\"nutrient_name\":\"Energy\",\"nutrient_amount\":307.0,\"nutrient_unit_name\":\"KCAL\"},{\"nutrient_id\":1051,\"nutrient_name\":\"Water\",\"nutrient_amount\":35.5,\"nutrient_unit_name\":\"G\"},{\"nutrient_id\":2000,\"nutrient_name\":\"Sugars, total including NLEA\",\"nutrient_amount\":5.88,\"nutrient_unit_name\":\"G\"}]},{\"fdc_id\":167513,\"description\":\"Pillsbury, Cinnamon Rolls with Icing, refrigerated dough\",\"portion\":[{\"seq_num\":1,\"amount\":1.0,\"modifier\":\"serving 1 roll with icing\",\"gram_weight\":44.0}],\"nutrient\":[{\"nutrient_id\":1003,\"nutrient_name\":\"Protein\",\"nutrient_amount\":4.34,\"nutrient_unit_name\":\"G\"},{\"nutrient_id\":1007,\"nutrient_name\":\"Ash\",\"nutrient_amount\":3.08,\"nutrient_unit_name\":\"G\"},{\"nutrient_id\":1062,\"nutrient_name\":\"Energy\",\"nutrient_amount\":1381.0,\"nutrient_unit_name\":\"kJ\"},{\"nutrient_id\":1079,\"nutrient_name\":\"Fiber, total dietary\",\"nutrient_amount\":1.4,\"nutrient_unit_name\":\"G\"},{\"nutrient_id\":1089,\"nutrient_name\":\"Iron, Fe\",\"nutrient_amount\":1.93,\"nutrient_unit_name\":\"MG\"},{\"nutrient_id\":1093,\"nutrient_name\":\"Sodium, Na\",\"nutrient_amount\":780.0,\"nutrient_unit_name\":\"MG\"},{\"nutrient_id\":1104,\"nutrient_name\":\"Vitamin A, IU\",\"nutrient_amount\":1.0,\"nutrient_unit_name\":\"IU\"},{\"nutrient_id\":1106,\"nutrient_name\":\"Vitamin A, RAE\",\"nutrient_amount\":0.0,\"nutrient_unit_name\":\"UG\"},{\"nutrient_id\":1162,\"nutrient_name\":\"Vitamin C, total ascorbic acid\",\"nutrient_amount\":0.1,\"nutrient_unit_name\":\"MG\"},{\"nutrient_id\":1253,\"nutrient_name\":\"Cholesterol\",\"nutrient_amount\":0.0,\"nutrient_unit_name\":\"MG\"},{\"nutrient_id\":1257,\"nutrient_name\":\"Fatty acids, total trans\",\"nutrient_amount\":4.29,\"nutrient_unit_name\":\"G\"},{\"nutrient_id\":1258,\"nutrient_name\":\"Fatty acids, total saturated\",\"nutrient_amount\":3.25,\"nutrient_unit_name\":\"G\"},{\"nutrient_id\":1004,\"nutrient_name\":\"Total lipid (fat)\",\"nutrient_amount\":11.27,\"nutrient_unit_name\":\"G\"},{\"nutrient_id\":1005,\"nutrient_name\":\"Carbohydrate, by difference\",\"nutrient_amount\":53.42,\"nutrient_unit_name\":\"G\"},{\"nutrient_id\":1008,\"nutrient_name\":\"Energy\",\"nutrient_amount\":330.0,\"nutrient_unit_name\":\"KCAL\"},{\"nutrient_id\":1051,\"nutrient_name\":\"Water\",\"nutrient_amount\":27.86,\"nutrient_unit_name\":\"G\"},{\"nutrient_id\":2000,\"nutrient_name\":\"Sugars, total including NLEA\",\"nutrient_amount\":21.34,\"nutrient_unit_name\":\"G\"},{\"nutrient_id\":1087,\"nutrient_name\":\"Calcium, Ca\",\"nutrient_amount\":28.0,\"nutrient_unit_name\":\"MG\"}]},{\"fdc_id\":167514,\"description\":\"Kraft Foods, Shake N Bake Original Recipe, Coating for Pork, dry\",\"portion\":[{\"seq_num\":1,\"amount\":1.0,\"modifier\":\"serving\",\"gram_weight\":28.0}],\"nutrient\":[{\"nutrient_id\":1062,\"nutrient_name\":\"Energy\",\"nutrient_amount\":1577.0,\"nutrient_unit_name\":\"kJ\"},{\"nutrient_id\":1093,\"nutrient_name\":\"Sodium, Na\",\"nutrient_amount\":2182.0,\"nutrient_unit_name\":\"MG\"},{\"nutrient_id\":1004,\"nutrient_name\":\"Total lipid (fat)\",\"nutrient_amount\":3.7,\"nutrient_unit_name\":\"G\"},{\"nutrient_id\":1005,\"nutrient_name\":\"Carbohydrate, by difference\",\"nutrient_amount\":79.8,\"nutrient_unit_name\":\"G\"},{\"nutrient_id\":1008,\"nutrient_name\":\"Energy\",\"nutrient_amount\":377.0,\"nutrient_unit_name\":\"KCAL\"},{\"nutrient_id\":1051,\"nutrient_name\":\"Water\",\"nutrient_amount\":3.2,\"nutrient_unit_name\":\"G\"},{\"nutrient_id\":1003,\"nutrient_name\":\"Protein\",\"nutrient_amount\":6.1,\"nutrient_unit_name\":\"G\"},{\"nutrient_id\":1007,\"nutrient_name\":\"Ash\",\"nutrient_amount\":7.2,\"nutrient_unit_name\":\"G\"}]},{\"fdc_id\":167515,\"description\":\"George Weston Bakeries, Thomas English Muffins\",\"portion\":[{\"seq_num\":1,\"amount\":1.0,\"modifier\":\"serving\",\"gram_weight\":57.0}],\"nutrient\":[{\"nutrient_id\":1105,\"nutrient_name\":\"Retinol\",\"nutrient_amount\":0.0,\"nutrient_unit_name\":\"UG\"},{\"nutrient_id\":1007,\"nutrient_name\":\"Ash\",\"nutrient_amount\":1.6,\"nutrient_unit_name\":\"G\"},{\"nutrient_id\":1051,\"nutrient_name\":\"Water\",\"nutrient_amount\":42.6,\"nutrient_unit_name\":\"G\"},{\"nutrient_id\":1062,\"nutrient_name\":\"Energy\",\"nutrient_amount\":972.0,\"nutrient_unit_name\":\"kJ\"},{\"nutrient_id\":1089,\"nutrient_name\":\"Iron, Fe\",\"nutrient_amount\":1.4,\"nutrient_unit_name\":\"MG\"},{\"nutrient_id\":1093,\"nutrient_name\":\"Sodium, Na\",\"nutrient_amount\":345.0,\"nutrient_unit_name\":\"MG\"},{\"nutrient_id\":1104,\"nutrient_name\":\"Vitamin A, IU\",\"nutrient_amount\":0.0,\"nutrient_unit_name\":\"IU\"},{\"nutrient_id\":1106,\"nutrient_name\":\"Vitamin A, RAE\",\"nutrient_amount\":0.0,\"nutrient_unit_name\":\"UG\"},{\"nutrient_id\":1177,\"nutrient_name\":\"Folate, total\",\"nutrient_amount\":40.0,\"nutrient_unit_name\":\"UG\"},{\"nutrient_id\":1257,\"nutrient_name\":\"Fatty acids, total trans\",\"nutrient_amount\":0.082,\"nutrient_unit_name\":\"G\"},{\"nutrient_id\":1258,\"nutrient_name\":\"Fatty acids, total saturated\",\"nutrient_amount\":0.308,\"nutrient_unit_name\":\"G\"},{\"nutrient_id\":1003,\"nutrient_name\":\"Protein\",\"nutrient_amount\":8.0,\"nutrient_unit_name\":\"G\"},{\"nutrient_id\":1087,\"nutrient_name\":\"Calcium, Ca\",\"nutrient_amount\":180.0,\"nutrient_unit_name\":\"MG\"},{\"nutrient_id\":1265,\"nutrient_name\":\"SFA 16:0\",\"nutrient_amount\":0.308,\"nutrient_unit_name\":\"G\"},{\"nutrient_id\":1268,\"nutrient_name\":\"MUFA 18:1\",\"nutrient_amount\":0.303,\"nutrient_unit_name\":\"G\"},{\"nutrient_id\":1269,\"nutrient_name\":\"PUFA 18:2\",\"nutrient_amount\":0.841,\"nutrient_unit_name\":\"G\"},{\"nutrient_id\":1270,\"nutrient_name\":\"PUFA 18:3\",\"nutrient_amount\":0.079,\"nutrient_unit_name\":\"G\"},{\"nutrient_id\":1292,\"nutrient_name\":\"Fatty acids, total monounsaturated\",\"nutrient_amount\":0.303,\"nutrient_unit_name\":\"G\"},{\"nutrient_id\":1293,\"nutrient_name\":\"Fatty acids, total polyunsaturated\",\"nutrient_amount\":0.92,\"nutrient_unit_name\":\"G\"},{\"nutrient_id\":1004,\"nutrient_name\":\"Total lipid (fat)\",\"nutrient_amount\":1.8,\"nutrient_unit_name\":\"G\"},{\"nutrient_id\":1005,\"nutrient_name\":\"Carbohydrate, by difference\",\"nutrient_amount\":46.0,\"nutrient_unit_name\":\"G\"},{\"nutrient_id\":1008,\"nutrient_name\":\"Energy\",\"nutrient_amount\":232.0,\"nutrient_unit_name\":\"KCAL\"}]},{\"fdc_id\":167516,\"description\":\"Waffles, buttermilk, frozen, ready-to-heat\",\"portion\":[{\"seq_num\":1,\"amount\":1.0,\"modifier\":\"waffle, square\",\"gram_weight\":39.0},{\"seq_num\":2,\"amount\":1.0,\"modifier\":\"waffle, round\",\"gram_weight\":38.0}],\"nutrient\":[{\"nutrient_id\":1258,\"nutrient_name\":\"Fatty acids, total saturated\",\"nutrient_amount\":1.898,\"nutrient_unit_name\":\"G\"},{\"nutrient_id\":1104,\"nutrient_name\":\"Vitamin A, IU\",\"nutrient_amount\":1340.0,\"nutrient_unit_name\":\"IU\"},{\"nutrient_id\":1106,\"nutrient_name\":\"Vitamin A, RAE\",\"nutrient_amount\":401.0,\"nutrient_unit_name\":\"UG\"},{\"nutrient_id\":1293,\"nutrient_name\":\"Fatty acids, total polyunsaturated\",\"nutrient_amount\":1.445,\"nutrient_unit_name\":\"G\"},{\"nutrient_id\":1190,\"nutrient_name\":\"Folate, DFE\",\"nutrient_amount\":96.0,\"nutrient_unit_name\":\"UG\"},{\"nutrient_id\":1166,\"nutrient_name\":\"Riboflavin\",\"nutrient_amount\":0.665,\"nutrient_unit_name\":\"MG\"},{\"nutrient_id\":1177,\"nutrient_name\":\"Folate, total\",\"nutrient_amount\":63.0,\"nutrient_unit_name\":\"UG\"},{\"nutrient_id\":1178,\"nutrient_name\":\"Vitamin B-12\",\"nutrient_amount\":2.86,\"nutrient_unit_name\":\"UG\"},{\"nutrient_id\":1184,\"nutrient_name\":\"Vitamin K (Dihydrophylloquinone)\",\"nutrient_amount\":17.9,\"nutrient_unit_name\":\"UG\"},{\"nutrient_id\":1185,\"nutrient_name\":\"Vitamin K (phylloquinone)\",\"nutrient_amount\":10.5,\"nutrient_unit_name\":\"UG\"},{\"nutrient_id\":1187,\"nutrient_name\":\"Folate, food\",\"nutrient_amount\":14.0,\"nutrient_unit_name\":\"UG\"},{\"nutrient_id\":1210,\"nutrient_name\":\"Tryptophan\",\"nutrient_amount\":0.074,\"nutrient_unit_name\":\"G\"},{\"nutrient_id\":1211,\"nutrient_name\":\"Threonine\",\"nutrient_amount\":0.225,\"nutrient_unit_name\":\"G\"},{\"nutrient_id\":1215,\"nutrient_name\":\"Methionine\",\"nutrient_amount\":0.133,\"nutrient_unit_name\":\"G\"},{\"nutrient_id\":1217,\"nutrient_name\":\"Phenylalanine\",\"nutrient_amount\":0.304,\"nutrient_unit_name\":\"G\"},{\"nutrient_id\":1107,\"nutrient_name\":\"Carotene, beta\",\"nutrient_amount\":2.0,\"nutrient_unit_name\":\"UG\"},{\"nutrient_id\":1108,\"nutrient_name\":\"Carotene, alpha\",\"nutrient_amount\":0.0,\"nutrient_unit_name\":\"UG\"},{\"nutrient_id\":1120,\"nutrient_name\":\"Cryptoxanthin, beta\",\"nutrient_amount\":2.0,\"nutrient_unit_name\":\"UG\"},{\"nutrient_id\":1122,\"nutrient_name\":\"Lycopene\",\"nutrient_amount\":0.0,\"nutrient_unit_name\":\"UG\"},{\"nutrient_id\":1127,\"nutrient_name\":\"Tocopherol, delta\",\"nutrient_amount\":1.27,\"nutrient_unit_name\":\"MG\"},{\"nutrient_id\":1130,\"nutrient_name\":\"Tocotrienol, gamma\",\"nutrient_amount\":0.0,\"nutrient_unit_name\":\"MG\"},{\"nutrient_id\":1131,\"nutrient_name\":\"Tocotrienol, delta\",\"nutrient_amount\":0.0,\"nutrient_unit_name\":\"MG\"},{\"nutrient_id\":1162,\"nutrient_name\":\"Vitamin C, total ascorbic acid\",\"nutrient_amount\":0.0,\"nutrient_unit_name\":\"MG\"},{\"nutrient_id\":1165,\"nutrient_name\":\"Thiamin\",\"nutrient_amount\":0.499,\"nutrient_unit_name\":\"MG\"},{\"nutrient_id\":1003,\"nutrient_name\":\"Protein\",\"nutrient_amount\":6.58,\"nutrient_unit_name\":\"G\"},{\"nutrient_id\":1007,\"nutrient_name\":\"Ash\",\"nutrient_amount\":2.81,\"nutrient_unit_name\":\"G\"},{\"nutrient_id\":1009,\"nutrient_name\":\"Starch\",\"nutrient_amount\":35.51,\"nutrient_unit_name\":\"G\"},{\"nutrient_id\":1012,\"nutrient_name\":\"Fructose\",\"nutrient_amount\":0.0,\"nutrient_unit_name\":\"G\"},{\"nutrient_id\":1013,\"nutrient_name\":\"Lactose\",\"nutrient_amount\":1.35,\"nutrient_unit_name\":\"G\"},{\"nutrient_id\":1018,\"nutrient_name\":\"Alcohol, ethyl\",\"nutrient_amount\":0.0,\"nutrient_unit_name\":\"G\"},{\"nutrient_id\":1062,\"nutrient_name\":\"Energy\",\"nutrient_amount\":1144.0,\"nutrient_unit_name\":\"kJ\"},{\"nutrient_id\":1075,\"nutrient_name\":\"Galactose\",\"nutrient_amount\":0.0,\"nutrient_unit_name\":\"G\"},{\"nutrient_id\":1079,\"nutrient_name\":\"Fiber, total dietary\",\"nutrient_amount\":2.2,\"nutrient_unit_name\":\"G\"},{\"nutrient_id\":1089,\"nutrient_name\":\"Iron, Fe\",\"nutrient_amount\":6.04,\"nutrient_unit_name\":\"MG\"},{\"nutrient_id\":1090,\"nutrient_name\":\"Magnesium, Mg\",\"nutrient_amount\":19.0,\"nutrient_unit_name\":\"MG\"},{\"nutrient_id\":1091,\"nutrient_name\":\"Phosphorus, P\",\"nutrient_amount\":388.0,\"nutrient_unit_name\":\"MG\"},{\"nutrient_id\":1093,\"nutrient_name\":\"Sodium, Na\",\"nutrient_amount\":621.0,\"nutrient_unit_name\":\"MG\"},{\"nutrient_id\":1098,\"nutrient_name\":\"Copper, Cu\",\"nutrient_amount\":0.04,\"nutrient_unit_name\":\"MG\"},{\"nutrient_id\":1101,\"nutrient_name\":\"Manganese, Mn\",\"nutrient_amount\":0.215,\"nutrient_unit_name\":\"MG\"},{\"nutrient_id\":1105,\"nutrient_name\":\"Retinol\",\"nutrient_amount\":401.0,\"nutrient_unit_name\":\"UG\"},{\"nutrient_id\":1261,\"nutrient_name\":\"SFA 8:0\",\"nutrient_amount\":0.0,\"nutrient_unit_name\":\"G\"},{\"nutrient_id\":1263,\"nutrient_name\":\"SFA 12:0\",\"nutrient_amount\":0.0,\"nutrient_unit_name\":\"G\"},{\"nutrient_id\":1264,\"nutrient_name\":\"SFA 14:0\",\"nutrient_amount\":0.021,\"nutrient_unit_name\":\"G\"},{\"nutrient_id\":1272,\"nutrient_name\":\"PUFA 22:6 n-3 (DHA)\",\"nutrient_amount\":0.007,\"nutrient_unit_name\":\"G\"},{\"nutrient_id\":1273,\"nutrient_name\":\"SFA 22:0\",\"nutrient_amount\":0.03,\"nutrient_unit_name\":\"G\"},{\"nutrient_id\":1274,\"nutrient_name\":\"MUFA 14:1\",\"nutrient_amount\":0.0,\"nutrient_unit_name\":\"G\"},{\"nutrient_id\":1275,\"nutrient_name\":\"MUFA 16:1\",\"nutrient_amount\":0.022,\"nutrient_unit_name\":\"G\"},{\"nutrient_id\":1278,\"nutrient_name\":\"PUFA 2:5 n-3 (EPA)\",\"nutrient_amount\":0.012,\"nutrient_unit_name\":\"G\"},{\"nutrient_id\":1280,\"nutrient_name\":\"PUFA 22:5 n-3 (DPA)\",\"nutrient_amount\":0.0,\"nutrient_unit_name\":\"G\"},{\"nutrient_id\":1300,\"nutrient_name\":\"SFA 17:0\",\"nutrient_amount\":0.01,\"nutrient_unit_name\":\"G\"},{\"nutrient_id\":1323,\"nutrient_name\":\"MUFA 17:1\",\"nutrient_amount\":0.0,\"nutrient_unit_name\":\"G\"},{\"nutrient_id\":1333,\"nutrient_name\":\"MUFA 15:1\",\"nutrient_amount\":0.0,\"nutrient_unit_name\":\"G\"},{\"nutrient_id\":1218,\"nutrient_name\":\"Tyrosine\",\"nutrient_amount\":0.154,\"nutrient_unit_name\":\"G\"},{\"nutrient_id\":1222,\"nutrient_name\":\"Alanine\",\"nutrient_amount\":0.249,\"nutrient_unit_name\":\"G\"},{\"nutrient_id\":1224,\"nutrient_name\":\"Glutamic acid\",\"nutrient_amount\":1.614,\"nutrient_unit_name\":\"G\"},{\"nutrient_id\":1225,\"nutrient_name\":\"Glycine\",\"nutrient_amount\":0.214,\"nutrient_unit_name\":\"G\"},{\"nutrient_id\":1226,\"nutrient_name\":\"Proline\",\"nutrient_amount\":0.559,\"nutrient_unit_name\":\"G\"},{\"nutrient_id\":1246,\"nutrient_name\":\"Vitamin B-12, added\",\"nutrient_amount\":2.7,\"nutrient_unit_name\":\"UG\"},{\"nutrient_id\":1253,\"nutrient_name\":\"Cholesterol\",\"nutrient_amount\":15.0,\"nutrient_unit_name\":\"MG\"},{\"nutrient_id\":1299,\"nutrient_name\":\"SFA 15:0\",\"nutrient_amount\":0.0,\"nutrient_unit_name\":\"G\"},{\"nutrient_id\":1313,\"nutrient_name\":\"PUFA 20:2 n-6 c,c\",\"nutrient_amount\":0.0,\"nutrient_unit_name\":\"G\"},{\"nutrient_id\":1321,\"nutrient_name\":\"PUFA 18:3 n-6 c,c,c\",\"nutrient_amount\":0.0,\"nutrient_unit_name\":\"G\"},{\"nutrient_id\":1325,\"nutrient_name\":\"PUFA 20:3\",\"nutrient_amount\":0.0,\"nutrient_unit_name\":\"G\"},{\"nutrient_id\":1219,\"nutrient_name\":\"Valine\",\"nutrient_amount\":0.326,\"nutrient_unit_name\":\"G\"},{\"nutrient_id\":1220,\"nutrient_name\":\"Arginine\",\"nutrient_amount\":0.282,\"nutrient_unit_name\":\"G\"},{\"nutrient_id\":1221,\"nutrient_name\":\"Histidine\",\"nutrient_amount\":0.143,\"nutrient_unit_name\":\"G\"},{\"nutrient_id\":1223,\"nutrient_name\":\"Aspartic acid\",\"nutrient_amount\":0.406,\"nutrient_unit_name\":\"G\"},{\"nutrient_id\":1227,\"nutrient_name\":\"Serine\",\"nutrient_amount\":0.347,\"nutrient_unit_name\":\"G\"},{\"nutrient_id\":1242,\"nutrient_name\":\"Vitamin E, added\",\"nutrient_amount\":0.0,\"nutrient_unit_name\":\"MG\"},{\"nutrient_id\":1259,\"nutrient_name\":\"SFA 4:0\",\"nutrient_amount\":0.005,\"nutrient_unit_name\":\"G\"},{\"nutrient_id\":1260,\"nutrient_name\":\"SFA 6:0\",\"nutrient_amount\":0.003,\"nutrient_unit_name\":\"G\"},{\"nutrient_id\":1262,\"nutrient_name\":\"SFA 10:0\",\"nutrient_amount\":0.0,\"nutrient_unit_name\":\"G\"},{\"nutrient_id\":1265,\"nutrient_name\":\"SFA 16:0\",\"nutrient_amount\":1.025,\"nutrient_unit_name\":\"G\"},{\"nutrient_id\":1266,\"nutrient_name\":\"SFA 18:0\",\"nutrient_amount\":0.772,\"nutrient_unit_name\":\"G\"},{\"nutrient_id\":1267,\"nutrient_name\":\"SFA 20:0\",\"nutrient_amount\":0.031,\"nutrient_unit_name\":\"G\"},{\"nutrient_id\":1268,\"nutrient_name\":\"MUFA 18:1\",\"nutrient_amount\":4.469,\"nutrient_unit_name\":\"G\"},{\"nutrient_id\":1269,\"nutrient_name\":\"PUFA 18:2\",\"nutrient_amount\":1.414,\"nutrient_unit_name\":\"G\"},{\"nutrient_id\":1270,\"nutrient_name\":\"PUFA 18:3\",\"nutrient_amount\":0.0,\"nutrient_unit_name\":\"G\"},{\"nutrient_id\":1271,\"nutrient_name\":\"PUFA 20:4\",\"nutrient_amount\":0.009,\"nutrient_unit_name\":\"G\"},{\"nutrient_id\":1276,\"nutrient_name\":\"PUFA 18:4\",\"nutrient_amount\":0.002,\"nutrient_unit_name\":\"G\"},{\"nutrient_id\":1277,\"nutrient_name\":\"MUFA 20:1\",\"nutrient_amount\":0.039,\"nutrient_unit_name\":\"G\"},{\"nutrient_id\":1279,\"nutrient_name\":\"MUFA 22:1\",\"nutrient_amount\":0.0,\"nutrient_unit_name\":\"G\"},{\"nutrient_id\":1292,\"nutrient_name\":\"Fatty acids, total monounsaturated\",\"nutrient_amount\":4.53,\"nutrient_unit_name\":\"G\"},{\"nutrient_id\":1008,\"nutrient_name\":\"Energy\",\"nutrient_amount\":273.0,\"nutrient_unit_name\":\"KCAL\"},{\"nutrient_id\":1010,\"nutrient_name\":\"Sucrose\",\"nutrient_amount\":2.67,\"nutrient_unit_name\":\"G\"},{\"nutrient_id\":1011,\"nutrient_name\":\"Glucose (dextrose)\",\"nutrient_amount\":0.0,\"nutrient_unit_name\":\"G\"},{\"nutrient_id\":1014,\"nutrient_name\":\"Maltose\",\"nutrient_amount\":0.29,\"nutrient_unit_name\":\"G\"},{\"nutrient_id\":1051,\"nutrient_name\":\"Water\",\"nutrient_amount\":40.34,\"nutrient_unit_name\":\"G\"},{\"nutrient_id\":1057,\"nutrient_name\":\"Caffeine\",\"nutrient_amount\":0.0,\"nutrient_unit_name\":\"MG\"},{\"nutrient_id\":1058,\"nutrient_name\":\"Theobromine\",\"nutrient_amount\":0.0,\"nutrient_unit_name\":\"MG\"},{\"nutrient_id\":2000,\"nutrient_name\":\"Sugars, total including NLEA\",\"nutrient_amount\":4.3,\"nutrient_unit_name\":\"G\"},{\"nutrient_id\":1087,\"nutrient_name\":\"Calcium, Ca\",\"nutrient_amount\":279.0,\"nutrient_unit_name\":\"MG\"},{\"nutrient_id\":1092,\"nutrient_name\":\"Potassium, K\",\"nutrient_amount\":126.0,\"nutrient_unit_name\":\"MG\"},{\"nutrient_id\":1095,\"nutrient_name\":\"Zinc, Zn\",\"nutrient_amount\":0.48,\"nutrient_unit_name\":\"MG\"},{\"nutrient_id\":1103,\"nutrient_name\":\"Selenium, Se\",\"nutrient_amount\":9.5,\"nutrient_unit_name\":\"UG\"},{\"nutrient_id\":1109,\"nutrient_name\":\"Vitamin E (alpha-tocopherol)\",\"nutrient_amount\":0.62,\"nutrient_unit_name\":\"MG\"},{\"nutrient_id\":1123,\"nutrient_name\":\"Lutein + zeaxanthin\",\"nutrient_amount\":63.0,\"nutrient_unit_name\":\"UG\"},{\"nutrient_id\":1125,\"nutrient_name\":\"Tocopherol, beta\",\"nutrient_amount\":0.07,\"nutrient_unit_name\":\"MG\"},{\"nutrient_id\":1126,\"nutrient_name\":\"Tocopherol, gamma\",\"nutrient_amount\":4.03,\"nutrient_unit_name\":\"MG\"},{\"nutrient_id\":1128,\"nutrient_name\":\"Tocotrienol, alpha\",\"nutrient_amount\":0.03,\"nutrient_unit_name\":\"MG\"},{\"nutrient_id\":1129,\"nutrient_name\":\"Tocotrienol, beta\",\"nutrient_amount\":0.0,\"nutrient_unit_name\":\"MG\"},{\"nutrient_id\":1167,\"nutrient_name\":\"Niacin\",\"nutrient_amount\":6.675,\"nutrient_unit_name\":\"MG\"},{\"nutrient_id\":1170,\"nutrient_name\":\"Pantothenic acid\",\"nutrient_amount\":0.24,\"nutrient_unit_name\":\"MG\"},{\"nutrient_id\":1175,\"nutrient_name\":\"Vitamin B-6\",\"nutrient_amount\":0.972,\"nutrient_unit_name\":\"MG\"},{\"nutrient_id\":1186,\"nutrient_name\":\"Folic acid\",\"nutrient_amount\":49.0,\"nutrient_unit_name\":\"UG\"},{\"nutrient_id\":1004,\"nutrient_name\":\"Total lipid (fat)\",\"nutrient_amount\":9.22,\"nutrient_unit_name\":\"G\"},{\"nutrient_id\":1005,\"nutrient_name\":\"Carbohydrate, by difference\",\"nutrient_amount\":41.05,\"nutrient_unit_name\":\"G\"},{\"nutrient_id\":1212,\"nutrient_name\":\"Isoleucine\",\"nutrient_amount\":0.281,\"nutrient_unit_name\":\"G\"},{\"nutrient_id\":1213,\"nutrient_name\":\"Leucine\",\"nutrient_amount\":0.489,\"nutrient_unit_name\":\"G\"},{\"nutrient_id\":1214,\"nutrient_name\":\"Lysine\",\"nutrient_amount\":0.296,\"nutrient_unit_name\":\"G\"},{\"nutrient_id\":1216,\"nutrient_name\":\"Cystine\",\"nutrient_amount\":0.154,\"nutrient_unit_name\":\"G\"}]},{\"fdc_id\":167517,\"description\":\"Waffle, buttermilk, frozen, ready-to-heat, toasted\",\"portion\":[{\"seq_num\":1,\"amount\":1.0,\"modifier\":\"oz\",\"gram_weight\":28.0},{\"seq_num\":2,\"amount\":1.0,\"modifier\":\"waffle round (4\\\" dia)\",\"gram_weight\":33.0}],\"nutrient\":[{\"nutrient_id\":1110,\"nutrient_name\":\"Vitamin D (D2 + D3), International Units\",\"nutrient_amount\":0.0,\"nutrient_unit_name\":\"IU\"},{\"nutrient_id\":1178,\"nutrient_name\":\"Vitamin B-12\",\"nutrient_amount\":1.62,\"nutrient_unit_name\":\"UG\"},{\"nutrient_id\":1180,\"nutrient_name\":\"Choline, total\",\"nutrient_amount\":28.1,\"nutrient_unit_name\":\"MG\"},{\"nutrient_id\":1190,\"nutrient_name\":\"Folate, DFE\",\"nutrient_amount\":107.0,\"nutrient_unit_name\":\"UG\"},{\"nutrient_id\":1187,\"nutrient_name\":\"Folate, food\",\"nutrient_amount\":13.0,\"nutrient_unit_name\":\"UG\"},{\"nutrient_id\":1292,\"nutrient_name\":\"Fatty acids, total monounsaturated\",\"nutrient_amount\":5.292,\"nutrient_unit_name\":\"G\"},{\"nutrient_id\":1093,\"nutrient_name\":\"Sodium, Na\",\"nutrient_amount\":710.0,\"nutrient_unit_name\":\"MG\"},{\"nutrient_id\":1106,\"nutrient_name\":\"Vitamin A, RAE\",\"nutrient_amount\":438.0,\"nutrient_unit_name\":\"UG\"},{\"nutrient_id\":1127,\"nutrient_name\":\"Tocopherol, delta\",\"nutrient_amount\":1.51,\"nutrient_unit_name\":\"MG\"},{\"nutrient_id\":1130,\"nutrient_name\":\"Tocotrienol, gamma\",\"nutrient_amount\":0.0,\"nutrient_unit_name\":\"MG\"},{\"nutrient_id\":1131,\"nutrient_name\":\"Tocotrienol, delta\",\"nutrient_amount\":0.0,\"nutrient_uni\n"
          ]
        }
      ],
      "source": [
        "#concatenated_nutrients = pd.concat([merged_portion, nutrient])\n",
        "#concatenated_nutrients.sort_values(by='fdc_id', inplace=True)\n",
        "#print(concatenated_nutrients.columns)\n",
        "\n",
        "merged_portion_nutrient = pd.merge(nutrients_dict, merged_portion_json, how='right', on=['fdc_id', 'description'])\n",
        "merged_portion_nutrient.drop(columns='type',inplace=True)\n",
        "merged_portion_nutrient = merged_portion_nutrient[['fdc_id', 'description', 'portion','nutrient']]\n",
        "\n",
        "#to json file\n",
        "res = merged_portion_nutrient.to_json('ingredients.json', orient='records')\n",
        "\n",
        "#print here\n",
        "res = merged_portion_nutrient.to_json(orient='records')\n",
        "print(res[:20000])\n"
      ]
    },
    {
      "cell_type": "markdown",
      "metadata": {
        "id": "50ab68qJOn-3"
      },
      "source": [
        "# exporting to json file "
      ]
    },
    {
      "cell_type": "code",
      "execution_count": null,
      "metadata": {
        "colab": {
          "base_uri": "https://localhost:8080/"
        },
        "id": "ea5bLY4AWRUB",
        "outputId": "2bbd943e-7ed1-42de-a36a-c2676dffd395"
      },
      "outputs": [
        {
          "name": "stdout",
          "output_type": "stream",
          "text": [
            "Uploading file: ingredients.json\n"
          ]
        }
      ],
      "source": [
        "!gupload --to '1sSrmiwT6GX3EylUouR_lakdR3x1qX1xi' ingredients.json "
      ]
    },
    {
      "cell_type": "markdown",
      "metadata": {
        "id": "jJ5Sdqeiki4r"
      },
      "source": [
        "# Product search demo"
      ]
    },
    {
      "cell_type": "code",
      "execution_count": null,
      "metadata": {
        "id": "pz5sEtJc7_7T"
      },
      "outputs": [],
      "source": [
        "#merged_portion_nutrient[merged_portion_nutrient['description'].str.contains('wheat flour',case=False)]\n",
        "pd.set_option('display.max_colwidth', None)\n",
        "dfp = merged_portion_nutrient[merged_portion_nutrient['fdc_id'] == 167705]\n",
        "dfp['nutrient'].to_csv('167705.csv')\n"
      ]
    },
    {
      "cell_type": "code",
      "execution_count": null,
      "metadata": {
        "colab": {
          "base_uri": "https://localhost:8080/"
        },
        "id": "08J8MceT8cKr",
        "outputId": "c9780f8c-1fac-4ffc-ba05-5d8288cd2af5"
      },
      "outputs": [
        {
          "name": "stdout",
          "output_type": "stream",
          "text": [
            "Uploading file: 167705.csv\n"
          ]
        }
      ],
      "source": [
        "!gupload --to '1sSrmiwT6GX3EylUouR_lakdR3x1qX1xi' '167705.csv' "
      ]
    },
    {
      "cell_type": "code",
      "execution_count": null,
      "metadata": {
        "id": "83zUGOqTo6xE"
      },
      "outputs": [],
      "source": []
    }
  ],
  "metadata": {
    "colab": {
      "authorship_tag": "ABX9TyNloEtYSx91sR0o8nbJWUzf",
      "collapsed_sections": [],
      "include_colab_link": true,
      "name": "usda_exploration.ipynb",
      "provenance": []
    },
    "kernelspec": {
      "display_name": "Python 3",
      "name": "python3"
    },
    "language_info": {
      "name": "python"
    }
  },
  "nbformat": 4,
  "nbformat_minor": 0
}
